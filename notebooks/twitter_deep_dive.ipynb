{
 "cells": [
  {
   "cell_type": "code",
   "execution_count": 1,
   "metadata": {},
   "outputs": [],
   "source": [
    "import os\n",
    "import pandas as pd\n",
    "import argparse\n",
    "import pickle\n",
    "from littlebird import TweetReader, TweetWriter\n",
    "from collections import Counter\n",
    "from tqdm import tqdm\n",
    "import json\n",
    "import plotly.graph_objects as go\n",
    "\n",
    "from datetime import datetime, timedelta"
   ]
  },
  {
   "cell_type": "code",
   "execution_count": null,
   "metadata": {},
   "outputs": [],
   "source": [
    "input_folder = '/export/b03/achinta3/files/filtered_tweets'\n",
    "tweets = []\n",
    "for file in tqdm(os.listdir(input_folder)):\n",
    "    with open(os.path.join(input_folder,file), 'r') as f:\n",
    "        tweets.extend(json.load(f))   "
   ]
  },
  {
   "cell_type": "code",
   "execution_count": null,
   "metadata": {},
   "outputs": [],
   "source": [
    "df = pd.DataFrame(tweets)\n",
    "df"
   ]
  },
  {
   "cell_type": "code",
   "execution_count": null,
   "metadata": {},
   "outputs": [],
   "source": [
    "#print unique countries\n",
    "places = df.place\n",
    "df_places = pd.DataFrame.from_records(places)\n",
    "df_places.country_code.unique()"
   ]
  },
  {
   "cell_type": "code",
   "execution_count": null,
   "metadata": {},
   "outputs": [],
   "source": [
    "#sort countries based on number of tweets\n",
    "df_places.groupby('country_code')['country_code'].count().sort_values(ascending=False)"
   ]
  },
  {
   "cell_type": "code",
   "execution_count": null,
   "metadata": {},
   "outputs": [],
   "source": [
    "pd.set_option('display.max_colwidth', -1)\n",
    "pd.set_option('display.max_rows', 1000000)"
   ]
  },
  {
   "cell_type": "code",
   "execution_count": null,
   "metadata": {
    "scrolled": true
   },
   "outputs": [],
   "source": [
    "#full country names for reference\n",
    "df_places.groupby('country')['country'].count().sort_values(ascending=False)"
   ]
  },
  {
   "cell_type": "code",
   "execution_count": null,
   "metadata": {},
   "outputs": [],
   "source": [
    "#ACLED Dataset\n",
    "acled = pd.read_csv('/home/aadelucia/files/minerva/data/2014-01-01-2020-01-01_acled_reduced_only_fatalities.csv') \n",
    "acled"
   ]
  },
  {
   "cell_type": "code",
   "execution_count": null,
   "metadata": {},
   "outputs": [],
   "source": [
    "#Sort countries based on number of ACLED recorded events\n",
    "acled.groupby('country')['country'].count().sort_values(ascending=False)"
   ]
  },
  {
   "cell_type": "code",
   "execution_count": null,
   "metadata": {},
   "outputs": [],
   "source": [
    "#Is fatalites a good indicator of a major event?\n",
    "acled[acled['fatalities']>10 ][['event_date','event_type', 'sub_event_type', 'actor1','assoc_actor_1','region', \n",
    "                                 'country','location','source','source_scale', 'notes', 'fatalities']]"
   ]
  },
  {
   "cell_type": "markdown",
   "metadata": {},
   "source": [
    "# Civil Unrest Over Time"
   ]
  },
  {
   "cell_type": "code",
   "execution_count": 64,
   "metadata": {},
   "outputs": [],
   "source": [
    "from datetime import datetime, timedelta\n",
    " \n",
    "#function to plot percentage of tweets that discuss civil unrest over time    \n",
    "def show_plot(datestr,country):\n",
    "\n",
    "    date = datetime.strptime(datestr, \"%m/%d/%Y\")\n",
    "    start_date = date - timedelta(days=30)\n",
    "    end_date = date + timedelta(days=30)\n",
    "    civil_unrest_ratios = []\n",
    "    dates = []\n",
    "    ratio_str = []\n",
    "\n",
    "    for date in (start_date + timedelta(n) for n in range(60)):\n",
    "        #print(date.strftime('%y_%m_%d'))\n",
    "        file_name = date.strftime('%Y_%m_%d')+f'_{country}.gz'\n",
    "        try:\n",
    "            with open(f'/export/b03/achinta3/files/filtered_tweets/{file_name}_filtered.txt', 'r') as f:\n",
    "                tweets=json.load(f)  \n",
    "        except:\n",
    "            continue\n",
    "        \n",
    "        reader = TweetReader(f'/home/aadelucia/files/minerva/raw_tweets_deduplicated/tweets_en/{file_name}')\n",
    "        alltweets = list(reader.read_tweets())\n",
    "\n",
    "        civil_unrest_ratios.append(len(tweets)/len(alltweets))\n",
    "        ratio_str.append(str(len(tweets))+'/'+str(len(alltweets)))\n",
    "        dates.append(date.strftime('%m/%d/%Y'))\n",
    "\n",
    "    scatter = go.Scatter(x=dates,y=[i*100 for i in civil_unrest_ratios],text=ratio_str)\n",
    "    layout = go.Layout(title='civil unrest ',yaxis={'title': 'ratio'})\n",
    "    fig = go.Figure(data=[scatter], layout=layout)\n",
    "    \n",
    "    fig.update_layout(\n",
    "        title={\n",
    "            #'text': f'Percentage of Tweets Discussing Civil Unrest in {country}',\n",
    "            'text': f'Percentage of Tweets Discussing Civil Unrest in South Africa',\n",
    "            'y':0.9,\n",
    "            'x':0.5,\n",
    "            'font_size': 24,\n",
    "            'xref': 'paper',\n",
    "            'xanchor': 'center',\n",
    "            'yanchor': 'top'},\n",
    "        yaxis_title='Percentage',\n",
    "        yaxis_title_font_size=18,\n",
    "        yaxis_range=[0,35]\n",
    "    )\n",
    "    fig.update_xaxes(\n",
    "        nticks=15,\n",
    "        tickfont_size=15,\n",
    "        tickangle=75\n",
    "    )\n",
    "    fig.show()"
   ]
  },
  {
   "cell_type": "code",
   "execution_count": 63,
   "metadata": {},
   "outputs": [
    {
     "data": {
      "application/vnd.plotly.v1+json": {
       "config": {
        "plotlyServerURL": "https://plot.ly"
       },
       "data": [
        {
         "text": [
          "15/113",
          "15/129",
          "7/132",
          "16/141",
          "22/111",
          "17/163",
          "28/190",
          "18/220",
          "16/178",
          "14/125",
          "34/184",
          "16/149",
          "23/157",
          "24/181",
          "13/122",
          "17/136",
          "6/87",
          "0/1",
          "13/132",
          "15/152",
          "13/106",
          "24/153",
          "11/134",
          "12/127",
          "16/161",
          "18/171",
          "25/142",
          "25/115",
          "18/120",
          "26/144",
          "44/147",
          "44/135",
          "27/116",
          "20/154",
          "47/900",
          "19/124",
          "27/133",
          "21/116",
          "13/67",
          "18/121",
          "21/132",
          "11/98",
          "16/118",
          "17/133",
          "6/92",
          "21/125",
          "11/128",
          "27/132",
          "27/143",
          "6/82",
          "12/128",
          "26/185",
          "12/143",
          "24/156",
          "22/196",
          "27/162",
          "20/136",
          "13/138",
          "4/39"
         ],
         "type": "scatter",
         "x": [
          "08/17/2018",
          "08/18/2018",
          "08/19/2018",
          "08/20/2018",
          "08/21/2018",
          "08/22/2018",
          "08/23/2018",
          "08/24/2018",
          "08/25/2018",
          "08/26/2018",
          "08/27/2018",
          "08/28/2018",
          "08/29/2018",
          "08/30/2018",
          "08/31/2018",
          "09/01/2018",
          "09/02/2018",
          "09/03/2018",
          "09/04/2018",
          "09/05/2018",
          "09/06/2018",
          "09/07/2018",
          "09/08/2018",
          "09/09/2018",
          "09/10/2018",
          "09/11/2018",
          "09/12/2018",
          "09/13/2018",
          "09/14/2018",
          "09/15/2018",
          "09/16/2018",
          "09/17/2018",
          "09/18/2018",
          "09/19/2018",
          "09/20/2018",
          "09/21/2018",
          "09/22/2018",
          "09/23/2018",
          "09/24/2018",
          "09/26/2018",
          "09/27/2018",
          "09/28/2018",
          "09/29/2018",
          "09/30/2018",
          "10/01/2018",
          "10/02/2018",
          "10/03/2018",
          "10/04/2018",
          "10/05/2018",
          "10/06/2018",
          "10/07/2018",
          "10/08/2018",
          "10/09/2018",
          "10/10/2018",
          "10/11/2018",
          "10/12/2018",
          "10/13/2018",
          "10/14/2018",
          "10/15/2018"
         ],
         "y": [
          13.274336283185843,
          11.627906976744185,
          5.303030303030303,
          11.347517730496454,
          19.81981981981982,
          10.429447852760736,
          14.736842105263156,
          8.181818181818182,
          8.98876404494382,
          11.200000000000001,
          18.478260869565215,
          10.738255033557047,
          14.64968152866242,
          13.259668508287293,
          10.655737704918032,
          12.5,
          6.896551724137931,
          0,
          9.848484848484848,
          9.868421052631579,
          12.264150943396226,
          15.686274509803921,
          8.208955223880597,
          9.448818897637794,
          9.937888198757763,
          10.526315789473683,
          17.6056338028169,
          21.73913043478261,
          15,
          18.055555555555554,
          29.931972789115648,
          32.592592592592595,
          23.275862068965516,
          12.987012987012985,
          5.222222222222222,
          15.32258064516129,
          20.30075187969925,
          18.103448275862068,
          19.402985074626866,
          14.87603305785124,
          15.909090909090908,
          11.224489795918368,
          13.559322033898304,
          12.781954887218044,
          6.521739130434782,
          16.8,
          8.59375,
          20.454545454545457,
          18.88111888111888,
          7.317073170731707,
          9.375,
          14.054054054054054,
          8.391608391608392,
          15.384615384615385,
          11.224489795918368,
          16.666666666666664,
          14.705882352941178,
          9.420289855072465,
          10.256410256410255
         ]
        }
       ],
       "layout": {
        "template": {
         "data": {
          "bar": [
           {
            "error_x": {
             "color": "#2a3f5f"
            },
            "error_y": {
             "color": "#2a3f5f"
            },
            "marker": {
             "line": {
              "color": "#E5ECF6",
              "width": 0.5
             }
            },
            "type": "bar"
           }
          ],
          "barpolar": [
           {
            "marker": {
             "line": {
              "color": "#E5ECF6",
              "width": 0.5
             }
            },
            "type": "barpolar"
           }
          ],
          "carpet": [
           {
            "aaxis": {
             "endlinecolor": "#2a3f5f",
             "gridcolor": "white",
             "linecolor": "white",
             "minorgridcolor": "white",
             "startlinecolor": "#2a3f5f"
            },
            "baxis": {
             "endlinecolor": "#2a3f5f",
             "gridcolor": "white",
             "linecolor": "white",
             "minorgridcolor": "white",
             "startlinecolor": "#2a3f5f"
            },
            "type": "carpet"
           }
          ],
          "choropleth": [
           {
            "colorbar": {
             "outlinewidth": 0,
             "ticks": ""
            },
            "type": "choropleth"
           }
          ],
          "contour": [
           {
            "colorbar": {
             "outlinewidth": 0,
             "ticks": ""
            },
            "colorscale": [
             [
              0,
              "#0d0887"
             ],
             [
              0.1111111111111111,
              "#46039f"
             ],
             [
              0.2222222222222222,
              "#7201a8"
             ],
             [
              0.3333333333333333,
              "#9c179e"
             ],
             [
              0.4444444444444444,
              "#bd3786"
             ],
             [
              0.5555555555555556,
              "#d8576b"
             ],
             [
              0.6666666666666666,
              "#ed7953"
             ],
             [
              0.7777777777777778,
              "#fb9f3a"
             ],
             [
              0.8888888888888888,
              "#fdca26"
             ],
             [
              1,
              "#f0f921"
             ]
            ],
            "type": "contour"
           }
          ],
          "contourcarpet": [
           {
            "colorbar": {
             "outlinewidth": 0,
             "ticks": ""
            },
            "type": "contourcarpet"
           }
          ],
          "heatmap": [
           {
            "colorbar": {
             "outlinewidth": 0,
             "ticks": ""
            },
            "colorscale": [
             [
              0,
              "#0d0887"
             ],
             [
              0.1111111111111111,
              "#46039f"
             ],
             [
              0.2222222222222222,
              "#7201a8"
             ],
             [
              0.3333333333333333,
              "#9c179e"
             ],
             [
              0.4444444444444444,
              "#bd3786"
             ],
             [
              0.5555555555555556,
              "#d8576b"
             ],
             [
              0.6666666666666666,
              "#ed7953"
             ],
             [
              0.7777777777777778,
              "#fb9f3a"
             ],
             [
              0.8888888888888888,
              "#fdca26"
             ],
             [
              1,
              "#f0f921"
             ]
            ],
            "type": "heatmap"
           }
          ],
          "heatmapgl": [
           {
            "colorbar": {
             "outlinewidth": 0,
             "ticks": ""
            },
            "colorscale": [
             [
              0,
              "#0d0887"
             ],
             [
              0.1111111111111111,
              "#46039f"
             ],
             [
              0.2222222222222222,
              "#7201a8"
             ],
             [
              0.3333333333333333,
              "#9c179e"
             ],
             [
              0.4444444444444444,
              "#bd3786"
             ],
             [
              0.5555555555555556,
              "#d8576b"
             ],
             [
              0.6666666666666666,
              "#ed7953"
             ],
             [
              0.7777777777777778,
              "#fb9f3a"
             ],
             [
              0.8888888888888888,
              "#fdca26"
             ],
             [
              1,
              "#f0f921"
             ]
            ],
            "type": "heatmapgl"
           }
          ],
          "histogram": [
           {
            "marker": {
             "colorbar": {
              "outlinewidth": 0,
              "ticks": ""
             }
            },
            "type": "histogram"
           }
          ],
          "histogram2d": [
           {
            "colorbar": {
             "outlinewidth": 0,
             "ticks": ""
            },
            "colorscale": [
             [
              0,
              "#0d0887"
             ],
             [
              0.1111111111111111,
              "#46039f"
             ],
             [
              0.2222222222222222,
              "#7201a8"
             ],
             [
              0.3333333333333333,
              "#9c179e"
             ],
             [
              0.4444444444444444,
              "#bd3786"
             ],
             [
              0.5555555555555556,
              "#d8576b"
             ],
             [
              0.6666666666666666,
              "#ed7953"
             ],
             [
              0.7777777777777778,
              "#fb9f3a"
             ],
             [
              0.8888888888888888,
              "#fdca26"
             ],
             [
              1,
              "#f0f921"
             ]
            ],
            "type": "histogram2d"
           }
          ],
          "histogram2dcontour": [
           {
            "colorbar": {
             "outlinewidth": 0,
             "ticks": ""
            },
            "colorscale": [
             [
              0,
              "#0d0887"
             ],
             [
              0.1111111111111111,
              "#46039f"
             ],
             [
              0.2222222222222222,
              "#7201a8"
             ],
             [
              0.3333333333333333,
              "#9c179e"
             ],
             [
              0.4444444444444444,
              "#bd3786"
             ],
             [
              0.5555555555555556,
              "#d8576b"
             ],
             [
              0.6666666666666666,
              "#ed7953"
             ],
             [
              0.7777777777777778,
              "#fb9f3a"
             ],
             [
              0.8888888888888888,
              "#fdca26"
             ],
             [
              1,
              "#f0f921"
             ]
            ],
            "type": "histogram2dcontour"
           }
          ],
          "mesh3d": [
           {
            "colorbar": {
             "outlinewidth": 0,
             "ticks": ""
            },
            "type": "mesh3d"
           }
          ],
          "parcoords": [
           {
            "line": {
             "colorbar": {
              "outlinewidth": 0,
              "ticks": ""
             }
            },
            "type": "parcoords"
           }
          ],
          "pie": [
           {
            "automargin": true,
            "type": "pie"
           }
          ],
          "scatter": [
           {
            "marker": {
             "colorbar": {
              "outlinewidth": 0,
              "ticks": ""
             }
            },
            "type": "scatter"
           }
          ],
          "scatter3d": [
           {
            "line": {
             "colorbar": {
              "outlinewidth": 0,
              "ticks": ""
             }
            },
            "marker": {
             "colorbar": {
              "outlinewidth": 0,
              "ticks": ""
             }
            },
            "type": "scatter3d"
           }
          ],
          "scattercarpet": [
           {
            "marker": {
             "colorbar": {
              "outlinewidth": 0,
              "ticks": ""
             }
            },
            "type": "scattercarpet"
           }
          ],
          "scattergeo": [
           {
            "marker": {
             "colorbar": {
              "outlinewidth": 0,
              "ticks": ""
             }
            },
            "type": "scattergeo"
           }
          ],
          "scattergl": [
           {
            "marker": {
             "colorbar": {
              "outlinewidth": 0,
              "ticks": ""
             }
            },
            "type": "scattergl"
           }
          ],
          "scattermapbox": [
           {
            "marker": {
             "colorbar": {
              "outlinewidth": 0,
              "ticks": ""
             }
            },
            "type": "scattermapbox"
           }
          ],
          "scatterpolar": [
           {
            "marker": {
             "colorbar": {
              "outlinewidth": 0,
              "ticks": ""
             }
            },
            "type": "scatterpolar"
           }
          ],
          "scatterpolargl": [
           {
            "marker": {
             "colorbar": {
              "outlinewidth": 0,
              "ticks": ""
             }
            },
            "type": "scatterpolargl"
           }
          ],
          "scatterternary": [
           {
            "marker": {
             "colorbar": {
              "outlinewidth": 0,
              "ticks": ""
             }
            },
            "type": "scatterternary"
           }
          ],
          "surface": [
           {
            "colorbar": {
             "outlinewidth": 0,
             "ticks": ""
            },
            "colorscale": [
             [
              0,
              "#0d0887"
             ],
             [
              0.1111111111111111,
              "#46039f"
             ],
             [
              0.2222222222222222,
              "#7201a8"
             ],
             [
              0.3333333333333333,
              "#9c179e"
             ],
             [
              0.4444444444444444,
              "#bd3786"
             ],
             [
              0.5555555555555556,
              "#d8576b"
             ],
             [
              0.6666666666666666,
              "#ed7953"
             ],
             [
              0.7777777777777778,
              "#fb9f3a"
             ],
             [
              0.8888888888888888,
              "#fdca26"
             ],
             [
              1,
              "#f0f921"
             ]
            ],
            "type": "surface"
           }
          ],
          "table": [
           {
            "cells": {
             "fill": {
              "color": "#EBF0F8"
             },
             "line": {
              "color": "white"
             }
            },
            "header": {
             "fill": {
              "color": "#C8D4E3"
             },
             "line": {
              "color": "white"
             }
            },
            "type": "table"
           }
          ]
         },
         "layout": {
          "annotationdefaults": {
           "arrowcolor": "#2a3f5f",
           "arrowhead": 0,
           "arrowwidth": 1
          },
          "coloraxis": {
           "colorbar": {
            "outlinewidth": 0,
            "ticks": ""
           }
          },
          "colorscale": {
           "diverging": [
            [
             0,
             "#8e0152"
            ],
            [
             0.1,
             "#c51b7d"
            ],
            [
             0.2,
             "#de77ae"
            ],
            [
             0.3,
             "#f1b6da"
            ],
            [
             0.4,
             "#fde0ef"
            ],
            [
             0.5,
             "#f7f7f7"
            ],
            [
             0.6,
             "#e6f5d0"
            ],
            [
             0.7,
             "#b8e186"
            ],
            [
             0.8,
             "#7fbc41"
            ],
            [
             0.9,
             "#4d9221"
            ],
            [
             1,
             "#276419"
            ]
           ],
           "sequential": [
            [
             0,
             "#0d0887"
            ],
            [
             0.1111111111111111,
             "#46039f"
            ],
            [
             0.2222222222222222,
             "#7201a8"
            ],
            [
             0.3333333333333333,
             "#9c179e"
            ],
            [
             0.4444444444444444,
             "#bd3786"
            ],
            [
             0.5555555555555556,
             "#d8576b"
            ],
            [
             0.6666666666666666,
             "#ed7953"
            ],
            [
             0.7777777777777778,
             "#fb9f3a"
            ],
            [
             0.8888888888888888,
             "#fdca26"
            ],
            [
             1,
             "#f0f921"
            ]
           ],
           "sequentialminus": [
            [
             0,
             "#0d0887"
            ],
            [
             0.1111111111111111,
             "#46039f"
            ],
            [
             0.2222222222222222,
             "#7201a8"
            ],
            [
             0.3333333333333333,
             "#9c179e"
            ],
            [
             0.4444444444444444,
             "#bd3786"
            ],
            [
             0.5555555555555556,
             "#d8576b"
            ],
            [
             0.6666666666666666,
             "#ed7953"
            ],
            [
             0.7777777777777778,
             "#fb9f3a"
            ],
            [
             0.8888888888888888,
             "#fdca26"
            ],
            [
             1,
             "#f0f921"
            ]
           ]
          },
          "colorway": [
           "#636efa",
           "#EF553B",
           "#00cc96",
           "#ab63fa",
           "#FFA15A",
           "#19d3f3",
           "#FF6692",
           "#B6E880",
           "#FF97FF",
           "#FECB52"
          ],
          "font": {
           "color": "#2a3f5f"
          },
          "geo": {
           "bgcolor": "white",
           "lakecolor": "white",
           "landcolor": "#E5ECF6",
           "showlakes": true,
           "showland": true,
           "subunitcolor": "white"
          },
          "hoverlabel": {
           "align": "left"
          },
          "hovermode": "closest",
          "mapbox": {
           "style": "light"
          },
          "paper_bgcolor": "white",
          "plot_bgcolor": "#E5ECF6",
          "polar": {
           "angularaxis": {
            "gridcolor": "white",
            "linecolor": "white",
            "ticks": ""
           },
           "bgcolor": "#E5ECF6",
           "radialaxis": {
            "gridcolor": "white",
            "linecolor": "white",
            "ticks": ""
           }
          },
          "scene": {
           "xaxis": {
            "backgroundcolor": "#E5ECF6",
            "gridcolor": "white",
            "gridwidth": 2,
            "linecolor": "white",
            "showbackground": true,
            "ticks": "",
            "zerolinecolor": "white"
           },
           "yaxis": {
            "backgroundcolor": "#E5ECF6",
            "gridcolor": "white",
            "gridwidth": 2,
            "linecolor": "white",
            "showbackground": true,
            "ticks": "",
            "zerolinecolor": "white"
           },
           "zaxis": {
            "backgroundcolor": "#E5ECF6",
            "gridcolor": "white",
            "gridwidth": 2,
            "linecolor": "white",
            "showbackground": true,
            "ticks": "",
            "zerolinecolor": "white"
           }
          },
          "shapedefaults": {
           "line": {
            "color": "#2a3f5f"
           }
          },
          "ternary": {
           "aaxis": {
            "gridcolor": "white",
            "linecolor": "white",
            "ticks": ""
           },
           "baxis": {
            "gridcolor": "white",
            "linecolor": "white",
            "ticks": ""
           },
           "bgcolor": "#E5ECF6",
           "caxis": {
            "gridcolor": "white",
            "linecolor": "white",
            "ticks": ""
           }
          },
          "title": {
           "x": 0.05
          },
          "xaxis": {
           "automargin": true,
           "gridcolor": "white",
           "linecolor": "white",
           "ticks": "",
           "title": {
            "standoff": 15
           },
           "zerolinecolor": "white",
           "zerolinewidth": 2
          },
          "yaxis": {
           "automargin": true,
           "gridcolor": "white",
           "linecolor": "white",
           "ticks": "",
           "title": {
            "standoff": 15
           },
           "zerolinecolor": "white",
           "zerolinewidth": 2
          }
         }
        },
        "title": {
         "font": {
          "size": 24
         },
         "text": "Percentage of Tweets Discussing Civil Unrest in Ethiopia",
         "x": 0.5,
         "xanchor": "center",
         "xref": "paper",
         "y": 0.9,
         "yanchor": "top"
        },
        "xaxis": {
         "nticks": 15,
         "tickangle": 75,
         "tickfont": {
          "size": 15
         }
        },
        "yaxis": {
         "range": [
          0,
          35
         ],
         "title": {
          "font": {
           "size": 18
          },
          "text": "Percentage"
         }
        }
       }
      },
      "text/html": [
       "<div>\n",
       "        \n",
       "        \n",
       "            <div id=\"cf447557-ec99-454d-8e82-734bb1648981\" class=\"plotly-graph-div\" style=\"height:525px; width:100%;\"></div>\n",
       "            <script type=\"text/javascript\">\n",
       "                require([\"plotly\"], function(Plotly) {\n",
       "                    window.PLOTLYENV=window.PLOTLYENV || {};\n",
       "                    \n",
       "                if (document.getElementById(\"cf447557-ec99-454d-8e82-734bb1648981\")) {\n",
       "                    Plotly.newPlot(\n",
       "                        'cf447557-ec99-454d-8e82-734bb1648981',\n",
       "                        [{\"text\": [\"15/113\", \"15/129\", \"7/132\", \"16/141\", \"22/111\", \"17/163\", \"28/190\", \"18/220\", \"16/178\", \"14/125\", \"34/184\", \"16/149\", \"23/157\", \"24/181\", \"13/122\", \"17/136\", \"6/87\", \"0/1\", \"13/132\", \"15/152\", \"13/106\", \"24/153\", \"11/134\", \"12/127\", \"16/161\", \"18/171\", \"25/142\", \"25/115\", \"18/120\", \"26/144\", \"44/147\", \"44/135\", \"27/116\", \"20/154\", \"47/900\", \"19/124\", \"27/133\", \"21/116\", \"13/67\", \"18/121\", \"21/132\", \"11/98\", \"16/118\", \"17/133\", \"6/92\", \"21/125\", \"11/128\", \"27/132\", \"27/143\", \"6/82\", \"12/128\", \"26/185\", \"12/143\", \"24/156\", \"22/196\", \"27/162\", \"20/136\", \"13/138\", \"4/39\"], \"type\": \"scatter\", \"x\": [\"08/17/2018\", \"08/18/2018\", \"08/19/2018\", \"08/20/2018\", \"08/21/2018\", \"08/22/2018\", \"08/23/2018\", \"08/24/2018\", \"08/25/2018\", \"08/26/2018\", \"08/27/2018\", \"08/28/2018\", \"08/29/2018\", \"08/30/2018\", \"08/31/2018\", \"09/01/2018\", \"09/02/2018\", \"09/03/2018\", \"09/04/2018\", \"09/05/2018\", \"09/06/2018\", \"09/07/2018\", \"09/08/2018\", \"09/09/2018\", \"09/10/2018\", \"09/11/2018\", \"09/12/2018\", \"09/13/2018\", \"09/14/2018\", \"09/15/2018\", \"09/16/2018\", \"09/17/2018\", \"09/18/2018\", \"09/19/2018\", \"09/20/2018\", \"09/21/2018\", \"09/22/2018\", \"09/23/2018\", \"09/24/2018\", \"09/26/2018\", \"09/27/2018\", \"09/28/2018\", \"09/29/2018\", \"09/30/2018\", \"10/01/2018\", \"10/02/2018\", \"10/03/2018\", \"10/04/2018\", \"10/05/2018\", \"10/06/2018\", \"10/07/2018\", \"10/08/2018\", \"10/09/2018\", \"10/10/2018\", \"10/11/2018\", \"10/12/2018\", \"10/13/2018\", \"10/14/2018\", \"10/15/2018\"], \"y\": [13.274336283185843, 11.627906976744185, 5.303030303030303, 11.347517730496454, 19.81981981981982, 10.429447852760736, 14.736842105263156, 8.181818181818182, 8.98876404494382, 11.200000000000001, 18.478260869565215, 10.738255033557047, 14.64968152866242, 13.259668508287293, 10.655737704918032, 12.5, 6.896551724137931, 0.0, 9.848484848484848, 9.868421052631579, 12.264150943396226, 15.686274509803921, 8.208955223880597, 9.448818897637794, 9.937888198757763, 10.526315789473683, 17.6056338028169, 21.73913043478261, 15.0, 18.055555555555554, 29.931972789115648, 32.592592592592595, 23.275862068965516, 12.987012987012985, 5.222222222222222, 15.32258064516129, 20.30075187969925, 18.103448275862068, 19.402985074626866, 14.87603305785124, 15.909090909090908, 11.224489795918368, 13.559322033898304, 12.781954887218044, 6.521739130434782, 16.8, 8.59375, 20.454545454545457, 18.88111888111888, 7.317073170731707, 9.375, 14.054054054054054, 8.391608391608392, 15.384615384615385, 11.224489795918368, 16.666666666666664, 14.705882352941178, 9.420289855072465, 10.256410256410255]}],\n",
       "                        {\"template\": {\"data\": {\"bar\": [{\"error_x\": {\"color\": \"#2a3f5f\"}, \"error_y\": {\"color\": \"#2a3f5f\"}, \"marker\": {\"line\": {\"color\": \"#E5ECF6\", \"width\": 0.5}}, \"type\": \"bar\"}], \"barpolar\": [{\"marker\": {\"line\": {\"color\": \"#E5ECF6\", \"width\": 0.5}}, \"type\": \"barpolar\"}], \"carpet\": [{\"aaxis\": {\"endlinecolor\": \"#2a3f5f\", \"gridcolor\": \"white\", \"linecolor\": \"white\", \"minorgridcolor\": \"white\", \"startlinecolor\": \"#2a3f5f\"}, \"baxis\": {\"endlinecolor\": \"#2a3f5f\", \"gridcolor\": \"white\", \"linecolor\": \"white\", \"minorgridcolor\": \"white\", \"startlinecolor\": \"#2a3f5f\"}, \"type\": \"carpet\"}], \"choropleth\": [{\"colorbar\": {\"outlinewidth\": 0, \"ticks\": \"\"}, \"type\": \"choropleth\"}], \"contour\": [{\"colorbar\": {\"outlinewidth\": 0, \"ticks\": \"\"}, \"colorscale\": [[0.0, \"#0d0887\"], [0.1111111111111111, \"#46039f\"], [0.2222222222222222, \"#7201a8\"], [0.3333333333333333, \"#9c179e\"], [0.4444444444444444, \"#bd3786\"], [0.5555555555555556, \"#d8576b\"], [0.6666666666666666, \"#ed7953\"], [0.7777777777777778, \"#fb9f3a\"], [0.8888888888888888, \"#fdca26\"], [1.0, \"#f0f921\"]], \"type\": \"contour\"}], \"contourcarpet\": [{\"colorbar\": {\"outlinewidth\": 0, \"ticks\": \"\"}, \"type\": \"contourcarpet\"}], \"heatmap\": [{\"colorbar\": {\"outlinewidth\": 0, \"ticks\": \"\"}, \"colorscale\": [[0.0, \"#0d0887\"], [0.1111111111111111, \"#46039f\"], [0.2222222222222222, \"#7201a8\"], [0.3333333333333333, \"#9c179e\"], [0.4444444444444444, \"#bd3786\"], [0.5555555555555556, \"#d8576b\"], [0.6666666666666666, \"#ed7953\"], [0.7777777777777778, \"#fb9f3a\"], [0.8888888888888888, \"#fdca26\"], [1.0, \"#f0f921\"]], \"type\": \"heatmap\"}], \"heatmapgl\": [{\"colorbar\": {\"outlinewidth\": 0, \"ticks\": \"\"}, \"colorscale\": [[0.0, \"#0d0887\"], [0.1111111111111111, \"#46039f\"], [0.2222222222222222, \"#7201a8\"], [0.3333333333333333, \"#9c179e\"], [0.4444444444444444, \"#bd3786\"], [0.5555555555555556, \"#d8576b\"], [0.6666666666666666, \"#ed7953\"], [0.7777777777777778, \"#fb9f3a\"], [0.8888888888888888, \"#fdca26\"], [1.0, \"#f0f921\"]], \"type\": \"heatmapgl\"}], \"histogram\": [{\"marker\": {\"colorbar\": {\"outlinewidth\": 0, \"ticks\": \"\"}}, \"type\": \"histogram\"}], \"histogram2d\": [{\"colorbar\": {\"outlinewidth\": 0, \"ticks\": \"\"}, \"colorscale\": [[0.0, \"#0d0887\"], [0.1111111111111111, \"#46039f\"], [0.2222222222222222, \"#7201a8\"], [0.3333333333333333, \"#9c179e\"], [0.4444444444444444, \"#bd3786\"], [0.5555555555555556, \"#d8576b\"], [0.6666666666666666, \"#ed7953\"], [0.7777777777777778, \"#fb9f3a\"], [0.8888888888888888, \"#fdca26\"], [1.0, \"#f0f921\"]], \"type\": \"histogram2d\"}], \"histogram2dcontour\": [{\"colorbar\": {\"outlinewidth\": 0, \"ticks\": \"\"}, \"colorscale\": [[0.0, \"#0d0887\"], [0.1111111111111111, \"#46039f\"], [0.2222222222222222, \"#7201a8\"], [0.3333333333333333, \"#9c179e\"], [0.4444444444444444, \"#bd3786\"], [0.5555555555555556, \"#d8576b\"], [0.6666666666666666, \"#ed7953\"], [0.7777777777777778, \"#fb9f3a\"], [0.8888888888888888, \"#fdca26\"], [1.0, \"#f0f921\"]], \"type\": \"histogram2dcontour\"}], \"mesh3d\": [{\"colorbar\": {\"outlinewidth\": 0, \"ticks\": \"\"}, \"type\": \"mesh3d\"}], \"parcoords\": [{\"line\": {\"colorbar\": {\"outlinewidth\": 0, \"ticks\": \"\"}}, \"type\": \"parcoords\"}], \"pie\": [{\"automargin\": true, \"type\": \"pie\"}], \"scatter\": [{\"marker\": {\"colorbar\": {\"outlinewidth\": 0, \"ticks\": \"\"}}, \"type\": \"scatter\"}], \"scatter3d\": [{\"line\": {\"colorbar\": {\"outlinewidth\": 0, \"ticks\": \"\"}}, \"marker\": {\"colorbar\": {\"outlinewidth\": 0, \"ticks\": \"\"}}, \"type\": \"scatter3d\"}], \"scattercarpet\": [{\"marker\": {\"colorbar\": {\"outlinewidth\": 0, \"ticks\": \"\"}}, \"type\": \"scattercarpet\"}], \"scattergeo\": [{\"marker\": {\"colorbar\": {\"outlinewidth\": 0, \"ticks\": \"\"}}, \"type\": \"scattergeo\"}], \"scattergl\": [{\"marker\": {\"colorbar\": {\"outlinewidth\": 0, \"ticks\": \"\"}}, \"type\": \"scattergl\"}], \"scattermapbox\": [{\"marker\": {\"colorbar\": {\"outlinewidth\": 0, \"ticks\": \"\"}}, \"type\": \"scattermapbox\"}], \"scatterpolar\": [{\"marker\": {\"colorbar\": {\"outlinewidth\": 0, \"ticks\": \"\"}}, \"type\": \"scatterpolar\"}], \"scatterpolargl\": [{\"marker\": {\"colorbar\": {\"outlinewidth\": 0, \"ticks\": \"\"}}, \"type\": \"scatterpolargl\"}], \"scatterternary\": [{\"marker\": {\"colorbar\": {\"outlinewidth\": 0, \"ticks\": \"\"}}, \"type\": \"scatterternary\"}], \"surface\": [{\"colorbar\": {\"outlinewidth\": 0, \"ticks\": \"\"}, \"colorscale\": [[0.0, \"#0d0887\"], [0.1111111111111111, \"#46039f\"], [0.2222222222222222, \"#7201a8\"], [0.3333333333333333, \"#9c179e\"], [0.4444444444444444, \"#bd3786\"], [0.5555555555555556, \"#d8576b\"], [0.6666666666666666, \"#ed7953\"], [0.7777777777777778, \"#fb9f3a\"], [0.8888888888888888, \"#fdca26\"], [1.0, \"#f0f921\"]], \"type\": \"surface\"}], \"table\": [{\"cells\": {\"fill\": {\"color\": \"#EBF0F8\"}, \"line\": {\"color\": \"white\"}}, \"header\": {\"fill\": {\"color\": \"#C8D4E3\"}, \"line\": {\"color\": \"white\"}}, \"type\": \"table\"}]}, \"layout\": {\"annotationdefaults\": {\"arrowcolor\": \"#2a3f5f\", \"arrowhead\": 0, \"arrowwidth\": 1}, \"coloraxis\": {\"colorbar\": {\"outlinewidth\": 0, \"ticks\": \"\"}}, \"colorscale\": {\"diverging\": [[0, \"#8e0152\"], [0.1, \"#c51b7d\"], [0.2, \"#de77ae\"], [0.3, \"#f1b6da\"], [0.4, \"#fde0ef\"], [0.5, \"#f7f7f7\"], [0.6, \"#e6f5d0\"], [0.7, \"#b8e186\"], [0.8, \"#7fbc41\"], [0.9, \"#4d9221\"], [1, \"#276419\"]], \"sequential\": [[0.0, \"#0d0887\"], [0.1111111111111111, \"#46039f\"], [0.2222222222222222, \"#7201a8\"], [0.3333333333333333, \"#9c179e\"], [0.4444444444444444, \"#bd3786\"], [0.5555555555555556, \"#d8576b\"], [0.6666666666666666, \"#ed7953\"], [0.7777777777777778, \"#fb9f3a\"], [0.8888888888888888, \"#fdca26\"], [1.0, \"#f0f921\"]], \"sequentialminus\": [[0.0, \"#0d0887\"], [0.1111111111111111, \"#46039f\"], [0.2222222222222222, \"#7201a8\"], [0.3333333333333333, \"#9c179e\"], [0.4444444444444444, \"#bd3786\"], [0.5555555555555556, \"#d8576b\"], [0.6666666666666666, \"#ed7953\"], [0.7777777777777778, \"#fb9f3a\"], [0.8888888888888888, \"#fdca26\"], [1.0, \"#f0f921\"]]}, \"colorway\": [\"#636efa\", \"#EF553B\", \"#00cc96\", \"#ab63fa\", \"#FFA15A\", \"#19d3f3\", \"#FF6692\", \"#B6E880\", \"#FF97FF\", \"#FECB52\"], \"font\": {\"color\": \"#2a3f5f\"}, \"geo\": {\"bgcolor\": \"white\", \"lakecolor\": \"white\", \"landcolor\": \"#E5ECF6\", \"showlakes\": true, \"showland\": true, \"subunitcolor\": \"white\"}, \"hoverlabel\": {\"align\": \"left\"}, \"hovermode\": \"closest\", \"mapbox\": {\"style\": \"light\"}, \"paper_bgcolor\": \"white\", \"plot_bgcolor\": \"#E5ECF6\", \"polar\": {\"angularaxis\": {\"gridcolor\": \"white\", \"linecolor\": \"white\", \"ticks\": \"\"}, \"bgcolor\": \"#E5ECF6\", \"radialaxis\": {\"gridcolor\": \"white\", \"linecolor\": \"white\", \"ticks\": \"\"}}, \"scene\": {\"xaxis\": {\"backgroundcolor\": \"#E5ECF6\", \"gridcolor\": \"white\", \"gridwidth\": 2, \"linecolor\": \"white\", \"showbackground\": true, \"ticks\": \"\", \"zerolinecolor\": \"white\"}, \"yaxis\": {\"backgroundcolor\": \"#E5ECF6\", \"gridcolor\": \"white\", \"gridwidth\": 2, \"linecolor\": \"white\", \"showbackground\": true, \"ticks\": \"\", \"zerolinecolor\": \"white\"}, \"zaxis\": {\"backgroundcolor\": \"#E5ECF6\", \"gridcolor\": \"white\", \"gridwidth\": 2, \"linecolor\": \"white\", \"showbackground\": true, \"ticks\": \"\", \"zerolinecolor\": \"white\"}}, \"shapedefaults\": {\"line\": {\"color\": \"#2a3f5f\"}}, \"ternary\": {\"aaxis\": {\"gridcolor\": \"white\", \"linecolor\": \"white\", \"ticks\": \"\"}, \"baxis\": {\"gridcolor\": \"white\", \"linecolor\": \"white\", \"ticks\": \"\"}, \"bgcolor\": \"#E5ECF6\", \"caxis\": {\"gridcolor\": \"white\", \"linecolor\": \"white\", \"ticks\": \"\"}}, \"title\": {\"x\": 0.05}, \"xaxis\": {\"automargin\": true, \"gridcolor\": \"white\", \"linecolor\": \"white\", \"ticks\": \"\", \"title\": {\"standoff\": 15}, \"zerolinecolor\": \"white\", \"zerolinewidth\": 2}, \"yaxis\": {\"automargin\": true, \"gridcolor\": \"white\", \"linecolor\": \"white\", \"ticks\": \"\", \"title\": {\"standoff\": 15}, \"zerolinecolor\": \"white\", \"zerolinewidth\": 2}}}, \"title\": {\"font\": {\"size\": 24}, \"text\": \"Percentage of Tweets Discussing Civil Unrest in Ethiopia\", \"x\": 0.5, \"xanchor\": \"center\", \"xref\": \"paper\", \"y\": 0.9, \"yanchor\": \"top\"}, \"xaxis\": {\"nticks\": 15, \"tickangle\": 75, \"tickfont\": {\"size\": 15}}, \"yaxis\": {\"range\": [0, 35], \"title\": {\"font\": {\"size\": 18}, \"text\": \"Percentage\"}}},\n",
       "                        {\"responsive\": true}\n",
       "                    ).then(function(){\n",
       "                            \n",
       "var gd = document.getElementById('cf447557-ec99-454d-8e82-734bb1648981');\n",
       "var x = new MutationObserver(function (mutations, observer) {{\n",
       "        var display = window.getComputedStyle(gd).display;\n",
       "        if (!display || display === 'none') {{\n",
       "            console.log([gd, 'removed!']);\n",
       "            Plotly.purge(gd);\n",
       "            observer.disconnect();\n",
       "        }}\n",
       "}});\n",
       "\n",
       "// Listen for the removal of the full notebook cells\n",
       "var notebookContainer = gd.closest('#notebook-container');\n",
       "if (notebookContainer) {{\n",
       "    x.observe(notebookContainer, {childList: true});\n",
       "}}\n",
       "\n",
       "// Listen for the clearing of the current output cell\n",
       "var outputEl = gd.closest('.output');\n",
       "if (outputEl) {{\n",
       "    x.observe(outputEl, {childList: true});\n",
       "}}\n",
       "\n",
       "                        })\n",
       "                };\n",
       "                });\n",
       "            </script>\n",
       "        </div>"
      ]
     },
     "metadata": {},
     "output_type": "display_data"
    }
   ],
   "source": [
    "#source: https://en.wikipedia.org/wiki/Burayu_massacre\n",
    "show_plot('09/16/2018','ET')"
   ]
  },
  {
   "cell_type": "code",
   "execution_count": 65,
   "metadata": {},
   "outputs": [
    {
     "data": {
      "application/vnd.plotly.v1+json": {
       "config": {
        "plotlyServerURL": "https://plot.ly"
       },
       "data": [
        {
         "text": [
          "2624/37769",
          "2552/36394",
          "2549/37737",
          "2936/40244",
          "2799/37433",
          "2855/37604",
          "1990/33722",
          "2751/37611",
          "2796/36157",
          "2522/37131",
          "2982/42005",
          "2698/37352",
          "2760/35255",
          "2019/35485",
          "2631/36122",
          "2543/36897",
          "2522/36957",
          "3063/36847",
          "2729/37282",
          "2130/34710",
          "2190/34901",
          "1910/33414",
          "2317/34671",
          "2312/37048",
          "3141/38519",
          "2734/37886",
          "2147/33591",
          "1834/30428",
          "2009/34276",
          "10744/43673",
          "13895/48372",
          "12050/46211",
          "6710/40106",
          "4860/38525",
          "3624/32295",
          "3950/34825",
          "4033/34666",
          "3489/37034",
          "3399/36948",
          "3110/36832",
          "3023/33485",
          "2394/34769",
          "2573/34190",
          "2794/35576",
          "3127/37945",
          "3330/40880",
          "3098/37871",
          "2779/34293",
          "2333/35300",
          "2264/35707",
          "2783/37063",
          "2808/38510",
          "2737/38200",
          "2745/38981",
          "2481/37525",
          "1862/33831",
          "2146/35053",
          "2611/39109",
          "2416/42425",
          "2272/35594"
         ],
         "type": "scatter",
         "x": [
          "08/04/2019",
          "08/05/2019",
          "08/06/2019",
          "08/07/2019",
          "08/08/2019",
          "08/09/2019",
          "08/10/2019",
          "08/11/2019",
          "08/12/2019",
          "08/13/2019",
          "08/14/2019",
          "08/15/2019",
          "08/16/2019",
          "08/17/2019",
          "08/18/2019",
          "08/19/2019",
          "08/20/2019",
          "08/21/2019",
          "08/22/2019",
          "08/23/2019",
          "08/24/2019",
          "08/25/2019",
          "08/26/2019",
          "08/27/2019",
          "08/28/2019",
          "08/29/2019",
          "08/30/2019",
          "08/31/2019",
          "09/01/2019",
          "09/02/2019",
          "09/03/2019",
          "09/04/2019",
          "09/05/2019",
          "09/06/2019",
          "09/07/2019",
          "09/08/2019",
          "09/09/2019",
          "09/10/2019",
          "09/11/2019",
          "09/12/2019",
          "09/13/2019",
          "09/14/2019",
          "09/15/2019",
          "09/16/2019",
          "09/17/2019",
          "09/18/2019",
          "09/19/2019",
          "09/20/2019",
          "09/21/2019",
          "09/22/2019",
          "09/23/2019",
          "09/24/2019",
          "09/25/2019",
          "09/26/2019",
          "09/27/2019",
          "09/28/2019",
          "09/29/2019",
          "09/30/2019",
          "10/01/2019",
          "10/02/2019"
         ],
         "y": [
          6.947496624215627,
          7.0121448590426985,
          6.754643983358507,
          7.295497465460691,
          7.4773595490609885,
          7.592277417296033,
          5.901192100112686,
          7.314349525404802,
          7.732942445446249,
          6.79216826910129,
          7.099154862516367,
          7.223174127222102,
          7.8286767834349735,
          5.68972805410737,
          7.283649853275012,
          6.892159254139902,
          6.824146981627297,
          8.312752734279588,
          7.319886272195697,
          6.1365600691443385,
          6.2748918369101165,
          5.7161668761596935,
          6.682818493842116,
          6.240552796372274,
          8.154417300552975,
          7.21638600010558,
          6.391592986216546,
          6.027343236492704,
          5.861244019138756,
          24.601012066952123,
          28.72529562556851,
          26.076042500703295,
          16.730663741086122,
          12.615184944841012,
          11.221551323734325,
          11.342426417803301,
          11.633877574568743,
          9.421072527947292,
          9.19941539460864,
          8.443744569939184,
          9.027922950574885,
          6.885443929937588,
          7.525592278443989,
          7.853609174724534,
          8.240874950586376,
          8.145792563600782,
          8.180401890628714,
          8.103694631557461,
          6.609065155807365,
          6.340493460665976,
          7.50883630574967,
          7.291612568164113,
          7.164921465968586,
          7.041892203894205,
          6.611592271818788,
          5.503827850196565,
          6.122157875217528,
          6.676212636477537,
          5.694755450795522,
          6.383098274990166
         ]
        }
       ],
       "layout": {
        "template": {
         "data": {
          "bar": [
           {
            "error_x": {
             "color": "#2a3f5f"
            },
            "error_y": {
             "color": "#2a3f5f"
            },
            "marker": {
             "line": {
              "color": "#E5ECF6",
              "width": 0.5
             }
            },
            "type": "bar"
           }
          ],
          "barpolar": [
           {
            "marker": {
             "line": {
              "color": "#E5ECF6",
              "width": 0.5
             }
            },
            "type": "barpolar"
           }
          ],
          "carpet": [
           {
            "aaxis": {
             "endlinecolor": "#2a3f5f",
             "gridcolor": "white",
             "linecolor": "white",
             "minorgridcolor": "white",
             "startlinecolor": "#2a3f5f"
            },
            "baxis": {
             "endlinecolor": "#2a3f5f",
             "gridcolor": "white",
             "linecolor": "white",
             "minorgridcolor": "white",
             "startlinecolor": "#2a3f5f"
            },
            "type": "carpet"
           }
          ],
          "choropleth": [
           {
            "colorbar": {
             "outlinewidth": 0,
             "ticks": ""
            },
            "type": "choropleth"
           }
          ],
          "contour": [
           {
            "colorbar": {
             "outlinewidth": 0,
             "ticks": ""
            },
            "colorscale": [
             [
              0,
              "#0d0887"
             ],
             [
              0.1111111111111111,
              "#46039f"
             ],
             [
              0.2222222222222222,
              "#7201a8"
             ],
             [
              0.3333333333333333,
              "#9c179e"
             ],
             [
              0.4444444444444444,
              "#bd3786"
             ],
             [
              0.5555555555555556,
              "#d8576b"
             ],
             [
              0.6666666666666666,
              "#ed7953"
             ],
             [
              0.7777777777777778,
              "#fb9f3a"
             ],
             [
              0.8888888888888888,
              "#fdca26"
             ],
             [
              1,
              "#f0f921"
             ]
            ],
            "type": "contour"
           }
          ],
          "contourcarpet": [
           {
            "colorbar": {
             "outlinewidth": 0,
             "ticks": ""
            },
            "type": "contourcarpet"
           }
          ],
          "heatmap": [
           {
            "colorbar": {
             "outlinewidth": 0,
             "ticks": ""
            },
            "colorscale": [
             [
              0,
              "#0d0887"
             ],
             [
              0.1111111111111111,
              "#46039f"
             ],
             [
              0.2222222222222222,
              "#7201a8"
             ],
             [
              0.3333333333333333,
              "#9c179e"
             ],
             [
              0.4444444444444444,
              "#bd3786"
             ],
             [
              0.5555555555555556,
              "#d8576b"
             ],
             [
              0.6666666666666666,
              "#ed7953"
             ],
             [
              0.7777777777777778,
              "#fb9f3a"
             ],
             [
              0.8888888888888888,
              "#fdca26"
             ],
             [
              1,
              "#f0f921"
             ]
            ],
            "type": "heatmap"
           }
          ],
          "heatmapgl": [
           {
            "colorbar": {
             "outlinewidth": 0,
             "ticks": ""
            },
            "colorscale": [
             [
              0,
              "#0d0887"
             ],
             [
              0.1111111111111111,
              "#46039f"
             ],
             [
              0.2222222222222222,
              "#7201a8"
             ],
             [
              0.3333333333333333,
              "#9c179e"
             ],
             [
              0.4444444444444444,
              "#bd3786"
             ],
             [
              0.5555555555555556,
              "#d8576b"
             ],
             [
              0.6666666666666666,
              "#ed7953"
             ],
             [
              0.7777777777777778,
              "#fb9f3a"
             ],
             [
              0.8888888888888888,
              "#fdca26"
             ],
             [
              1,
              "#f0f921"
             ]
            ],
            "type": "heatmapgl"
           }
          ],
          "histogram": [
           {
            "marker": {
             "colorbar": {
              "outlinewidth": 0,
              "ticks": ""
             }
            },
            "type": "histogram"
           }
          ],
          "histogram2d": [
           {
            "colorbar": {
             "outlinewidth": 0,
             "ticks": ""
            },
            "colorscale": [
             [
              0,
              "#0d0887"
             ],
             [
              0.1111111111111111,
              "#46039f"
             ],
             [
              0.2222222222222222,
              "#7201a8"
             ],
             [
              0.3333333333333333,
              "#9c179e"
             ],
             [
              0.4444444444444444,
              "#bd3786"
             ],
             [
              0.5555555555555556,
              "#d8576b"
             ],
             [
              0.6666666666666666,
              "#ed7953"
             ],
             [
              0.7777777777777778,
              "#fb9f3a"
             ],
             [
              0.8888888888888888,
              "#fdca26"
             ],
             [
              1,
              "#f0f921"
             ]
            ],
            "type": "histogram2d"
           }
          ],
          "histogram2dcontour": [
           {
            "colorbar": {
             "outlinewidth": 0,
             "ticks": ""
            },
            "colorscale": [
             [
              0,
              "#0d0887"
             ],
             [
              0.1111111111111111,
              "#46039f"
             ],
             [
              0.2222222222222222,
              "#7201a8"
             ],
             [
              0.3333333333333333,
              "#9c179e"
             ],
             [
              0.4444444444444444,
              "#bd3786"
             ],
             [
              0.5555555555555556,
              "#d8576b"
             ],
             [
              0.6666666666666666,
              "#ed7953"
             ],
             [
              0.7777777777777778,
              "#fb9f3a"
             ],
             [
              0.8888888888888888,
              "#fdca26"
             ],
             [
              1,
              "#f0f921"
             ]
            ],
            "type": "histogram2dcontour"
           }
          ],
          "mesh3d": [
           {
            "colorbar": {
             "outlinewidth": 0,
             "ticks": ""
            },
            "type": "mesh3d"
           }
          ],
          "parcoords": [
           {
            "line": {
             "colorbar": {
              "outlinewidth": 0,
              "ticks": ""
             }
            },
            "type": "parcoords"
           }
          ],
          "pie": [
           {
            "automargin": true,
            "type": "pie"
           }
          ],
          "scatter": [
           {
            "marker": {
             "colorbar": {
              "outlinewidth": 0,
              "ticks": ""
             }
            },
            "type": "scatter"
           }
          ],
          "scatter3d": [
           {
            "line": {
             "colorbar": {
              "outlinewidth": 0,
              "ticks": ""
             }
            },
            "marker": {
             "colorbar": {
              "outlinewidth": 0,
              "ticks": ""
             }
            },
            "type": "scatter3d"
           }
          ],
          "scattercarpet": [
           {
            "marker": {
             "colorbar": {
              "outlinewidth": 0,
              "ticks": ""
             }
            },
            "type": "scattercarpet"
           }
          ],
          "scattergeo": [
           {
            "marker": {
             "colorbar": {
              "outlinewidth": 0,
              "ticks": ""
             }
            },
            "type": "scattergeo"
           }
          ],
          "scattergl": [
           {
            "marker": {
             "colorbar": {
              "outlinewidth": 0,
              "ticks": ""
             }
            },
            "type": "scattergl"
           }
          ],
          "scattermapbox": [
           {
            "marker": {
             "colorbar": {
              "outlinewidth": 0,
              "ticks": ""
             }
            },
            "type": "scattermapbox"
           }
          ],
          "scatterpolar": [
           {
            "marker": {
             "colorbar": {
              "outlinewidth": 0,
              "ticks": ""
             }
            },
            "type": "scatterpolar"
           }
          ],
          "scatterpolargl": [
           {
            "marker": {
             "colorbar": {
              "outlinewidth": 0,
              "ticks": ""
             }
            },
            "type": "scatterpolargl"
           }
          ],
          "scatterternary": [
           {
            "marker": {
             "colorbar": {
              "outlinewidth": 0,
              "ticks": ""
             }
            },
            "type": "scatterternary"
           }
          ],
          "surface": [
           {
            "colorbar": {
             "outlinewidth": 0,
             "ticks": ""
            },
            "colorscale": [
             [
              0,
              "#0d0887"
             ],
             [
              0.1111111111111111,
              "#46039f"
             ],
             [
              0.2222222222222222,
              "#7201a8"
             ],
             [
              0.3333333333333333,
              "#9c179e"
             ],
             [
              0.4444444444444444,
              "#bd3786"
             ],
             [
              0.5555555555555556,
              "#d8576b"
             ],
             [
              0.6666666666666666,
              "#ed7953"
             ],
             [
              0.7777777777777778,
              "#fb9f3a"
             ],
             [
              0.8888888888888888,
              "#fdca26"
             ],
             [
              1,
              "#f0f921"
             ]
            ],
            "type": "surface"
           }
          ],
          "table": [
           {
            "cells": {
             "fill": {
              "color": "#EBF0F8"
             },
             "line": {
              "color": "white"
             }
            },
            "header": {
             "fill": {
              "color": "#C8D4E3"
             },
             "line": {
              "color": "white"
             }
            },
            "type": "table"
           }
          ]
         },
         "layout": {
          "annotationdefaults": {
           "arrowcolor": "#2a3f5f",
           "arrowhead": 0,
           "arrowwidth": 1
          },
          "coloraxis": {
           "colorbar": {
            "outlinewidth": 0,
            "ticks": ""
           }
          },
          "colorscale": {
           "diverging": [
            [
             0,
             "#8e0152"
            ],
            [
             0.1,
             "#c51b7d"
            ],
            [
             0.2,
             "#de77ae"
            ],
            [
             0.3,
             "#f1b6da"
            ],
            [
             0.4,
             "#fde0ef"
            ],
            [
             0.5,
             "#f7f7f7"
            ],
            [
             0.6,
             "#e6f5d0"
            ],
            [
             0.7,
             "#b8e186"
            ],
            [
             0.8,
             "#7fbc41"
            ],
            [
             0.9,
             "#4d9221"
            ],
            [
             1,
             "#276419"
            ]
           ],
           "sequential": [
            [
             0,
             "#0d0887"
            ],
            [
             0.1111111111111111,
             "#46039f"
            ],
            [
             0.2222222222222222,
             "#7201a8"
            ],
            [
             0.3333333333333333,
             "#9c179e"
            ],
            [
             0.4444444444444444,
             "#bd3786"
            ],
            [
             0.5555555555555556,
             "#d8576b"
            ],
            [
             0.6666666666666666,
             "#ed7953"
            ],
            [
             0.7777777777777778,
             "#fb9f3a"
            ],
            [
             0.8888888888888888,
             "#fdca26"
            ],
            [
             1,
             "#f0f921"
            ]
           ],
           "sequentialminus": [
            [
             0,
             "#0d0887"
            ],
            [
             0.1111111111111111,
             "#46039f"
            ],
            [
             0.2222222222222222,
             "#7201a8"
            ],
            [
             0.3333333333333333,
             "#9c179e"
            ],
            [
             0.4444444444444444,
             "#bd3786"
            ],
            [
             0.5555555555555556,
             "#d8576b"
            ],
            [
             0.6666666666666666,
             "#ed7953"
            ],
            [
             0.7777777777777778,
             "#fb9f3a"
            ],
            [
             0.8888888888888888,
             "#fdca26"
            ],
            [
             1,
             "#f0f921"
            ]
           ]
          },
          "colorway": [
           "#636efa",
           "#EF553B",
           "#00cc96",
           "#ab63fa",
           "#FFA15A",
           "#19d3f3",
           "#FF6692",
           "#B6E880",
           "#FF97FF",
           "#FECB52"
          ],
          "font": {
           "color": "#2a3f5f"
          },
          "geo": {
           "bgcolor": "white",
           "lakecolor": "white",
           "landcolor": "#E5ECF6",
           "showlakes": true,
           "showland": true,
           "subunitcolor": "white"
          },
          "hoverlabel": {
           "align": "left"
          },
          "hovermode": "closest",
          "mapbox": {
           "style": "light"
          },
          "paper_bgcolor": "white",
          "plot_bgcolor": "#E5ECF6",
          "polar": {
           "angularaxis": {
            "gridcolor": "white",
            "linecolor": "white",
            "ticks": ""
           },
           "bgcolor": "#E5ECF6",
           "radialaxis": {
            "gridcolor": "white",
            "linecolor": "white",
            "ticks": ""
           }
          },
          "scene": {
           "xaxis": {
            "backgroundcolor": "#E5ECF6",
            "gridcolor": "white",
            "gridwidth": 2,
            "linecolor": "white",
            "showbackground": true,
            "ticks": "",
            "zerolinecolor": "white"
           },
           "yaxis": {
            "backgroundcolor": "#E5ECF6",
            "gridcolor": "white",
            "gridwidth": 2,
            "linecolor": "white",
            "showbackground": true,
            "ticks": "",
            "zerolinecolor": "white"
           },
           "zaxis": {
            "backgroundcolor": "#E5ECF6",
            "gridcolor": "white",
            "gridwidth": 2,
            "linecolor": "white",
            "showbackground": true,
            "ticks": "",
            "zerolinecolor": "white"
           }
          },
          "shapedefaults": {
           "line": {
            "color": "#2a3f5f"
           }
          },
          "ternary": {
           "aaxis": {
            "gridcolor": "white",
            "linecolor": "white",
            "ticks": ""
           },
           "baxis": {
            "gridcolor": "white",
            "linecolor": "white",
            "ticks": ""
           },
           "bgcolor": "#E5ECF6",
           "caxis": {
            "gridcolor": "white",
            "linecolor": "white",
            "ticks": ""
           }
          },
          "title": {
           "x": 0.05
          },
          "xaxis": {
           "automargin": true,
           "gridcolor": "white",
           "linecolor": "white",
           "ticks": "",
           "title": {
            "standoff": 15
           },
           "zerolinecolor": "white",
           "zerolinewidth": 2
          },
          "yaxis": {
           "automargin": true,
           "gridcolor": "white",
           "linecolor": "white",
           "ticks": "",
           "title": {
            "standoff": 15
           },
           "zerolinecolor": "white",
           "zerolinewidth": 2
          }
         }
        },
        "title": {
         "font": {
          "size": 24
         },
         "text": "Percentage of Tweets Discussing Civil Unrest in South Africa",
         "x": 0.5,
         "xanchor": "center",
         "xref": "paper",
         "y": 0.9,
         "yanchor": "top"
        },
        "xaxis": {
         "nticks": 15,
         "tickangle": 75,
         "tickfont": {
          "size": 15
         }
        },
        "yaxis": {
         "range": [
          0,
          35
         ],
         "title": {
          "font": {
           "size": 18
          },
          "text": "Percentage"
         }
        }
       }
      },
      "text/html": [
       "<div>\n",
       "        \n",
       "        \n",
       "            <div id=\"ecf5b788-3567-40c5-9547-a60d74128422\" class=\"plotly-graph-div\" style=\"height:525px; width:100%;\"></div>\n",
       "            <script type=\"text/javascript\">\n",
       "                require([\"plotly\"], function(Plotly) {\n",
       "                    window.PLOTLYENV=window.PLOTLYENV || {};\n",
       "                    \n",
       "                if (document.getElementById(\"ecf5b788-3567-40c5-9547-a60d74128422\")) {\n",
       "                    Plotly.newPlot(\n",
       "                        'ecf5b788-3567-40c5-9547-a60d74128422',\n",
       "                        [{\"text\": [\"2624/37769\", \"2552/36394\", \"2549/37737\", \"2936/40244\", \"2799/37433\", \"2855/37604\", \"1990/33722\", \"2751/37611\", \"2796/36157\", \"2522/37131\", \"2982/42005\", \"2698/37352\", \"2760/35255\", \"2019/35485\", \"2631/36122\", \"2543/36897\", \"2522/36957\", \"3063/36847\", \"2729/37282\", \"2130/34710\", \"2190/34901\", \"1910/33414\", \"2317/34671\", \"2312/37048\", \"3141/38519\", \"2734/37886\", \"2147/33591\", \"1834/30428\", \"2009/34276\", \"10744/43673\", \"13895/48372\", \"12050/46211\", \"6710/40106\", \"4860/38525\", \"3624/32295\", \"3950/34825\", \"4033/34666\", \"3489/37034\", \"3399/36948\", \"3110/36832\", \"3023/33485\", \"2394/34769\", \"2573/34190\", \"2794/35576\", \"3127/37945\", \"3330/40880\", \"3098/37871\", \"2779/34293\", \"2333/35300\", \"2264/35707\", \"2783/37063\", \"2808/38510\", \"2737/38200\", \"2745/38981\", \"2481/37525\", \"1862/33831\", \"2146/35053\", \"2611/39109\", \"2416/42425\", \"2272/35594\"], \"type\": \"scatter\", \"x\": [\"08/04/2019\", \"08/05/2019\", \"08/06/2019\", \"08/07/2019\", \"08/08/2019\", \"08/09/2019\", \"08/10/2019\", \"08/11/2019\", \"08/12/2019\", \"08/13/2019\", \"08/14/2019\", \"08/15/2019\", \"08/16/2019\", \"08/17/2019\", \"08/18/2019\", \"08/19/2019\", \"08/20/2019\", \"08/21/2019\", \"08/22/2019\", \"08/23/2019\", \"08/24/2019\", \"08/25/2019\", \"08/26/2019\", \"08/27/2019\", \"08/28/2019\", \"08/29/2019\", \"08/30/2019\", \"08/31/2019\", \"09/01/2019\", \"09/02/2019\", \"09/03/2019\", \"09/04/2019\", \"09/05/2019\", \"09/06/2019\", \"09/07/2019\", \"09/08/2019\", \"09/09/2019\", \"09/10/2019\", \"09/11/2019\", \"09/12/2019\", \"09/13/2019\", \"09/14/2019\", \"09/15/2019\", \"09/16/2019\", \"09/17/2019\", \"09/18/2019\", \"09/19/2019\", \"09/20/2019\", \"09/21/2019\", \"09/22/2019\", \"09/23/2019\", \"09/24/2019\", \"09/25/2019\", \"09/26/2019\", \"09/27/2019\", \"09/28/2019\", \"09/29/2019\", \"09/30/2019\", \"10/01/2019\", \"10/02/2019\"], \"y\": [6.947496624215627, 7.0121448590426985, 6.754643983358507, 7.295497465460691, 7.4773595490609885, 7.592277417296033, 5.901192100112686, 7.314349525404802, 7.732942445446249, 6.79216826910129, 7.099154862516367, 7.223174127222102, 7.8286767834349735, 5.68972805410737, 7.283649853275012, 6.892159254139902, 6.824146981627297, 8.312752734279588, 7.319886272195697, 6.1365600691443385, 6.2748918369101165, 5.7161668761596935, 6.682818493842116, 6.240552796372274, 8.154417300552975, 7.21638600010558, 6.391592986216546, 6.027343236492704, 5.861244019138756, 24.601012066952123, 28.72529562556851, 26.076042500703295, 16.730663741086122, 12.615184944841012, 11.221551323734325, 11.342426417803301, 11.633877574568743, 9.421072527947292, 9.19941539460864, 8.443744569939184, 9.027922950574885, 6.885443929937588, 7.525592278443989, 7.853609174724534, 8.240874950586376, 8.145792563600782, 8.180401890628714, 8.103694631557461, 6.609065155807365, 6.340493460665976, 7.50883630574967, 7.291612568164113, 7.164921465968586, 7.041892203894205, 6.611592271818788, 5.503827850196565, 6.122157875217528, 6.676212636477537, 5.694755450795522, 6.383098274990166]}],\n",
       "                        {\"template\": {\"data\": {\"bar\": [{\"error_x\": {\"color\": \"#2a3f5f\"}, \"error_y\": {\"color\": \"#2a3f5f\"}, \"marker\": {\"line\": {\"color\": \"#E5ECF6\", \"width\": 0.5}}, \"type\": \"bar\"}], \"barpolar\": [{\"marker\": {\"line\": {\"color\": \"#E5ECF6\", \"width\": 0.5}}, \"type\": \"barpolar\"}], \"carpet\": [{\"aaxis\": {\"endlinecolor\": \"#2a3f5f\", \"gridcolor\": \"white\", \"linecolor\": \"white\", \"minorgridcolor\": \"white\", \"startlinecolor\": \"#2a3f5f\"}, \"baxis\": {\"endlinecolor\": \"#2a3f5f\", \"gridcolor\": \"white\", \"linecolor\": \"white\", \"minorgridcolor\": \"white\", \"startlinecolor\": \"#2a3f5f\"}, \"type\": \"carpet\"}], \"choropleth\": [{\"colorbar\": {\"outlinewidth\": 0, \"ticks\": \"\"}, \"type\": \"choropleth\"}], \"contour\": [{\"colorbar\": {\"outlinewidth\": 0, \"ticks\": \"\"}, \"colorscale\": [[0.0, \"#0d0887\"], [0.1111111111111111, \"#46039f\"], [0.2222222222222222, \"#7201a8\"], [0.3333333333333333, \"#9c179e\"], [0.4444444444444444, \"#bd3786\"], [0.5555555555555556, \"#d8576b\"], [0.6666666666666666, \"#ed7953\"], [0.7777777777777778, \"#fb9f3a\"], [0.8888888888888888, \"#fdca26\"], [1.0, \"#f0f921\"]], \"type\": \"contour\"}], \"contourcarpet\": [{\"colorbar\": {\"outlinewidth\": 0, \"ticks\": \"\"}, \"type\": \"contourcarpet\"}], \"heatmap\": [{\"colorbar\": {\"outlinewidth\": 0, \"ticks\": \"\"}, \"colorscale\": [[0.0, \"#0d0887\"], [0.1111111111111111, \"#46039f\"], [0.2222222222222222, \"#7201a8\"], [0.3333333333333333, \"#9c179e\"], [0.4444444444444444, \"#bd3786\"], [0.5555555555555556, \"#d8576b\"], [0.6666666666666666, \"#ed7953\"], [0.7777777777777778, \"#fb9f3a\"], [0.8888888888888888, \"#fdca26\"], [1.0, \"#f0f921\"]], \"type\": \"heatmap\"}], \"heatmapgl\": [{\"colorbar\": {\"outlinewidth\": 0, \"ticks\": \"\"}, \"colorscale\": [[0.0, \"#0d0887\"], [0.1111111111111111, \"#46039f\"], [0.2222222222222222, \"#7201a8\"], [0.3333333333333333, \"#9c179e\"], [0.4444444444444444, \"#bd3786\"], [0.5555555555555556, \"#d8576b\"], [0.6666666666666666, \"#ed7953\"], [0.7777777777777778, \"#fb9f3a\"], [0.8888888888888888, \"#fdca26\"], [1.0, \"#f0f921\"]], \"type\": \"heatmapgl\"}], \"histogram\": [{\"marker\": {\"colorbar\": {\"outlinewidth\": 0, \"ticks\": \"\"}}, \"type\": \"histogram\"}], \"histogram2d\": [{\"colorbar\": {\"outlinewidth\": 0, \"ticks\": \"\"}, \"colorscale\": [[0.0, \"#0d0887\"], [0.1111111111111111, \"#46039f\"], [0.2222222222222222, \"#7201a8\"], [0.3333333333333333, \"#9c179e\"], [0.4444444444444444, \"#bd3786\"], [0.5555555555555556, \"#d8576b\"], [0.6666666666666666, \"#ed7953\"], [0.7777777777777778, \"#fb9f3a\"], [0.8888888888888888, \"#fdca26\"], [1.0, \"#f0f921\"]], \"type\": \"histogram2d\"}], \"histogram2dcontour\": [{\"colorbar\": {\"outlinewidth\": 0, \"ticks\": \"\"}, \"colorscale\": [[0.0, \"#0d0887\"], [0.1111111111111111, \"#46039f\"], [0.2222222222222222, \"#7201a8\"], [0.3333333333333333, \"#9c179e\"], [0.4444444444444444, \"#bd3786\"], [0.5555555555555556, \"#d8576b\"], [0.6666666666666666, \"#ed7953\"], [0.7777777777777778, \"#fb9f3a\"], [0.8888888888888888, \"#fdca26\"], [1.0, \"#f0f921\"]], \"type\": \"histogram2dcontour\"}], \"mesh3d\": [{\"colorbar\": {\"outlinewidth\": 0, \"ticks\": \"\"}, \"type\": \"mesh3d\"}], \"parcoords\": [{\"line\": {\"colorbar\": {\"outlinewidth\": 0, \"ticks\": \"\"}}, \"type\": \"parcoords\"}], \"pie\": [{\"automargin\": true, \"type\": \"pie\"}], \"scatter\": [{\"marker\": {\"colorbar\": {\"outlinewidth\": 0, \"ticks\": \"\"}}, \"type\": \"scatter\"}], \"scatter3d\": [{\"line\": {\"colorbar\": {\"outlinewidth\": 0, \"ticks\": \"\"}}, \"marker\": {\"colorbar\": {\"outlinewidth\": 0, \"ticks\": \"\"}}, \"type\": \"scatter3d\"}], \"scattercarpet\": [{\"marker\": {\"colorbar\": {\"outlinewidth\": 0, \"ticks\": \"\"}}, \"type\": \"scattercarpet\"}], \"scattergeo\": [{\"marker\": {\"colorbar\": {\"outlinewidth\": 0, \"ticks\": \"\"}}, \"type\": \"scattergeo\"}], \"scattergl\": [{\"marker\": {\"colorbar\": {\"outlinewidth\": 0, \"ticks\": \"\"}}, \"type\": \"scattergl\"}], \"scattermapbox\": [{\"marker\": {\"colorbar\": {\"outlinewidth\": 0, \"ticks\": \"\"}}, \"type\": \"scattermapbox\"}], \"scatterpolar\": [{\"marker\": {\"colorbar\": {\"outlinewidth\": 0, \"ticks\": \"\"}}, \"type\": \"scatterpolar\"}], \"scatterpolargl\": [{\"marker\": {\"colorbar\": {\"outlinewidth\": 0, \"ticks\": \"\"}}, \"type\": \"scatterpolargl\"}], \"scatterternary\": [{\"marker\": {\"colorbar\": {\"outlinewidth\": 0, \"ticks\": \"\"}}, \"type\": \"scatterternary\"}], \"surface\": [{\"colorbar\": {\"outlinewidth\": 0, \"ticks\": \"\"}, \"colorscale\": [[0.0, \"#0d0887\"], [0.1111111111111111, \"#46039f\"], [0.2222222222222222, \"#7201a8\"], [0.3333333333333333, \"#9c179e\"], [0.4444444444444444, \"#bd3786\"], [0.5555555555555556, \"#d8576b\"], [0.6666666666666666, \"#ed7953\"], [0.7777777777777778, \"#fb9f3a\"], [0.8888888888888888, \"#fdca26\"], [1.0, \"#f0f921\"]], \"type\": \"surface\"}], \"table\": [{\"cells\": {\"fill\": {\"color\": \"#EBF0F8\"}, \"line\": {\"color\": \"white\"}}, \"header\": {\"fill\": {\"color\": \"#C8D4E3\"}, \"line\": {\"color\": \"white\"}}, \"type\": \"table\"}]}, \"layout\": {\"annotationdefaults\": {\"arrowcolor\": \"#2a3f5f\", \"arrowhead\": 0, \"arrowwidth\": 1}, \"coloraxis\": {\"colorbar\": {\"outlinewidth\": 0, \"ticks\": \"\"}}, \"colorscale\": {\"diverging\": [[0, \"#8e0152\"], [0.1, \"#c51b7d\"], [0.2, \"#de77ae\"], [0.3, \"#f1b6da\"], [0.4, \"#fde0ef\"], [0.5, \"#f7f7f7\"], [0.6, \"#e6f5d0\"], [0.7, \"#b8e186\"], [0.8, \"#7fbc41\"], [0.9, \"#4d9221\"], [1, \"#276419\"]], \"sequential\": [[0.0, \"#0d0887\"], [0.1111111111111111, \"#46039f\"], [0.2222222222222222, \"#7201a8\"], [0.3333333333333333, \"#9c179e\"], [0.4444444444444444, \"#bd3786\"], [0.5555555555555556, \"#d8576b\"], [0.6666666666666666, \"#ed7953\"], [0.7777777777777778, \"#fb9f3a\"], [0.8888888888888888, \"#fdca26\"], [1.0, \"#f0f921\"]], \"sequentialminus\": [[0.0, \"#0d0887\"], [0.1111111111111111, \"#46039f\"], [0.2222222222222222, \"#7201a8\"], [0.3333333333333333, \"#9c179e\"], [0.4444444444444444, \"#bd3786\"], [0.5555555555555556, \"#d8576b\"], [0.6666666666666666, \"#ed7953\"], [0.7777777777777778, \"#fb9f3a\"], [0.8888888888888888, \"#fdca26\"], [1.0, \"#f0f921\"]]}, \"colorway\": [\"#636efa\", \"#EF553B\", \"#00cc96\", \"#ab63fa\", \"#FFA15A\", \"#19d3f3\", \"#FF6692\", \"#B6E880\", \"#FF97FF\", \"#FECB52\"], \"font\": {\"color\": \"#2a3f5f\"}, \"geo\": {\"bgcolor\": \"white\", \"lakecolor\": \"white\", \"landcolor\": \"#E5ECF6\", \"showlakes\": true, \"showland\": true, \"subunitcolor\": \"white\"}, \"hoverlabel\": {\"align\": \"left\"}, \"hovermode\": \"closest\", \"mapbox\": {\"style\": \"light\"}, \"paper_bgcolor\": \"white\", \"plot_bgcolor\": \"#E5ECF6\", \"polar\": {\"angularaxis\": {\"gridcolor\": \"white\", \"linecolor\": \"white\", \"ticks\": \"\"}, \"bgcolor\": \"#E5ECF6\", \"radialaxis\": {\"gridcolor\": \"white\", \"linecolor\": \"white\", \"ticks\": \"\"}}, \"scene\": {\"xaxis\": {\"backgroundcolor\": \"#E5ECF6\", \"gridcolor\": \"white\", \"gridwidth\": 2, \"linecolor\": \"white\", \"showbackground\": true, \"ticks\": \"\", \"zerolinecolor\": \"white\"}, \"yaxis\": {\"backgroundcolor\": \"#E5ECF6\", \"gridcolor\": \"white\", \"gridwidth\": 2, \"linecolor\": \"white\", \"showbackground\": true, \"ticks\": \"\", \"zerolinecolor\": \"white\"}, \"zaxis\": {\"backgroundcolor\": \"#E5ECF6\", \"gridcolor\": \"white\", \"gridwidth\": 2, \"linecolor\": \"white\", \"showbackground\": true, \"ticks\": \"\", \"zerolinecolor\": \"white\"}}, \"shapedefaults\": {\"line\": {\"color\": \"#2a3f5f\"}}, \"ternary\": {\"aaxis\": {\"gridcolor\": \"white\", \"linecolor\": \"white\", \"ticks\": \"\"}, \"baxis\": {\"gridcolor\": \"white\", \"linecolor\": \"white\", \"ticks\": \"\"}, \"bgcolor\": \"#E5ECF6\", \"caxis\": {\"gridcolor\": \"white\", \"linecolor\": \"white\", \"ticks\": \"\"}}, \"title\": {\"x\": 0.05}, \"xaxis\": {\"automargin\": true, \"gridcolor\": \"white\", \"linecolor\": \"white\", \"ticks\": \"\", \"title\": {\"standoff\": 15}, \"zerolinecolor\": \"white\", \"zerolinewidth\": 2}, \"yaxis\": {\"automargin\": true, \"gridcolor\": \"white\", \"linecolor\": \"white\", \"ticks\": \"\", \"title\": {\"standoff\": 15}, \"zerolinecolor\": \"white\", \"zerolinewidth\": 2}}}, \"title\": {\"font\": {\"size\": 24}, \"text\": \"Percentage of Tweets Discussing Civil Unrest in South Africa\", \"x\": 0.5, \"xanchor\": \"center\", \"xref\": \"paper\", \"y\": 0.9, \"yanchor\": \"top\"}, \"xaxis\": {\"nticks\": 15, \"tickangle\": 75, \"tickfont\": {\"size\": 15}}, \"yaxis\": {\"range\": [0, 35], \"title\": {\"font\": {\"size\": 18}, \"text\": \"Percentage\"}}},\n",
       "                        {\"responsive\": true}\n",
       "                    ).then(function(){\n",
       "                            \n",
       "var gd = document.getElementById('ecf5b788-3567-40c5-9547-a60d74128422');\n",
       "var x = new MutationObserver(function (mutations, observer) {{\n",
       "        var display = window.getComputedStyle(gd).display;\n",
       "        if (!display || display === 'none') {{\n",
       "            console.log([gd, 'removed!']);\n",
       "            Plotly.purge(gd);\n",
       "            observer.disconnect();\n",
       "        }}\n",
       "}});\n",
       "\n",
       "// Listen for the removal of the full notebook cells\n",
       "var notebookContainer = gd.closest('#notebook-container');\n",
       "if (notebookContainer) {{\n",
       "    x.observe(notebookContainer, {childList: true});\n",
       "}}\n",
       "\n",
       "// Listen for the clearing of the current output cell\n",
       "var outputEl = gd.closest('.output');\n",
       "if (outputEl) {{\n",
       "    x.observe(outputEl, {childList: true});\n",
       "}}\n",
       "\n",
       "                        })\n",
       "                };\n",
       "                });\n",
       "            </script>\n",
       "        </div>"
      ]
     },
     "metadata": {},
     "output_type": "display_data"
    }
   ],
   "source": [
    "#source: https://en.wikipedia.org/wiki/2019_Johannesburg_riots\n",
    "show_plot('09/03/2019','ZA')"
   ]
  },
  {
   "cell_type": "code",
   "execution_count": null,
   "metadata": {},
   "outputs": [],
   "source": [
    "show_plot('01/13/2019','BD')"
   ]
  },
  {
   "cell_type": "code",
   "execution_count": null,
   "metadata": {},
   "outputs": [],
   "source": [
    "show_plot('06/19/2019','NA')\n",
    "#https://monitor.civicus.org/updates/2019/11/04/namibians-take-streets-separate-protests/"
   ]
  },
  {
   "cell_type": "code",
   "execution_count": null,
   "metadata": {},
   "outputs": [],
   "source": [
    "show_plot('06/15/2017','TZ')\n",
    "#no clear peaks"
   ]
  },
  {
   "cell_type": "code",
   "execution_count": null,
   "metadata": {},
   "outputs": [],
   "source": [
    "show_plot('12/12/2015','NG')"
   ]
  },
  {
   "cell_type": "code",
   "execution_count": null,
   "metadata": {},
   "outputs": [],
   "source": [
    "show_plot('01/03/2018','NG')"
   ]
  },
  {
   "cell_type": "code",
   "execution_count": null,
   "metadata": {},
   "outputs": [],
   "source": [
    "acled_full = pd.read_csv('/home/aadelucia/files/minerva/data/2014-01-01-2020-01-01_acled_reduced_all.csv') \n",
    "acled_full[(acled_full.country=='Ethiopia') & (acled_full.event_date=='13 September 2018') ][['event_date','event_type', 'sub_event_type', \n",
    "                                 'country','location','notes', 'fatalities']]"
   ]
  },
  {
   "cell_type": "code",
   "execution_count": null,
   "metadata": {},
   "outputs": [],
   "source": [
    "# 23 people were killed in unrest in Addis Ababa between September 12-14th and over 2,500 youths arrested. Fatalities spread over 9 events.\n",
    "# 6+2+1 = 9 events\n",
    "# 12+6+2 = 20 deaths"
   ]
  },
  {
   "cell_type": "code",
   "execution_count": null,
   "metadata": {},
   "outputs": [],
   "source": [
    "acled_test = acled_full.dropna(subset=['notes'])\n",
    "acled_test = acled_test[acled_test['notes'].str.contains(\"size=\")]\n",
    "acled_test[['event_date','event_type', 'sub_event_type','country','location','notes', 'fatalities']]"
   ]
  },
  {
   "cell_type": "markdown",
   "metadata": {},
   "source": [
    "# Hashtag Trends"
   ]
  },
  {
   "cell_type": "code",
   "execution_count": null,
   "metadata": {},
   "outputs": [],
   "source": [
    "from collections import Counter\n",
    "\n",
    "def get_popular_hashtags(datestr,country):\n",
    "    #datestr = '09/03/2019'\n",
    "    #country = 'ZA'\n",
    "    date = datetime.strptime(datestr, \"%m/%d/%Y\")\n",
    "    file_name = date.strftime('%Y_%m_%d')+f'_{country}.gz'\n",
    "    with open(f'/export/b03/achinta3/files/filtered_tweets/{file_name}_filtered.txt', 'r') as f:\n",
    "                    tweets=json.load(f) \n",
    "\n",
    "    hashtags = []\n",
    "    for tweet in tweets:\n",
    "        hashtags_list = tweet.get('entities').get('hashtags')\n",
    "        if len(hashtags_list)==0:\n",
    "            continue\n",
    "        for h in hashtags_list:\n",
    "            hashtags.append(str(h.get('text')).lower())\n",
    "    return Counter(hashtags).most_common(20)\n",
    "    \n",
    "get_popular_hashtags('09/03/2019','NA')"
   ]
  },
  {
   "cell_type": "code",
   "execution_count": 5,
   "metadata": {},
   "outputs": [],
   "source": [
    "def hashtag_trends1(datestr,hashtag,country,filtered):\n",
    "    date = datetime.strptime(datestr, \"%m/%d/%Y\")\n",
    "    start_date = date - timedelta(days=7)\n",
    "    end_date = date + timedelta(days=7)\n",
    "    hashtag_count = {}\n",
    " \n",
    "    for date in (start_date + timedelta(n) for n in range(14)):\n",
    "        #print(date.strftime('%y_%m_%d'))\n",
    "        file_name = date.strftime('%Y_%m_%d')+f'_{country}.gz'\n",
    "        try:\n",
    "            if not filtered:\n",
    "                reader = TweetReader(f'/home/aadelucia/files/minerva/raw_tweets_deduplicated/tweets_en/{file_name}')\n",
    "                tweets = list(reader.read_tweets()) \n",
    "            else:\n",
    "                with open(f'/export/b03/achinta3/files/filtered_tweets/{file_name}_filtered.txt', 'r') as f:\n",
    "                    tweets=json.load(f)\n",
    "        except:\n",
    "            continue\n",
    "        count = 0\n",
    "        for tweet in tweets:\n",
    "            hashtags_list = tweet.get('entities').get('hashtags')\n",
    "            if len(hashtags_list)==0:\n",
    "                continue\n",
    "            for h in hashtags_list:\n",
    "                if h.get('text').lower() == hashtag:\n",
    "                    count+=1\n",
    "        hashtag_count[date.strftime('%m/%d/%Y')]=count\n",
    "    \n",
    "    return hashtag_count"
   ]
  },
  {
   "cell_type": "code",
   "execution_count": null,
   "metadata": {},
   "outputs": [],
   "source": [
    "#curious to see how sashutdown and xenophobia trend before vs after the riots\n",
    "date = '09/02/2019'\n",
    "hashtag = 'xenophobia'\n",
    "hashtag_count = hashtag_trends1(date,hashtag,'ZA',True)\n",
    "date1 = '09/02/2019'\n",
    "hashtag1 = 'pretoriacbd'\n",
    "hashtag_count1 = hashtag_trends1(date1,hashtag1,'ZA',True)\n",
    "fig = go.Figure()\n",
    "\n",
    "# Add traces\n",
    "fig.add_trace(go.Scatter(x=list(hashtag_count.keys()),y=list(hashtag_count.values()),name=hashtag))\n",
    "fig.add_trace(go.Scatter(x=list(hashtag_count1.keys()),y=list(hashtag_count1.values()),name=hashtag1))\n",
    "\n",
    "fig.update_layout(\n",
    "    #title=\"Plot Title\",\n",
    "    xaxis_title=f'trend over time',\n",
    "    yaxis_title='number of hashtags'\n",
    "    \n",
    ")\n",
    "fig.show()"
   ]
  },
  {
   "cell_type": "code",
   "execution_count": null,
   "metadata": {},
   "outputs": [],
   "source": [
    "    datestr = '09/02/2019'\n",
    "    country = 'ZA'\n",
    "    date = datetime.strptime(datestr, \"%m/%d/%Y\")\n",
    "    file_name = date.strftime('%Y_%m_%d')+f'_{country}.gz'\n",
    "    reader = TweetReader(f'/home/aadelucia/files/minerva/raw_tweets_deduplicated/tweets_en/{file_name}')\n",
    "    tweets = list(reader.read_tweets())\n",
    "\n",
    "    hashtags = []\n",
    "    for tweet in tweets:\n",
    "        hashtags_list = tweet.get('entities').get('hashtags')\n",
    "        if len(hashtags_list)==0:\n",
    "            continue\n",
    "        #print([h.get('text') for h in hashtags_list])\n",
    "        if 'pretoriacbd' in [h.get('text').lower() for h in hashtags_list]:\n",
    "            hashtags.append(tweet['text'])\n",
    "            "
   ]
  },
  {
   "cell_type": "code",
   "execution_count": null,
   "metadata": {},
   "outputs": [],
   "source": [
    "hashtags"
   ]
  },
  {
   "cell_type": "code",
   "execution_count": null,
   "metadata": {},
   "outputs": [],
   "source": [
    "from collections import Counter\n",
    "\n",
    "def get_popular_hashtags_day(datestr,country,hcount,filtered=True):\n",
    "    date = datetime.strptime(datestr, \"%m/%d/%Y\")\n",
    "    file_name = date.strftime('%Y_%m_%d')+f'_{country}.gz'\n",
    "\n",
    "    if filtered:\n",
    "        with open(f'/export/b03/achinta3/files/filtered_tweets/{file_name}_filtered.txt', 'r') as f:\n",
    "            tweets=json.load(f)\n",
    "    else:\n",
    "        reader = TweetReader(f'/home/aadelucia/files/minerva/raw_tweets_deduplicated/tweets_en/{file_name}')\n",
    "        tweets = list(reader.read_tweets()) \n",
    "    hashtags = []\n",
    "    for tweet in tweets:\n",
    "        hashtags_list = tweet.get('entities').get('hashtags')\n",
    "        if len(hashtags_list)==0:\n",
    "            continue\n",
    "        for h in hashtags_list:\n",
    "            hashtags.append(str(h.get('text')).lower())\n",
    "    return Counter(hashtags).most_common(hcount)\n",
    "    \n",
    "get_popular_hashtags_unfiltered('09/02/2019','ZA',30)"
   ]
  },
  {
   "cell_type": "code",
   "execution_count": 2,
   "metadata": {},
   "outputs": [],
   "source": [
    "def get_popular_hashtags_weekly(datestr,country,hcount,filtered):\n",
    "    #datestr = '09/03/2019'\n",
    "    #country = 'ZA'\n",
    "    date = datetime.strptime(datestr, \"%m/%d/%Y\")\n",
    "    start_date = date - timedelta(days=7)\n",
    "    end_date = date + timedelta(days=7)\n",
    "    #hashtag_count = {}\n",
    "    hashtags = []\n",
    "    for date in (start_date + timedelta(n) for n in range(14)):\n",
    "        #print(date.strftime('%y_%m_%d'))\n",
    "        file_name = date.strftime('%Y_%m_%d')+f'_{country}.gz'\n",
    "        try:\n",
    "            if filtered:\n",
    "                with open(f'/export/b03/achinta3/files/filtered_tweets/{file_name}_filtered.txt', 'r') as f:\n",
    "                    tweets=json.load(f)\n",
    "            else:\n",
    "                reader = TweetReader(f'/home/aadelucia/files/minerva/raw_tweets_deduplicated/tweets_en/{file_name}')\n",
    "                tweets = list(reader.read_tweets()) \n",
    "        except:\n",
    "            continue\n",
    "        \n",
    "        for tweet in tweets:\n",
    "            hashtags_list = tweet.get('entities').get('hashtags')\n",
    "            if len(hashtags_list)==0:\n",
    "                continue\n",
    "            for h in hashtags_list:\n",
    "                hashtags.append(str(h.get('text')).lower())\n",
    "    return Counter(hashtags).most_common(hcount)"
   ]
  },
  {
   "cell_type": "code",
   "execution_count": 3,
   "metadata": {},
   "outputs": [
    {
     "data": {
      "text/plain": [
       "[('uyinenemrwetyana', 682),\n",
       " ('enoughisenough', 583),\n",
       " ('sashutdown', 549),\n",
       " ('aminext', 465),\n",
       " ('xenophobia', 425),\n",
       " ('saynotoxenophobia', 389),\n",
       " ('joburgcbd', 326),\n",
       " ('pretoriacbd', 322),\n",
       " ('shutdownsouthafrica', 307),\n",
       " ('ripuyinene', 271),\n",
       " ('xenophobiainsouthafrica', 263),\n",
       " ('menaretrash', 232),\n",
       " ('ripuyinenemrwetyana', 218),\n",
       " ('aminextprotest', 207),\n",
       " ('stopkillingourwomen', 200),\n",
       " ('dearmrpresident', 193),\n",
       " ('notallmen', 165),\n",
       " ('southafrica', 164),\n",
       " ('ripmugabe', 156),\n",
       " ('prayforsouthafrica', 153)]"
      ]
     },
     "execution_count": 3,
     "metadata": {},
     "output_type": "execute_result"
    }
   ],
   "source": [
    "get_popular_hashtags_weekly('09/02/2019','ZA',20,True)"
   ]
  },
  {
   "cell_type": "code",
   "execution_count": null,
   "metadata": {},
   "outputs": [],
   "source": [
    "get_popular_hashtags_weekly('09/02/2019','ZA',20,False)"
   ]
  },
  {
   "cell_type": "code",
   "execution_count": null,
   "metadata": {},
   "outputs": [],
   "source": [
    "hashtag = 'uyinenemrwetyana'\n",
    "hashtag_count = hashtag_trends1('09/03/2019',hashtag,'ZA',True)\n",
    "fig = go.Figure()\n",
    "\n",
    "# Add traces\n",
    "fig.add_trace(go.Scatter(x=list(hashtag_count.keys()),y=list(hashtag_count.values())))\n",
    "\n",
    "fig.update_layout(\n",
    "    #title=\"Plot Title\",\n",
    "    xaxis_title=f'trend over time for #{hashtag}',\n",
    "    yaxis_title='number of hashtags'\n",
    "    \n",
    ")\n",
    "fig.show()"
   ]
  },
  {
   "cell_type": "code",
   "execution_count": null,
   "metadata": {},
   "outputs": [],
   "source": [
    "hashtag = 'dearmrpresident'\n",
    "hashtag_count = hashtag_trends1('09/03/2019',hashtag,'ZA',True)\n",
    "\n",
    "fig = go.Figure()\n",
    "fig.add_trace(go.Scatter(x=list(hashtag_count.keys()),y=list(hashtag_count.values())))\n",
    "fig.update_layout(\n",
    "    xaxis_title=f'trend over time for #{hashtag}',\n",
    "    yaxis_title='number of hashtags'\n",
    "    )\n",
    "fig.show()"
   ]
  },
  {
   "cell_type": "code",
   "execution_count": null,
   "metadata": {},
   "outputs": [],
   "source": [
    "def plot_daily_popular_hashtags(country,date,filtered=True):\n",
    "    hash_list = [a[0] for a in get_popular_hashtags_day(date,country,5,filtered)]\n",
    "\n",
    "    l = []\n",
    "    for h in hash_list:\n",
    "        l.append(hashtag_trends1(date,h,country,True))\n",
    "    fig = go.Figure()\n",
    "    for i,hashtag_count in enumerate(l):\n",
    "        fig.add_trace(go.Scatter(x=list(hashtag_count.keys()),y=list(hashtag_count.values()),name=[('#'+str(i)) for i in hash_list][i]))\n",
    "    fig.update_layout(\n",
    "        title={\n",
    "            'text': f\"Daily Popular Hashtags in {country}\",\n",
    "            'y':0.9,\n",
    "            'x':0.5,\n",
    "            'xanchor': 'center',\n",
    "            'yanchor': 'top'},\n",
    "        #xaxis_title=f'Trend over time for popular hashtags',\n",
    "        yaxis_title='Number of hashtags'   \n",
    "    )\n",
    "    fig.show()\n",
    "\n",
    "plot_daily_popular_hashtags('ZA','09/03/2019')"
   ]
  },
  {
   "cell_type": "code",
   "execution_count": null,
   "metadata": {},
   "outputs": [],
   "source": [
    "plot_daily_popular_hashtags('ZA','06/21/2016',False)"
   ]
  },
  {
   "cell_type": "code",
   "execution_count": 41,
   "metadata": {},
   "outputs": [],
   "source": [
    "def plot_weekly_popular_hashtags(country,date,filtered=True,title=None):\n",
    "    hash_list = [a[0] for a in get_popular_hashtags_weekly(date,country,10,filtered=True)]\n",
    "\n",
    "    l = []\n",
    "    for h in hash_list:\n",
    "        l.append(hashtag_trends1(date,h,country,True))\n",
    "\n",
    "    fig = go.Figure()\n",
    "    for i,hashtag_count in enumerate(l):\n",
    "        fig.add_trace(go.Scatter(x=list(hashtag_count.keys()),y=list(hashtag_count.values()),name=hash_list[i]))\n",
    "    fig.update_layout(\n",
    "        title={\n",
    "            'text': title if title else f\"Weekly Popular Hashtags in {country}\",\n",
    "            'font_size': 24,\n",
    "            'y':0.9,\n",
    "            'x':0.5,\n",
    "            'xref': 'paper',\n",
    "            'xanchor': 'center',\n",
    "            'yanchor': 'top'},\n",
    "        yaxis_title='Number of hashtags',\n",
    "        yaxis_title_font_size=18,\n",
    "        legend={\n",
    "            \"xanchor\": \"left\",\n",
    "            \"x\": 0.01,\n",
    "            \"font\": {\n",
    "                \"size\": 16\n",
    "            }\n",
    "        }\n",
    "    )\n",
    "    fig.update_xaxes(\n",
    "        tickfont_size=14\n",
    "    )\n",
    "    fig.update_yaxes(\n",
    "        range=[0,15]\n",
    "    )\n",
    "\n",
    "    fig.show()\n"
   ]
  },
  {
   "cell_type": "code",
   "execution_count": 43,
   "metadata": {},
   "outputs": [
    {
     "data": {
      "application/vnd.plotly.v1+json": {
       "config": {
        "plotlyServerURL": "https://plot.ly"
       },
       "data": [
        {
         "name": "ethiopia",
         "type": "scatter",
         "x": [
          "09/08/2018",
          "09/09/2018",
          "09/10/2018",
          "09/11/2018",
          "09/12/2018",
          "09/13/2018",
          "09/14/2018",
          "09/15/2018",
          "09/16/2018",
          "09/17/2018",
          "09/18/2018",
          "09/19/2018",
          "09/20/2018",
          "09/21/2018"
         ],
         "y": [
          1,
          0,
          0,
          1,
          1,
          2,
          1,
          7,
          7,
          6,
          1,
          1,
          12,
          2
         ]
        },
        {
         "name": "fromimammahditoallhumans",
         "type": "scatter",
         "x": [
          "09/08/2018",
          "09/09/2018",
          "09/10/2018",
          "09/11/2018",
          "09/12/2018",
          "09/13/2018",
          "09/14/2018",
          "09/15/2018",
          "09/16/2018",
          "09/17/2018",
          "09/18/2018",
          "09/19/2018",
          "09/20/2018",
          "09/21/2018"
         ],
         "y": [
          0,
          0,
          0,
          0,
          0,
          0,
          0,
          0,
          0,
          0,
          0,
          0,
          11,
          0
         ]
        },
        {
         "name": "addisababa",
         "type": "scatter",
         "x": [
          "09/08/2018",
          "09/09/2018",
          "09/10/2018",
          "09/11/2018",
          "09/12/2018",
          "09/13/2018",
          "09/14/2018",
          "09/15/2018",
          "09/16/2018",
          "09/17/2018",
          "09/18/2018",
          "09/19/2018",
          "09/20/2018",
          "09/21/2018"
         ],
         "y": [
          1,
          0,
          0,
          0,
          0,
          0,
          0,
          2,
          1,
          3,
          0,
          1,
          0,
          0
         ]
        },
        {
         "name": "etv",
         "type": "scatter",
         "x": [
          "09/08/2018",
          "09/09/2018",
          "09/10/2018",
          "09/11/2018",
          "09/12/2018",
          "09/13/2018",
          "09/14/2018",
          "09/15/2018",
          "09/16/2018",
          "09/17/2018",
          "09/18/2018",
          "09/19/2018",
          "09/20/2018",
          "09/21/2018"
         ],
         "y": [
          0,
          0,
          0,
          0,
          0,
          0,
          0,
          0,
          0,
          6,
          0,
          0,
          0,
          0
         ]
        },
        {
         "name": "childviolenceafrica",
         "type": "scatter",
         "x": [
          "09/08/2018",
          "09/09/2018",
          "09/10/2018",
          "09/11/2018",
          "09/12/2018",
          "09/13/2018",
          "09/14/2018",
          "09/15/2018",
          "09/16/2018",
          "09/17/2018",
          "09/18/2018",
          "09/19/2018",
          "09/20/2018",
          "09/21/2018"
         ],
         "y": [
          0,
          0,
          0,
          0,
          0,
          0,
          0,
          0,
          0,
          0,
          5,
          1,
          0,
          0
         ]
        },
        {
         "name": "southsudan",
         "type": "scatter",
         "x": [
          "09/08/2018",
          "09/09/2018",
          "09/10/2018",
          "09/11/2018",
          "09/12/2018",
          "09/13/2018",
          "09/14/2018",
          "09/15/2018",
          "09/16/2018",
          "09/17/2018",
          "09/18/2018",
          "09/19/2018",
          "09/20/2018",
          "09/21/2018"
         ],
         "y": [
          0,
          0,
          0,
          0,
          4,
          0,
          0,
          0,
          0,
          1,
          0,
          0,
          0,
          0
         ]
        },
        {
         "name": "eritrea",
         "type": "scatter",
         "x": [
          "09/08/2018",
          "09/09/2018",
          "09/10/2018",
          "09/11/2018",
          "09/12/2018",
          "09/13/2018",
          "09/14/2018",
          "09/15/2018",
          "09/16/2018",
          "09/17/2018",
          "09/18/2018",
          "09/19/2018",
          "09/20/2018",
          "09/21/2018"
         ],
         "y": [
          0,
          0,
          0,
          0,
          0,
          0,
          0,
          2,
          2,
          0,
          1,
          0,
          0,
          0
         ]
        },
        {
         "name": "addis",
         "type": "scatter",
         "x": [
          "09/08/2018",
          "09/09/2018",
          "09/10/2018",
          "09/11/2018",
          "09/12/2018",
          "09/13/2018",
          "09/14/2018",
          "09/15/2018",
          "09/16/2018",
          "09/17/2018",
          "09/18/2018",
          "09/19/2018",
          "09/20/2018",
          "09/21/2018"
         ],
         "y": [
          0,
          0,
          1,
          0,
          0,
          0,
          1,
          0,
          0,
          2,
          0,
          0,
          0,
          0
         ]
        },
        {
         "name": "ethiopian",
         "type": "scatter",
         "x": [
          "09/08/2018",
          "09/09/2018",
          "09/10/2018",
          "09/11/2018",
          "09/12/2018",
          "09/13/2018",
          "09/14/2018",
          "09/15/2018",
          "09/16/2018",
          "09/17/2018",
          "09/18/2018",
          "09/19/2018",
          "09/20/2018",
          "09/21/2018"
         ],
         "y": [
          0,
          0,
          0,
          0,
          0,
          0,
          2,
          0,
          0,
          0,
          0,
          0,
          1,
          1
         ]
        },
        {
         "name": "taxvoteke",
         "type": "scatter",
         "x": [
          "09/08/2018",
          "09/09/2018",
          "09/10/2018",
          "09/11/2018",
          "09/12/2018",
          "09/13/2018",
          "09/14/2018",
          "09/15/2018",
          "09/16/2018",
          "09/17/2018",
          "09/18/2018",
          "09/19/2018",
          "09/20/2018",
          "09/21/2018"
         ],
         "y": [
          0,
          0,
          0,
          0,
          0,
          0,
          0,
          0,
          0,
          0,
          0,
          0,
          4,
          0
         ]
        }
       ],
       "layout": {
        "legend": {
         "font": {
          "size": 16
         },
         "x": 0.01,
         "xanchor": "left"
        },
        "template": {
         "data": {
          "bar": [
           {
            "error_x": {
             "color": "#2a3f5f"
            },
            "error_y": {
             "color": "#2a3f5f"
            },
            "marker": {
             "line": {
              "color": "#E5ECF6",
              "width": 0.5
             }
            },
            "type": "bar"
           }
          ],
          "barpolar": [
           {
            "marker": {
             "line": {
              "color": "#E5ECF6",
              "width": 0.5
             }
            },
            "type": "barpolar"
           }
          ],
          "carpet": [
           {
            "aaxis": {
             "endlinecolor": "#2a3f5f",
             "gridcolor": "white",
             "linecolor": "white",
             "minorgridcolor": "white",
             "startlinecolor": "#2a3f5f"
            },
            "baxis": {
             "endlinecolor": "#2a3f5f",
             "gridcolor": "white",
             "linecolor": "white",
             "minorgridcolor": "white",
             "startlinecolor": "#2a3f5f"
            },
            "type": "carpet"
           }
          ],
          "choropleth": [
           {
            "colorbar": {
             "outlinewidth": 0,
             "ticks": ""
            },
            "type": "choropleth"
           }
          ],
          "contour": [
           {
            "colorbar": {
             "outlinewidth": 0,
             "ticks": ""
            },
            "colorscale": [
             [
              0,
              "#0d0887"
             ],
             [
              0.1111111111111111,
              "#46039f"
             ],
             [
              0.2222222222222222,
              "#7201a8"
             ],
             [
              0.3333333333333333,
              "#9c179e"
             ],
             [
              0.4444444444444444,
              "#bd3786"
             ],
             [
              0.5555555555555556,
              "#d8576b"
             ],
             [
              0.6666666666666666,
              "#ed7953"
             ],
             [
              0.7777777777777778,
              "#fb9f3a"
             ],
             [
              0.8888888888888888,
              "#fdca26"
             ],
             [
              1,
              "#f0f921"
             ]
            ],
            "type": "contour"
           }
          ],
          "contourcarpet": [
           {
            "colorbar": {
             "outlinewidth": 0,
             "ticks": ""
            },
            "type": "contourcarpet"
           }
          ],
          "heatmap": [
           {
            "colorbar": {
             "outlinewidth": 0,
             "ticks": ""
            },
            "colorscale": [
             [
              0,
              "#0d0887"
             ],
             [
              0.1111111111111111,
              "#46039f"
             ],
             [
              0.2222222222222222,
              "#7201a8"
             ],
             [
              0.3333333333333333,
              "#9c179e"
             ],
             [
              0.4444444444444444,
              "#bd3786"
             ],
             [
              0.5555555555555556,
              "#d8576b"
             ],
             [
              0.6666666666666666,
              "#ed7953"
             ],
             [
              0.7777777777777778,
              "#fb9f3a"
             ],
             [
              0.8888888888888888,
              "#fdca26"
             ],
             [
              1,
              "#f0f921"
             ]
            ],
            "type": "heatmap"
           }
          ],
          "heatmapgl": [
           {
            "colorbar": {
             "outlinewidth": 0,
             "ticks": ""
            },
            "colorscale": [
             [
              0,
              "#0d0887"
             ],
             [
              0.1111111111111111,
              "#46039f"
             ],
             [
              0.2222222222222222,
              "#7201a8"
             ],
             [
              0.3333333333333333,
              "#9c179e"
             ],
             [
              0.4444444444444444,
              "#bd3786"
             ],
             [
              0.5555555555555556,
              "#d8576b"
             ],
             [
              0.6666666666666666,
              "#ed7953"
             ],
             [
              0.7777777777777778,
              "#fb9f3a"
             ],
             [
              0.8888888888888888,
              "#fdca26"
             ],
             [
              1,
              "#f0f921"
             ]
            ],
            "type": "heatmapgl"
           }
          ],
          "histogram": [
           {
            "marker": {
             "colorbar": {
              "outlinewidth": 0,
              "ticks": ""
             }
            },
            "type": "histogram"
           }
          ],
          "histogram2d": [
           {
            "colorbar": {
             "outlinewidth": 0,
             "ticks": ""
            },
            "colorscale": [
             [
              0,
              "#0d0887"
             ],
             [
              0.1111111111111111,
              "#46039f"
             ],
             [
              0.2222222222222222,
              "#7201a8"
             ],
             [
              0.3333333333333333,
              "#9c179e"
             ],
             [
              0.4444444444444444,
              "#bd3786"
             ],
             [
              0.5555555555555556,
              "#d8576b"
             ],
             [
              0.6666666666666666,
              "#ed7953"
             ],
             [
              0.7777777777777778,
              "#fb9f3a"
             ],
             [
              0.8888888888888888,
              "#fdca26"
             ],
             [
              1,
              "#f0f921"
             ]
            ],
            "type": "histogram2d"
           }
          ],
          "histogram2dcontour": [
           {
            "colorbar": {
             "outlinewidth": 0,
             "ticks": ""
            },
            "colorscale": [
             [
              0,
              "#0d0887"
             ],
             [
              0.1111111111111111,
              "#46039f"
             ],
             [
              0.2222222222222222,
              "#7201a8"
             ],
             [
              0.3333333333333333,
              "#9c179e"
             ],
             [
              0.4444444444444444,
              "#bd3786"
             ],
             [
              0.5555555555555556,
              "#d8576b"
             ],
             [
              0.6666666666666666,
              "#ed7953"
             ],
             [
              0.7777777777777778,
              "#fb9f3a"
             ],
             [
              0.8888888888888888,
              "#fdca26"
             ],
             [
              1,
              "#f0f921"
             ]
            ],
            "type": "histogram2dcontour"
           }
          ],
          "mesh3d": [
           {
            "colorbar": {
             "outlinewidth": 0,
             "ticks": ""
            },
            "type": "mesh3d"
           }
          ],
          "parcoords": [
           {
            "line": {
             "colorbar": {
              "outlinewidth": 0,
              "ticks": ""
             }
            },
            "type": "parcoords"
           }
          ],
          "pie": [
           {
            "automargin": true,
            "type": "pie"
           }
          ],
          "scatter": [
           {
            "marker": {
             "colorbar": {
              "outlinewidth": 0,
              "ticks": ""
             }
            },
            "type": "scatter"
           }
          ],
          "scatter3d": [
           {
            "line": {
             "colorbar": {
              "outlinewidth": 0,
              "ticks": ""
             }
            },
            "marker": {
             "colorbar": {
              "outlinewidth": 0,
              "ticks": ""
             }
            },
            "type": "scatter3d"
           }
          ],
          "scattercarpet": [
           {
            "marker": {
             "colorbar": {
              "outlinewidth": 0,
              "ticks": ""
             }
            },
            "type": "scattercarpet"
           }
          ],
          "scattergeo": [
           {
            "marker": {
             "colorbar": {
              "outlinewidth": 0,
              "ticks": ""
             }
            },
            "type": "scattergeo"
           }
          ],
          "scattergl": [
           {
            "marker": {
             "colorbar": {
              "outlinewidth": 0,
              "ticks": ""
             }
            },
            "type": "scattergl"
           }
          ],
          "scattermapbox": [
           {
            "marker": {
             "colorbar": {
              "outlinewidth": 0,
              "ticks": ""
             }
            },
            "type": "scattermapbox"
           }
          ],
          "scatterpolar": [
           {
            "marker": {
             "colorbar": {
              "outlinewidth": 0,
              "ticks": ""
             }
            },
            "type": "scatterpolar"
           }
          ],
          "scatterpolargl": [
           {
            "marker": {
             "colorbar": {
              "outlinewidth": 0,
              "ticks": ""
             }
            },
            "type": "scatterpolargl"
           }
          ],
          "scatterternary": [
           {
            "marker": {
             "colorbar": {
              "outlinewidth": 0,
              "ticks": ""
             }
            },
            "type": "scatterternary"
           }
          ],
          "surface": [
           {
            "colorbar": {
             "outlinewidth": 0,
             "ticks": ""
            },
            "colorscale": [
             [
              0,
              "#0d0887"
             ],
             [
              0.1111111111111111,
              "#46039f"
             ],
             [
              0.2222222222222222,
              "#7201a8"
             ],
             [
              0.3333333333333333,
              "#9c179e"
             ],
             [
              0.4444444444444444,
              "#bd3786"
             ],
             [
              0.5555555555555556,
              "#d8576b"
             ],
             [
              0.6666666666666666,
              "#ed7953"
             ],
             [
              0.7777777777777778,
              "#fb9f3a"
             ],
             [
              0.8888888888888888,
              "#fdca26"
             ],
             [
              1,
              "#f0f921"
             ]
            ],
            "type": "surface"
           }
          ],
          "table": [
           {
            "cells": {
             "fill": {
              "color": "#EBF0F8"
             },
             "line": {
              "color": "white"
             }
            },
            "header": {
             "fill": {
              "color": "#C8D4E3"
             },
             "line": {
              "color": "white"
             }
            },
            "type": "table"
           }
          ]
         },
         "layout": {
          "annotationdefaults": {
           "arrowcolor": "#2a3f5f",
           "arrowhead": 0,
           "arrowwidth": 1
          },
          "coloraxis": {
           "colorbar": {
            "outlinewidth": 0,
            "ticks": ""
           }
          },
          "colorscale": {
           "diverging": [
            [
             0,
             "#8e0152"
            ],
            [
             0.1,
             "#c51b7d"
            ],
            [
             0.2,
             "#de77ae"
            ],
            [
             0.3,
             "#f1b6da"
            ],
            [
             0.4,
             "#fde0ef"
            ],
            [
             0.5,
             "#f7f7f7"
            ],
            [
             0.6,
             "#e6f5d0"
            ],
            [
             0.7,
             "#b8e186"
            ],
            [
             0.8,
             "#7fbc41"
            ],
            [
             0.9,
             "#4d9221"
            ],
            [
             1,
             "#276419"
            ]
           ],
           "sequential": [
            [
             0,
             "#0d0887"
            ],
            [
             0.1111111111111111,
             "#46039f"
            ],
            [
             0.2222222222222222,
             "#7201a8"
            ],
            [
             0.3333333333333333,
             "#9c179e"
            ],
            [
             0.4444444444444444,
             "#bd3786"
            ],
            [
             0.5555555555555556,
             "#d8576b"
            ],
            [
             0.6666666666666666,
             "#ed7953"
            ],
            [
             0.7777777777777778,
             "#fb9f3a"
            ],
            [
             0.8888888888888888,
             "#fdca26"
            ],
            [
             1,
             "#f0f921"
            ]
           ],
           "sequentialminus": [
            [
             0,
             "#0d0887"
            ],
            [
             0.1111111111111111,
             "#46039f"
            ],
            [
             0.2222222222222222,
             "#7201a8"
            ],
            [
             0.3333333333333333,
             "#9c179e"
            ],
            [
             0.4444444444444444,
             "#bd3786"
            ],
            [
             0.5555555555555556,
             "#d8576b"
            ],
            [
             0.6666666666666666,
             "#ed7953"
            ],
            [
             0.7777777777777778,
             "#fb9f3a"
            ],
            [
             0.8888888888888888,
             "#fdca26"
            ],
            [
             1,
             "#f0f921"
            ]
           ]
          },
          "colorway": [
           "#636efa",
           "#EF553B",
           "#00cc96",
           "#ab63fa",
           "#FFA15A",
           "#19d3f3",
           "#FF6692",
           "#B6E880",
           "#FF97FF",
           "#FECB52"
          ],
          "font": {
           "color": "#2a3f5f"
          },
          "geo": {
           "bgcolor": "white",
           "lakecolor": "white",
           "landcolor": "#E5ECF6",
           "showlakes": true,
           "showland": true,
           "subunitcolor": "white"
          },
          "hoverlabel": {
           "align": "left"
          },
          "hovermode": "closest",
          "mapbox": {
           "style": "light"
          },
          "paper_bgcolor": "white",
          "plot_bgcolor": "#E5ECF6",
          "polar": {
           "angularaxis": {
            "gridcolor": "white",
            "linecolor": "white",
            "ticks": ""
           },
           "bgcolor": "#E5ECF6",
           "radialaxis": {
            "gridcolor": "white",
            "linecolor": "white",
            "ticks": ""
           }
          },
          "scene": {
           "xaxis": {
            "backgroundcolor": "#E5ECF6",
            "gridcolor": "white",
            "gridwidth": 2,
            "linecolor": "white",
            "showbackground": true,
            "ticks": "",
            "zerolinecolor": "white"
           },
           "yaxis": {
            "backgroundcolor": "#E5ECF6",
            "gridcolor": "white",
            "gridwidth": 2,
            "linecolor": "white",
            "showbackground": true,
            "ticks": "",
            "zerolinecolor": "white"
           },
           "zaxis": {
            "backgroundcolor": "#E5ECF6",
            "gridcolor": "white",
            "gridwidth": 2,
            "linecolor": "white",
            "showbackground": true,
            "ticks": "",
            "zerolinecolor": "white"
           }
          },
          "shapedefaults": {
           "line": {
            "color": "#2a3f5f"
           }
          },
          "ternary": {
           "aaxis": {
            "gridcolor": "white",
            "linecolor": "white",
            "ticks": ""
           },
           "baxis": {
            "gridcolor": "white",
            "linecolor": "white",
            "ticks": ""
           },
           "bgcolor": "#E5ECF6",
           "caxis": {
            "gridcolor": "white",
            "linecolor": "white",
            "ticks": ""
           }
          },
          "title": {
           "x": 0.05
          },
          "xaxis": {
           "automargin": true,
           "gridcolor": "white",
           "linecolor": "white",
           "ticks": "",
           "title": {
            "standoff": 15
           },
           "zerolinecolor": "white",
           "zerolinewidth": 2
          },
          "yaxis": {
           "automargin": true,
           "gridcolor": "white",
           "linecolor": "white",
           "ticks": "",
           "title": {
            "standoff": 15
           },
           "zerolinecolor": "white",
           "zerolinewidth": 2
          }
         }
        },
        "title": {
         "font": {
          "size": 24
         },
         "text": "Weekly Popular Hashtags in Ethiopia During Burayu Massacre",
         "x": 0.5,
         "xanchor": "center",
         "xref": "paper",
         "y": 0.9,
         "yanchor": "top"
        },
        "xaxis": {
         "tickfont": {
          "size": 14
         }
        },
        "yaxis": {
         "range": [
          0,
          15
         ],
         "title": {
          "font": {
           "size": 18
          },
          "text": "Number of hashtags"
         }
        }
       }
      },
      "text/html": [
       "<div>\n",
       "        \n",
       "        \n",
       "            <div id=\"143d5f01-c5f9-412d-8631-e5be8332a80f\" class=\"plotly-graph-div\" style=\"height:525px; width:100%;\"></div>\n",
       "            <script type=\"text/javascript\">\n",
       "                require([\"plotly\"], function(Plotly) {\n",
       "                    window.PLOTLYENV=window.PLOTLYENV || {};\n",
       "                    \n",
       "                if (document.getElementById(\"143d5f01-c5f9-412d-8631-e5be8332a80f\")) {\n",
       "                    Plotly.newPlot(\n",
       "                        '143d5f01-c5f9-412d-8631-e5be8332a80f',\n",
       "                        [{\"name\": \"ethiopia\", \"type\": \"scatter\", \"x\": [\"09/08/2018\", \"09/09/2018\", \"09/10/2018\", \"09/11/2018\", \"09/12/2018\", \"09/13/2018\", \"09/14/2018\", \"09/15/2018\", \"09/16/2018\", \"09/17/2018\", \"09/18/2018\", \"09/19/2018\", \"09/20/2018\", \"09/21/2018\"], \"y\": [1, 0, 0, 1, 1, 2, 1, 7, 7, 6, 1, 1, 12, 2]}, {\"name\": \"fromimammahditoallhumans\", \"type\": \"scatter\", \"x\": [\"09/08/2018\", \"09/09/2018\", \"09/10/2018\", \"09/11/2018\", \"09/12/2018\", \"09/13/2018\", \"09/14/2018\", \"09/15/2018\", \"09/16/2018\", \"09/17/2018\", \"09/18/2018\", \"09/19/2018\", \"09/20/2018\", \"09/21/2018\"], \"y\": [0, 0, 0, 0, 0, 0, 0, 0, 0, 0, 0, 0, 11, 0]}, {\"name\": \"addisababa\", \"type\": \"scatter\", \"x\": [\"09/08/2018\", \"09/09/2018\", \"09/10/2018\", \"09/11/2018\", \"09/12/2018\", \"09/13/2018\", \"09/14/2018\", \"09/15/2018\", \"09/16/2018\", \"09/17/2018\", \"09/18/2018\", \"09/19/2018\", \"09/20/2018\", \"09/21/2018\"], \"y\": [1, 0, 0, 0, 0, 0, 0, 2, 1, 3, 0, 1, 0, 0]}, {\"name\": \"etv\", \"type\": \"scatter\", \"x\": [\"09/08/2018\", \"09/09/2018\", \"09/10/2018\", \"09/11/2018\", \"09/12/2018\", \"09/13/2018\", \"09/14/2018\", \"09/15/2018\", \"09/16/2018\", \"09/17/2018\", \"09/18/2018\", \"09/19/2018\", \"09/20/2018\", \"09/21/2018\"], \"y\": [0, 0, 0, 0, 0, 0, 0, 0, 0, 6, 0, 0, 0, 0]}, {\"name\": \"childviolenceafrica\", \"type\": \"scatter\", \"x\": [\"09/08/2018\", \"09/09/2018\", \"09/10/2018\", \"09/11/2018\", \"09/12/2018\", \"09/13/2018\", \"09/14/2018\", \"09/15/2018\", \"09/16/2018\", \"09/17/2018\", \"09/18/2018\", \"09/19/2018\", \"09/20/2018\", \"09/21/2018\"], \"y\": [0, 0, 0, 0, 0, 0, 0, 0, 0, 0, 5, 1, 0, 0]}, {\"name\": \"southsudan\", \"type\": \"scatter\", \"x\": [\"09/08/2018\", \"09/09/2018\", \"09/10/2018\", \"09/11/2018\", \"09/12/2018\", \"09/13/2018\", \"09/14/2018\", \"09/15/2018\", \"09/16/2018\", \"09/17/2018\", \"09/18/2018\", \"09/19/2018\", \"09/20/2018\", \"09/21/2018\"], \"y\": [0, 0, 0, 0, 4, 0, 0, 0, 0, 1, 0, 0, 0, 0]}, {\"name\": \"eritrea\", \"type\": \"scatter\", \"x\": [\"09/08/2018\", \"09/09/2018\", \"09/10/2018\", \"09/11/2018\", \"09/12/2018\", \"09/13/2018\", \"09/14/2018\", \"09/15/2018\", \"09/16/2018\", \"09/17/2018\", \"09/18/2018\", \"09/19/2018\", \"09/20/2018\", \"09/21/2018\"], \"y\": [0, 0, 0, 0, 0, 0, 0, 2, 2, 0, 1, 0, 0, 0]}, {\"name\": \"addis\", \"type\": \"scatter\", \"x\": [\"09/08/2018\", \"09/09/2018\", \"09/10/2018\", \"09/11/2018\", \"09/12/2018\", \"09/13/2018\", \"09/14/2018\", \"09/15/2018\", \"09/16/2018\", \"09/17/2018\", \"09/18/2018\", \"09/19/2018\", \"09/20/2018\", \"09/21/2018\"], \"y\": [0, 0, 1, 0, 0, 0, 1, 0, 0, 2, 0, 0, 0, 0]}, {\"name\": \"ethiopian\", \"type\": \"scatter\", \"x\": [\"09/08/2018\", \"09/09/2018\", \"09/10/2018\", \"09/11/2018\", \"09/12/2018\", \"09/13/2018\", \"09/14/2018\", \"09/15/2018\", \"09/16/2018\", \"09/17/2018\", \"09/18/2018\", \"09/19/2018\", \"09/20/2018\", \"09/21/2018\"], \"y\": [0, 0, 0, 0, 0, 0, 2, 0, 0, 0, 0, 0, 1, 1]}, {\"name\": \"taxvoteke\", \"type\": \"scatter\", \"x\": [\"09/08/2018\", \"09/09/2018\", \"09/10/2018\", \"09/11/2018\", \"09/12/2018\", \"09/13/2018\", \"09/14/2018\", \"09/15/2018\", \"09/16/2018\", \"09/17/2018\", \"09/18/2018\", \"09/19/2018\", \"09/20/2018\", \"09/21/2018\"], \"y\": [0, 0, 0, 0, 0, 0, 0, 0, 0, 0, 0, 0, 4, 0]}],\n",
       "                        {\"legend\": {\"font\": {\"size\": 16}, \"x\": 0.01, \"xanchor\": \"left\"}, \"template\": {\"data\": {\"bar\": [{\"error_x\": {\"color\": \"#2a3f5f\"}, \"error_y\": {\"color\": \"#2a3f5f\"}, \"marker\": {\"line\": {\"color\": \"#E5ECF6\", \"width\": 0.5}}, \"type\": \"bar\"}], \"barpolar\": [{\"marker\": {\"line\": {\"color\": \"#E5ECF6\", \"width\": 0.5}}, \"type\": \"barpolar\"}], \"carpet\": [{\"aaxis\": {\"endlinecolor\": \"#2a3f5f\", \"gridcolor\": \"white\", \"linecolor\": \"white\", \"minorgridcolor\": \"white\", \"startlinecolor\": \"#2a3f5f\"}, \"baxis\": {\"endlinecolor\": \"#2a3f5f\", \"gridcolor\": \"white\", \"linecolor\": \"white\", \"minorgridcolor\": \"white\", \"startlinecolor\": \"#2a3f5f\"}, \"type\": \"carpet\"}], \"choropleth\": [{\"colorbar\": {\"outlinewidth\": 0, \"ticks\": \"\"}, \"type\": \"choropleth\"}], \"contour\": [{\"colorbar\": {\"outlinewidth\": 0, \"ticks\": \"\"}, \"colorscale\": [[0.0, \"#0d0887\"], [0.1111111111111111, \"#46039f\"], [0.2222222222222222, \"#7201a8\"], [0.3333333333333333, \"#9c179e\"], [0.4444444444444444, \"#bd3786\"], [0.5555555555555556, \"#d8576b\"], [0.6666666666666666, \"#ed7953\"], [0.7777777777777778, \"#fb9f3a\"], [0.8888888888888888, \"#fdca26\"], [1.0, \"#f0f921\"]], \"type\": \"contour\"}], \"contourcarpet\": [{\"colorbar\": {\"outlinewidth\": 0, \"ticks\": \"\"}, \"type\": \"contourcarpet\"}], \"heatmap\": [{\"colorbar\": {\"outlinewidth\": 0, \"ticks\": \"\"}, \"colorscale\": [[0.0, \"#0d0887\"], [0.1111111111111111, \"#46039f\"], [0.2222222222222222, \"#7201a8\"], [0.3333333333333333, \"#9c179e\"], [0.4444444444444444, \"#bd3786\"], [0.5555555555555556, \"#d8576b\"], [0.6666666666666666, \"#ed7953\"], [0.7777777777777778, \"#fb9f3a\"], [0.8888888888888888, \"#fdca26\"], [1.0, \"#f0f921\"]], \"type\": \"heatmap\"}], \"heatmapgl\": [{\"colorbar\": {\"outlinewidth\": 0, \"ticks\": \"\"}, \"colorscale\": [[0.0, \"#0d0887\"], [0.1111111111111111, \"#46039f\"], [0.2222222222222222, \"#7201a8\"], [0.3333333333333333, \"#9c179e\"], [0.4444444444444444, \"#bd3786\"], [0.5555555555555556, \"#d8576b\"], [0.6666666666666666, \"#ed7953\"], [0.7777777777777778, \"#fb9f3a\"], [0.8888888888888888, \"#fdca26\"], [1.0, \"#f0f921\"]], \"type\": \"heatmapgl\"}], \"histogram\": [{\"marker\": {\"colorbar\": {\"outlinewidth\": 0, \"ticks\": \"\"}}, \"type\": \"histogram\"}], \"histogram2d\": [{\"colorbar\": {\"outlinewidth\": 0, \"ticks\": \"\"}, \"colorscale\": [[0.0, \"#0d0887\"], [0.1111111111111111, \"#46039f\"], [0.2222222222222222, \"#7201a8\"], [0.3333333333333333, \"#9c179e\"], [0.4444444444444444, \"#bd3786\"], [0.5555555555555556, \"#d8576b\"], [0.6666666666666666, \"#ed7953\"], [0.7777777777777778, \"#fb9f3a\"], [0.8888888888888888, \"#fdca26\"], [1.0, \"#f0f921\"]], \"type\": \"histogram2d\"}], \"histogram2dcontour\": [{\"colorbar\": {\"outlinewidth\": 0, \"ticks\": \"\"}, \"colorscale\": [[0.0, \"#0d0887\"], [0.1111111111111111, \"#46039f\"], [0.2222222222222222, \"#7201a8\"], [0.3333333333333333, \"#9c179e\"], [0.4444444444444444, \"#bd3786\"], [0.5555555555555556, \"#d8576b\"], [0.6666666666666666, \"#ed7953\"], [0.7777777777777778, \"#fb9f3a\"], [0.8888888888888888, \"#fdca26\"], [1.0, \"#f0f921\"]], \"type\": \"histogram2dcontour\"}], \"mesh3d\": [{\"colorbar\": {\"outlinewidth\": 0, \"ticks\": \"\"}, \"type\": \"mesh3d\"}], \"parcoords\": [{\"line\": {\"colorbar\": {\"outlinewidth\": 0, \"ticks\": \"\"}}, \"type\": \"parcoords\"}], \"pie\": [{\"automargin\": true, \"type\": \"pie\"}], \"scatter\": [{\"marker\": {\"colorbar\": {\"outlinewidth\": 0, \"ticks\": \"\"}}, \"type\": \"scatter\"}], \"scatter3d\": [{\"line\": {\"colorbar\": {\"outlinewidth\": 0, \"ticks\": \"\"}}, \"marker\": {\"colorbar\": {\"outlinewidth\": 0, \"ticks\": \"\"}}, \"type\": \"scatter3d\"}], \"scattercarpet\": [{\"marker\": {\"colorbar\": {\"outlinewidth\": 0, \"ticks\": \"\"}}, \"type\": \"scattercarpet\"}], \"scattergeo\": [{\"marker\": {\"colorbar\": {\"outlinewidth\": 0, \"ticks\": \"\"}}, \"type\": \"scattergeo\"}], \"scattergl\": [{\"marker\": {\"colorbar\": {\"outlinewidth\": 0, \"ticks\": \"\"}}, \"type\": \"scattergl\"}], \"scattermapbox\": [{\"marker\": {\"colorbar\": {\"outlinewidth\": 0, \"ticks\": \"\"}}, \"type\": \"scattermapbox\"}], \"scatterpolar\": [{\"marker\": {\"colorbar\": {\"outlinewidth\": 0, \"ticks\": \"\"}}, \"type\": \"scatterpolar\"}], \"scatterpolargl\": [{\"marker\": {\"colorbar\": {\"outlinewidth\": 0, \"ticks\": \"\"}}, \"type\": \"scatterpolargl\"}], \"scatterternary\": [{\"marker\": {\"colorbar\": {\"outlinewidth\": 0, \"ticks\": \"\"}}, \"type\": \"scatterternary\"}], \"surface\": [{\"colorbar\": {\"outlinewidth\": 0, \"ticks\": \"\"}, \"colorscale\": [[0.0, \"#0d0887\"], [0.1111111111111111, \"#46039f\"], [0.2222222222222222, \"#7201a8\"], [0.3333333333333333, \"#9c179e\"], [0.4444444444444444, \"#bd3786\"], [0.5555555555555556, \"#d8576b\"], [0.6666666666666666, \"#ed7953\"], [0.7777777777777778, \"#fb9f3a\"], [0.8888888888888888, \"#fdca26\"], [1.0, \"#f0f921\"]], \"type\": \"surface\"}], \"table\": [{\"cells\": {\"fill\": {\"color\": \"#EBF0F8\"}, \"line\": {\"color\": \"white\"}}, \"header\": {\"fill\": {\"color\": \"#C8D4E3\"}, \"line\": {\"color\": \"white\"}}, \"type\": \"table\"}]}, \"layout\": {\"annotationdefaults\": {\"arrowcolor\": \"#2a3f5f\", \"arrowhead\": 0, \"arrowwidth\": 1}, \"coloraxis\": {\"colorbar\": {\"outlinewidth\": 0, \"ticks\": \"\"}}, \"colorscale\": {\"diverging\": [[0, \"#8e0152\"], [0.1, \"#c51b7d\"], [0.2, \"#de77ae\"], [0.3, \"#f1b6da\"], [0.4, \"#fde0ef\"], [0.5, \"#f7f7f7\"], [0.6, \"#e6f5d0\"], [0.7, \"#b8e186\"], [0.8, \"#7fbc41\"], [0.9, \"#4d9221\"], [1, \"#276419\"]], \"sequential\": [[0.0, \"#0d0887\"], [0.1111111111111111, \"#46039f\"], [0.2222222222222222, \"#7201a8\"], [0.3333333333333333, \"#9c179e\"], [0.4444444444444444, \"#bd3786\"], [0.5555555555555556, \"#d8576b\"], [0.6666666666666666, \"#ed7953\"], [0.7777777777777778, \"#fb9f3a\"], [0.8888888888888888, \"#fdca26\"], [1.0, \"#f0f921\"]], \"sequentialminus\": [[0.0, \"#0d0887\"], [0.1111111111111111, \"#46039f\"], [0.2222222222222222, \"#7201a8\"], [0.3333333333333333, \"#9c179e\"], [0.4444444444444444, \"#bd3786\"], [0.5555555555555556, \"#d8576b\"], [0.6666666666666666, \"#ed7953\"], [0.7777777777777778, \"#fb9f3a\"], [0.8888888888888888, \"#fdca26\"], [1.0, \"#f0f921\"]]}, \"colorway\": [\"#636efa\", \"#EF553B\", \"#00cc96\", \"#ab63fa\", \"#FFA15A\", \"#19d3f3\", \"#FF6692\", \"#B6E880\", \"#FF97FF\", \"#FECB52\"], \"font\": {\"color\": \"#2a3f5f\"}, \"geo\": {\"bgcolor\": \"white\", \"lakecolor\": \"white\", \"landcolor\": \"#E5ECF6\", \"showlakes\": true, \"showland\": true, \"subunitcolor\": \"white\"}, \"hoverlabel\": {\"align\": \"left\"}, \"hovermode\": \"closest\", \"mapbox\": {\"style\": \"light\"}, \"paper_bgcolor\": \"white\", \"plot_bgcolor\": \"#E5ECF6\", \"polar\": {\"angularaxis\": {\"gridcolor\": \"white\", \"linecolor\": \"white\", \"ticks\": \"\"}, \"bgcolor\": \"#E5ECF6\", \"radialaxis\": {\"gridcolor\": \"white\", \"linecolor\": \"white\", \"ticks\": \"\"}}, \"scene\": {\"xaxis\": {\"backgroundcolor\": \"#E5ECF6\", \"gridcolor\": \"white\", \"gridwidth\": 2, \"linecolor\": \"white\", \"showbackground\": true, \"ticks\": \"\", \"zerolinecolor\": \"white\"}, \"yaxis\": {\"backgroundcolor\": \"#E5ECF6\", \"gridcolor\": \"white\", \"gridwidth\": 2, \"linecolor\": \"white\", \"showbackground\": true, \"ticks\": \"\", \"zerolinecolor\": \"white\"}, \"zaxis\": {\"backgroundcolor\": \"#E5ECF6\", \"gridcolor\": \"white\", \"gridwidth\": 2, \"linecolor\": \"white\", \"showbackground\": true, \"ticks\": \"\", \"zerolinecolor\": \"white\"}}, \"shapedefaults\": {\"line\": {\"color\": \"#2a3f5f\"}}, \"ternary\": {\"aaxis\": {\"gridcolor\": \"white\", \"linecolor\": \"white\", \"ticks\": \"\"}, \"baxis\": {\"gridcolor\": \"white\", \"linecolor\": \"white\", \"ticks\": \"\"}, \"bgcolor\": \"#E5ECF6\", \"caxis\": {\"gridcolor\": \"white\", \"linecolor\": \"white\", \"ticks\": \"\"}}, \"title\": {\"x\": 0.05}, \"xaxis\": {\"automargin\": true, \"gridcolor\": \"white\", \"linecolor\": \"white\", \"ticks\": \"\", \"title\": {\"standoff\": 15}, \"zerolinecolor\": \"white\", \"zerolinewidth\": 2}, \"yaxis\": {\"automargin\": true, \"gridcolor\": \"white\", \"linecolor\": \"white\", \"ticks\": \"\", \"title\": {\"standoff\": 15}, \"zerolinecolor\": \"white\", \"zerolinewidth\": 2}}}, \"title\": {\"font\": {\"size\": 24}, \"text\": \"Weekly Popular Hashtags in Ethiopia During Burayu Massacre\", \"x\": 0.5, \"xanchor\": \"center\", \"xref\": \"paper\", \"y\": 0.9, \"yanchor\": \"top\"}, \"xaxis\": {\"tickfont\": {\"size\": 14}}, \"yaxis\": {\"range\": [0, 15], \"title\": {\"font\": {\"size\": 18}, \"text\": \"Number of hashtags\"}}},\n",
       "                        {\"responsive\": true}\n",
       "                    ).then(function(){\n",
       "                            \n",
       "var gd = document.getElementById('143d5f01-c5f9-412d-8631-e5be8332a80f');\n",
       "var x = new MutationObserver(function (mutations, observer) {{\n",
       "        var display = window.getComputedStyle(gd).display;\n",
       "        if (!display || display === 'none') {{\n",
       "            console.log([gd, 'removed!']);\n",
       "            Plotly.purge(gd);\n",
       "            observer.disconnect();\n",
       "        }}\n",
       "}});\n",
       "\n",
       "// Listen for the removal of the full notebook cells\n",
       "var notebookContainer = gd.closest('#notebook-container');\n",
       "if (notebookContainer) {{\n",
       "    x.observe(notebookContainer, {childList: true});\n",
       "}}\n",
       "\n",
       "// Listen for the clearing of the current output cell\n",
       "var outputEl = gd.closest('.output');\n",
       "if (outputEl) {{\n",
       "    x.observe(outputEl, {childList: true});\n",
       "}}\n",
       "\n",
       "                        })\n",
       "                };\n",
       "                });\n",
       "            </script>\n",
       "        </div>"
      ]
     },
     "metadata": {},
     "output_type": "display_data"
    }
   ],
   "source": [
    "plot_weekly_popular_hashtags('ET','09/15/2018',True,title=\"Weekly Popular Hashtags in Ethiopia During Burayu Massacre\")"
   ]
  },
  {
   "cell_type": "code",
   "execution_count": 32,
   "metadata": {},
   "outputs": [
    {
     "data": {
      "application/vnd.plotly.v1+json": {
       "config": {
        "plotlyServerURL": "https://plot.ly"
       },
       "data": [
        {
         "name": "uyinenemrwetyana",
         "type": "scatter",
         "x": [
          "08/27/2019",
          "08/28/2019",
          "08/29/2019",
          "08/30/2019",
          "08/31/2019",
          "09/01/2019",
          "09/02/2019",
          "09/03/2019",
          "09/04/2019",
          "09/05/2019",
          "09/06/2019",
          "09/07/2019",
          "09/08/2019",
          "09/09/2019"
         ],
         "y": [
          0,
          0,
          0,
          3,
          0,
          0,
          471,
          73,
          32,
          8,
          19,
          68,
          8,
          3
         ]
        },
        {
         "name": "enoughisenough",
         "type": "scatter",
         "x": [
          "08/27/2019",
          "08/28/2019",
          "08/29/2019",
          "08/30/2019",
          "08/31/2019",
          "09/01/2019",
          "09/02/2019",
          "09/03/2019",
          "09/04/2019",
          "09/05/2019",
          "09/06/2019",
          "09/07/2019",
          "09/08/2019",
          "09/09/2019"
         ],
         "y": [
          0,
          0,
          0,
          1,
          0,
          0,
          105,
          222,
          38,
          95,
          72,
          38,
          12,
          27
         ]
        },
        {
         "name": "sashutdown",
         "type": "scatter",
         "x": [
          "08/27/2019",
          "08/28/2019",
          "08/29/2019",
          "08/30/2019",
          "08/31/2019",
          "09/01/2019",
          "09/02/2019",
          "09/03/2019",
          "09/04/2019",
          "09/05/2019",
          "09/06/2019",
          "09/07/2019",
          "09/08/2019",
          "09/09/2019"
         ],
         "y": [
          0,
          0,
          0,
          0,
          0,
          0,
          194,
          260,
          55,
          27,
          10,
          3,
          0,
          3
         ]
        },
        {
         "name": "aminext",
         "type": "scatter",
         "x": [
          "08/27/2019",
          "08/28/2019",
          "08/29/2019",
          "08/30/2019",
          "08/31/2019",
          "09/01/2019",
          "09/02/2019",
          "09/03/2019",
          "09/04/2019",
          "09/05/2019",
          "09/06/2019",
          "09/07/2019",
          "09/08/2019",
          "09/09/2019"
         ],
         "y": [
          0,
          0,
          0,
          0,
          0,
          0,
          93,
          183,
          56,
          69,
          37,
          16,
          11,
          14
         ]
        },
        {
         "name": "xenophobia",
         "type": "scatter",
         "x": [
          "08/27/2019",
          "08/28/2019",
          "08/29/2019",
          "08/30/2019",
          "08/31/2019",
          "09/01/2019",
          "09/02/2019",
          "09/03/2019",
          "09/04/2019",
          "09/05/2019",
          "09/06/2019",
          "09/07/2019",
          "09/08/2019",
          "09/09/2019"
         ],
         "y": [
          0,
          1,
          0,
          0,
          0,
          0,
          154,
          204,
          41,
          11,
          5,
          3,
          6,
          9
         ]
        },
        {
         "name": "saynotoxenophobia",
         "type": "scatter",
         "x": [
          "08/27/2019",
          "08/28/2019",
          "08/29/2019",
          "08/30/2019",
          "08/31/2019",
          "09/01/2019",
          "09/02/2019",
          "09/03/2019",
          "09/04/2019",
          "09/05/2019",
          "09/06/2019",
          "09/07/2019",
          "09/08/2019",
          "09/09/2019"
         ],
         "y": [
          0,
          0,
          0,
          0,
          0,
          0,
          1,
          158,
          208,
          16,
          4,
          1,
          1,
          3
         ]
        },
        {
         "name": "joburgcbd",
         "type": "scatter",
         "x": [
          "08/27/2019",
          "08/28/2019",
          "08/29/2019",
          "08/30/2019",
          "08/31/2019",
          "09/01/2019",
          "09/02/2019",
          "09/03/2019",
          "09/04/2019",
          "09/05/2019",
          "09/06/2019",
          "09/07/2019",
          "09/08/2019",
          "09/09/2019"
         ],
         "y": [
          0,
          2,
          1,
          0,
          0,
          0,
          218,
          32,
          6,
          1,
          0,
          0,
          66,
          26
         ]
        },
        {
         "name": "pretoriacbd",
         "type": "scatter",
         "x": [
          "08/27/2019",
          "08/28/2019",
          "08/29/2019",
          "08/30/2019",
          "08/31/2019",
          "09/01/2019",
          "09/02/2019",
          "09/03/2019",
          "09/04/2019",
          "09/05/2019",
          "09/06/2019",
          "09/07/2019",
          "09/08/2019",
          "09/09/2019"
         ],
         "y": [
          4,
          142,
          17,
          2,
          0,
          1,
          99,
          49,
          7,
          1,
          0,
          0,
          0,
          2
         ]
        },
        {
         "name": "shutdownsouthafrica",
         "type": "scatter",
         "x": [
          "08/27/2019",
          "08/28/2019",
          "08/29/2019",
          "08/30/2019",
          "08/31/2019",
          "09/01/2019",
          "09/02/2019",
          "09/03/2019",
          "09/04/2019",
          "09/05/2019",
          "09/06/2019",
          "09/07/2019",
          "09/08/2019",
          "09/09/2019"
         ],
         "y": [
          0,
          0,
          0,
          0,
          0,
          0,
          8,
          257,
          31,
          6,
          3,
          1,
          1,
          0
         ]
        },
        {
         "name": "xenophobiainsouthafrica",
         "type": "scatter",
         "x": [
          "08/27/2019",
          "08/28/2019",
          "08/29/2019",
          "08/30/2019",
          "08/31/2019",
          "09/01/2019",
          "09/02/2019",
          "09/03/2019",
          "09/04/2019",
          "09/05/2019",
          "09/06/2019",
          "09/07/2019",
          "09/08/2019",
          "09/09/2019"
         ],
         "y": [
          0,
          0,
          0,
          0,
          0,
          0,
          0,
          0,
          186,
          38,
          19,
          12,
          8,
          11
         ]
        }
       ],
       "layout": {
        "legend": {
         "font": {
          "size": 16
         },
         "x": 1,
         "xanchor": "right"
        },
        "template": {
         "data": {
          "bar": [
           {
            "error_x": {
             "color": "#2a3f5f"
            },
            "error_y": {
             "color": "#2a3f5f"
            },
            "marker": {
             "line": {
              "color": "#E5ECF6",
              "width": 0.5
             }
            },
            "type": "bar"
           }
          ],
          "barpolar": [
           {
            "marker": {
             "line": {
              "color": "#E5ECF6",
              "width": 0.5
             }
            },
            "type": "barpolar"
           }
          ],
          "carpet": [
           {
            "aaxis": {
             "endlinecolor": "#2a3f5f",
             "gridcolor": "white",
             "linecolor": "white",
             "minorgridcolor": "white",
             "startlinecolor": "#2a3f5f"
            },
            "baxis": {
             "endlinecolor": "#2a3f5f",
             "gridcolor": "white",
             "linecolor": "white",
             "minorgridcolor": "white",
             "startlinecolor": "#2a3f5f"
            },
            "type": "carpet"
           }
          ],
          "choropleth": [
           {
            "colorbar": {
             "outlinewidth": 0,
             "ticks": ""
            },
            "type": "choropleth"
           }
          ],
          "contour": [
           {
            "colorbar": {
             "outlinewidth": 0,
             "ticks": ""
            },
            "colorscale": [
             [
              0,
              "#0d0887"
             ],
             [
              0.1111111111111111,
              "#46039f"
             ],
             [
              0.2222222222222222,
              "#7201a8"
             ],
             [
              0.3333333333333333,
              "#9c179e"
             ],
             [
              0.4444444444444444,
              "#bd3786"
             ],
             [
              0.5555555555555556,
              "#d8576b"
             ],
             [
              0.6666666666666666,
              "#ed7953"
             ],
             [
              0.7777777777777778,
              "#fb9f3a"
             ],
             [
              0.8888888888888888,
              "#fdca26"
             ],
             [
              1,
              "#f0f921"
             ]
            ],
            "type": "contour"
           }
          ],
          "contourcarpet": [
           {
            "colorbar": {
             "outlinewidth": 0,
             "ticks": ""
            },
            "type": "contourcarpet"
           }
          ],
          "heatmap": [
           {
            "colorbar": {
             "outlinewidth": 0,
             "ticks": ""
            },
            "colorscale": [
             [
              0,
              "#0d0887"
             ],
             [
              0.1111111111111111,
              "#46039f"
             ],
             [
              0.2222222222222222,
              "#7201a8"
             ],
             [
              0.3333333333333333,
              "#9c179e"
             ],
             [
              0.4444444444444444,
              "#bd3786"
             ],
             [
              0.5555555555555556,
              "#d8576b"
             ],
             [
              0.6666666666666666,
              "#ed7953"
             ],
             [
              0.7777777777777778,
              "#fb9f3a"
             ],
             [
              0.8888888888888888,
              "#fdca26"
             ],
             [
              1,
              "#f0f921"
             ]
            ],
            "type": "heatmap"
           }
          ],
          "heatmapgl": [
           {
            "colorbar": {
             "outlinewidth": 0,
             "ticks": ""
            },
            "colorscale": [
             [
              0,
              "#0d0887"
             ],
             [
              0.1111111111111111,
              "#46039f"
             ],
             [
              0.2222222222222222,
              "#7201a8"
             ],
             [
              0.3333333333333333,
              "#9c179e"
             ],
             [
              0.4444444444444444,
              "#bd3786"
             ],
             [
              0.5555555555555556,
              "#d8576b"
             ],
             [
              0.6666666666666666,
              "#ed7953"
             ],
             [
              0.7777777777777778,
              "#fb9f3a"
             ],
             [
              0.8888888888888888,
              "#fdca26"
             ],
             [
              1,
              "#f0f921"
             ]
            ],
            "type": "heatmapgl"
           }
          ],
          "histogram": [
           {
            "marker": {
             "colorbar": {
              "outlinewidth": 0,
              "ticks": ""
             }
            },
            "type": "histogram"
           }
          ],
          "histogram2d": [
           {
            "colorbar": {
             "outlinewidth": 0,
             "ticks": ""
            },
            "colorscale": [
             [
              0,
              "#0d0887"
             ],
             [
              0.1111111111111111,
              "#46039f"
             ],
             [
              0.2222222222222222,
              "#7201a8"
             ],
             [
              0.3333333333333333,
              "#9c179e"
             ],
             [
              0.4444444444444444,
              "#bd3786"
             ],
             [
              0.5555555555555556,
              "#d8576b"
             ],
             [
              0.6666666666666666,
              "#ed7953"
             ],
             [
              0.7777777777777778,
              "#fb9f3a"
             ],
             [
              0.8888888888888888,
              "#fdca26"
             ],
             [
              1,
              "#f0f921"
             ]
            ],
            "type": "histogram2d"
           }
          ],
          "histogram2dcontour": [
           {
            "colorbar": {
             "outlinewidth": 0,
             "ticks": ""
            },
            "colorscale": [
             [
              0,
              "#0d0887"
             ],
             [
              0.1111111111111111,
              "#46039f"
             ],
             [
              0.2222222222222222,
              "#7201a8"
             ],
             [
              0.3333333333333333,
              "#9c179e"
             ],
             [
              0.4444444444444444,
              "#bd3786"
             ],
             [
              0.5555555555555556,
              "#d8576b"
             ],
             [
              0.6666666666666666,
              "#ed7953"
             ],
             [
              0.7777777777777778,
              "#fb9f3a"
             ],
             [
              0.8888888888888888,
              "#fdca26"
             ],
             [
              1,
              "#f0f921"
             ]
            ],
            "type": "histogram2dcontour"
           }
          ],
          "mesh3d": [
           {
            "colorbar": {
             "outlinewidth": 0,
             "ticks": ""
            },
            "type": "mesh3d"
           }
          ],
          "parcoords": [
           {
            "line": {
             "colorbar": {
              "outlinewidth": 0,
              "ticks": ""
             }
            },
            "type": "parcoords"
           }
          ],
          "pie": [
           {
            "automargin": true,
            "type": "pie"
           }
          ],
          "scatter": [
           {
            "marker": {
             "colorbar": {
              "outlinewidth": 0,
              "ticks": ""
             }
            },
            "type": "scatter"
           }
          ],
          "scatter3d": [
           {
            "line": {
             "colorbar": {
              "outlinewidth": 0,
              "ticks": ""
             }
            },
            "marker": {
             "colorbar": {
              "outlinewidth": 0,
              "ticks": ""
             }
            },
            "type": "scatter3d"
           }
          ],
          "scattercarpet": [
           {
            "marker": {
             "colorbar": {
              "outlinewidth": 0,
              "ticks": ""
             }
            },
            "type": "scattercarpet"
           }
          ],
          "scattergeo": [
           {
            "marker": {
             "colorbar": {
              "outlinewidth": 0,
              "ticks": ""
             }
            },
            "type": "scattergeo"
           }
          ],
          "scattergl": [
           {
            "marker": {
             "colorbar": {
              "outlinewidth": 0,
              "ticks": ""
             }
            },
            "type": "scattergl"
           }
          ],
          "scattermapbox": [
           {
            "marker": {
             "colorbar": {
              "outlinewidth": 0,
              "ticks": ""
             }
            },
            "type": "scattermapbox"
           }
          ],
          "scatterpolar": [
           {
            "marker": {
             "colorbar": {
              "outlinewidth": 0,
              "ticks": ""
             }
            },
            "type": "scatterpolar"
           }
          ],
          "scatterpolargl": [
           {
            "marker": {
             "colorbar": {
              "outlinewidth": 0,
              "ticks": ""
             }
            },
            "type": "scatterpolargl"
           }
          ],
          "scatterternary": [
           {
            "marker": {
             "colorbar": {
              "outlinewidth": 0,
              "ticks": ""
             }
            },
            "type": "scatterternary"
           }
          ],
          "surface": [
           {
            "colorbar": {
             "outlinewidth": 0,
             "ticks": ""
            },
            "colorscale": [
             [
              0,
              "#0d0887"
             ],
             [
              0.1111111111111111,
              "#46039f"
             ],
             [
              0.2222222222222222,
              "#7201a8"
             ],
             [
              0.3333333333333333,
              "#9c179e"
             ],
             [
              0.4444444444444444,
              "#bd3786"
             ],
             [
              0.5555555555555556,
              "#d8576b"
             ],
             [
              0.6666666666666666,
              "#ed7953"
             ],
             [
              0.7777777777777778,
              "#fb9f3a"
             ],
             [
              0.8888888888888888,
              "#fdca26"
             ],
             [
              1,
              "#f0f921"
             ]
            ],
            "type": "surface"
           }
          ],
          "table": [
           {
            "cells": {
             "fill": {
              "color": "#EBF0F8"
             },
             "line": {
              "color": "white"
             }
            },
            "header": {
             "fill": {
              "color": "#C8D4E3"
             },
             "line": {
              "color": "white"
             }
            },
            "type": "table"
           }
          ]
         },
         "layout": {
          "annotationdefaults": {
           "arrowcolor": "#2a3f5f",
           "arrowhead": 0,
           "arrowwidth": 1
          },
          "coloraxis": {
           "colorbar": {
            "outlinewidth": 0,
            "ticks": ""
           }
          },
          "colorscale": {
           "diverging": [
            [
             0,
             "#8e0152"
            ],
            [
             0.1,
             "#c51b7d"
            ],
            [
             0.2,
             "#de77ae"
            ],
            [
             0.3,
             "#f1b6da"
            ],
            [
             0.4,
             "#fde0ef"
            ],
            [
             0.5,
             "#f7f7f7"
            ],
            [
             0.6,
             "#e6f5d0"
            ],
            [
             0.7,
             "#b8e186"
            ],
            [
             0.8,
             "#7fbc41"
            ],
            [
             0.9,
             "#4d9221"
            ],
            [
             1,
             "#276419"
            ]
           ],
           "sequential": [
            [
             0,
             "#0d0887"
            ],
            [
             0.1111111111111111,
             "#46039f"
            ],
            [
             0.2222222222222222,
             "#7201a8"
            ],
            [
             0.3333333333333333,
             "#9c179e"
            ],
            [
             0.4444444444444444,
             "#bd3786"
            ],
            [
             0.5555555555555556,
             "#d8576b"
            ],
            [
             0.6666666666666666,
             "#ed7953"
            ],
            [
             0.7777777777777778,
             "#fb9f3a"
            ],
            [
             0.8888888888888888,
             "#fdca26"
            ],
            [
             1,
             "#f0f921"
            ]
           ],
           "sequentialminus": [
            [
             0,
             "#0d0887"
            ],
            [
             0.1111111111111111,
             "#46039f"
            ],
            [
             0.2222222222222222,
             "#7201a8"
            ],
            [
             0.3333333333333333,
             "#9c179e"
            ],
            [
             0.4444444444444444,
             "#bd3786"
            ],
            [
             0.5555555555555556,
             "#d8576b"
            ],
            [
             0.6666666666666666,
             "#ed7953"
            ],
            [
             0.7777777777777778,
             "#fb9f3a"
            ],
            [
             0.8888888888888888,
             "#fdca26"
            ],
            [
             1,
             "#f0f921"
            ]
           ]
          },
          "colorway": [
           "#636efa",
           "#EF553B",
           "#00cc96",
           "#ab63fa",
           "#FFA15A",
           "#19d3f3",
           "#FF6692",
           "#B6E880",
           "#FF97FF",
           "#FECB52"
          ],
          "font": {
           "color": "#2a3f5f"
          },
          "geo": {
           "bgcolor": "white",
           "lakecolor": "white",
           "landcolor": "#E5ECF6",
           "showlakes": true,
           "showland": true,
           "subunitcolor": "white"
          },
          "hoverlabel": {
           "align": "left"
          },
          "hovermode": "closest",
          "mapbox": {
           "style": "light"
          },
          "paper_bgcolor": "white",
          "plot_bgcolor": "#E5ECF6",
          "polar": {
           "angularaxis": {
            "gridcolor": "white",
            "linecolor": "white",
            "ticks": ""
           },
           "bgcolor": "#E5ECF6",
           "radialaxis": {
            "gridcolor": "white",
            "linecolor": "white",
            "ticks": ""
           }
          },
          "scene": {
           "xaxis": {
            "backgroundcolor": "#E5ECF6",
            "gridcolor": "white",
            "gridwidth": 2,
            "linecolor": "white",
            "showbackground": true,
            "ticks": "",
            "zerolinecolor": "white"
           },
           "yaxis": {
            "backgroundcolor": "#E5ECF6",
            "gridcolor": "white",
            "gridwidth": 2,
            "linecolor": "white",
            "showbackground": true,
            "ticks": "",
            "zerolinecolor": "white"
           },
           "zaxis": {
            "backgroundcolor": "#E5ECF6",
            "gridcolor": "white",
            "gridwidth": 2,
            "linecolor": "white",
            "showbackground": true,
            "ticks": "",
            "zerolinecolor": "white"
           }
          },
          "shapedefaults": {
           "line": {
            "color": "#2a3f5f"
           }
          },
          "ternary": {
           "aaxis": {
            "gridcolor": "white",
            "linecolor": "white",
            "ticks": ""
           },
           "baxis": {
            "gridcolor": "white",
            "linecolor": "white",
            "ticks": ""
           },
           "bgcolor": "#E5ECF6",
           "caxis": {
            "gridcolor": "white",
            "linecolor": "white",
            "ticks": ""
           }
          },
          "title": {
           "x": 0.05
          },
          "xaxis": {
           "automargin": true,
           "gridcolor": "white",
           "linecolor": "white",
           "ticks": "",
           "title": {
            "standoff": 15
           },
           "zerolinecolor": "white",
           "zerolinewidth": 2
          },
          "yaxis": {
           "automargin": true,
           "gridcolor": "white",
           "linecolor": "white",
           "ticks": "",
           "title": {
            "standoff": 15
           },
           "zerolinecolor": "white",
           "zerolinewidth": 2
          }
         }
        },
        "title": {
         "font": {
          "size": 24
         },
         "text": "Weekly Popular Hashtags in South Africa During Johannesburg Riots",
         "x": 0.5,
         "xanchor": "center",
         "xref": "paper",
         "y": 0.9,
         "yanchor": "top"
        },
        "xaxis": {
         "tickfont": {
          "size": 14
         }
        },
        "yaxis": {
         "title": {
          "font": {
           "size": 18
          },
          "text": "Number of hashtags"
         }
        }
       }
      },
      "text/html": [
       "<div>\n",
       "        \n",
       "        \n",
       "            <div id=\"225ba39c-0817-488f-8c9d-49e5de905a48\" class=\"plotly-graph-div\" style=\"height:525px; width:100%;\"></div>\n",
       "            <script type=\"text/javascript\">\n",
       "                require([\"plotly\"], function(Plotly) {\n",
       "                    window.PLOTLYENV=window.PLOTLYENV || {};\n",
       "                    \n",
       "                if (document.getElementById(\"225ba39c-0817-488f-8c9d-49e5de905a48\")) {\n",
       "                    Plotly.newPlot(\n",
       "                        '225ba39c-0817-488f-8c9d-49e5de905a48',\n",
       "                        [{\"name\": \"uyinenemrwetyana\", \"type\": \"scatter\", \"x\": [\"08/27/2019\", \"08/28/2019\", \"08/29/2019\", \"08/30/2019\", \"08/31/2019\", \"09/01/2019\", \"09/02/2019\", \"09/03/2019\", \"09/04/2019\", \"09/05/2019\", \"09/06/2019\", \"09/07/2019\", \"09/08/2019\", \"09/09/2019\"], \"y\": [0, 0, 0, 3, 0, 0, 471, 73, 32, 8, 19, 68, 8, 3]}, {\"name\": \"enoughisenough\", \"type\": \"scatter\", \"x\": [\"08/27/2019\", \"08/28/2019\", \"08/29/2019\", \"08/30/2019\", \"08/31/2019\", \"09/01/2019\", \"09/02/2019\", \"09/03/2019\", \"09/04/2019\", \"09/05/2019\", \"09/06/2019\", \"09/07/2019\", \"09/08/2019\", \"09/09/2019\"], \"y\": [0, 0, 0, 1, 0, 0, 105, 222, 38, 95, 72, 38, 12, 27]}, {\"name\": \"sashutdown\", \"type\": \"scatter\", \"x\": [\"08/27/2019\", \"08/28/2019\", \"08/29/2019\", \"08/30/2019\", \"08/31/2019\", \"09/01/2019\", \"09/02/2019\", \"09/03/2019\", \"09/04/2019\", \"09/05/2019\", \"09/06/2019\", \"09/07/2019\", \"09/08/2019\", \"09/09/2019\"], \"y\": [0, 0, 0, 0, 0, 0, 194, 260, 55, 27, 10, 3, 0, 3]}, {\"name\": \"aminext\", \"type\": \"scatter\", \"x\": [\"08/27/2019\", \"08/28/2019\", \"08/29/2019\", \"08/30/2019\", \"08/31/2019\", \"09/01/2019\", \"09/02/2019\", \"09/03/2019\", \"09/04/2019\", \"09/05/2019\", \"09/06/2019\", \"09/07/2019\", \"09/08/2019\", \"09/09/2019\"], \"y\": [0, 0, 0, 0, 0, 0, 93, 183, 56, 69, 37, 16, 11, 14]}, {\"name\": \"xenophobia\", \"type\": \"scatter\", \"x\": [\"08/27/2019\", \"08/28/2019\", \"08/29/2019\", \"08/30/2019\", \"08/31/2019\", \"09/01/2019\", \"09/02/2019\", \"09/03/2019\", \"09/04/2019\", \"09/05/2019\", \"09/06/2019\", \"09/07/2019\", \"09/08/2019\", \"09/09/2019\"], \"y\": [0, 1, 0, 0, 0, 0, 154, 204, 41, 11, 5, 3, 6, 9]}, {\"name\": \"saynotoxenophobia\", \"type\": \"scatter\", \"x\": [\"08/27/2019\", \"08/28/2019\", \"08/29/2019\", \"08/30/2019\", \"08/31/2019\", \"09/01/2019\", \"09/02/2019\", \"09/03/2019\", \"09/04/2019\", \"09/05/2019\", \"09/06/2019\", \"09/07/2019\", \"09/08/2019\", \"09/09/2019\"], \"y\": [0, 0, 0, 0, 0, 0, 1, 158, 208, 16, 4, 1, 1, 3]}, {\"name\": \"joburgcbd\", \"type\": \"scatter\", \"x\": [\"08/27/2019\", \"08/28/2019\", \"08/29/2019\", \"08/30/2019\", \"08/31/2019\", \"09/01/2019\", \"09/02/2019\", \"09/03/2019\", \"09/04/2019\", \"09/05/2019\", \"09/06/2019\", \"09/07/2019\", \"09/08/2019\", \"09/09/2019\"], \"y\": [0, 2, 1, 0, 0, 0, 218, 32, 6, 1, 0, 0, 66, 26]}, {\"name\": \"pretoriacbd\", \"type\": \"scatter\", \"x\": [\"08/27/2019\", \"08/28/2019\", \"08/29/2019\", \"08/30/2019\", \"08/31/2019\", \"09/01/2019\", \"09/02/2019\", \"09/03/2019\", \"09/04/2019\", \"09/05/2019\", \"09/06/2019\", \"09/07/2019\", \"09/08/2019\", \"09/09/2019\"], \"y\": [4, 142, 17, 2, 0, 1, 99, 49, 7, 1, 0, 0, 0, 2]}, {\"name\": \"shutdownsouthafrica\", \"type\": \"scatter\", \"x\": [\"08/27/2019\", \"08/28/2019\", \"08/29/2019\", \"08/30/2019\", \"08/31/2019\", \"09/01/2019\", \"09/02/2019\", \"09/03/2019\", \"09/04/2019\", \"09/05/2019\", \"09/06/2019\", \"09/07/2019\", \"09/08/2019\", \"09/09/2019\"], \"y\": [0, 0, 0, 0, 0, 0, 8, 257, 31, 6, 3, 1, 1, 0]}, {\"name\": \"xenophobiainsouthafrica\", \"type\": \"scatter\", \"x\": [\"08/27/2019\", \"08/28/2019\", \"08/29/2019\", \"08/30/2019\", \"08/31/2019\", \"09/01/2019\", \"09/02/2019\", \"09/03/2019\", \"09/04/2019\", \"09/05/2019\", \"09/06/2019\", \"09/07/2019\", \"09/08/2019\", \"09/09/2019\"], \"y\": [0, 0, 0, 0, 0, 0, 0, 0, 186, 38, 19, 12, 8, 11]}],\n",
       "                        {\"legend\": {\"font\": {\"size\": 16}, \"x\": 1, \"xanchor\": \"right\"}, \"template\": {\"data\": {\"bar\": [{\"error_x\": {\"color\": \"#2a3f5f\"}, \"error_y\": {\"color\": \"#2a3f5f\"}, \"marker\": {\"line\": {\"color\": \"#E5ECF6\", \"width\": 0.5}}, \"type\": \"bar\"}], \"barpolar\": [{\"marker\": {\"line\": {\"color\": \"#E5ECF6\", \"width\": 0.5}}, \"type\": \"barpolar\"}], \"carpet\": [{\"aaxis\": {\"endlinecolor\": \"#2a3f5f\", \"gridcolor\": \"white\", \"linecolor\": \"white\", \"minorgridcolor\": \"white\", \"startlinecolor\": \"#2a3f5f\"}, \"baxis\": {\"endlinecolor\": \"#2a3f5f\", \"gridcolor\": \"white\", \"linecolor\": \"white\", \"minorgridcolor\": \"white\", \"startlinecolor\": \"#2a3f5f\"}, \"type\": \"carpet\"}], \"choropleth\": [{\"colorbar\": {\"outlinewidth\": 0, \"ticks\": \"\"}, \"type\": \"choropleth\"}], \"contour\": [{\"colorbar\": {\"outlinewidth\": 0, \"ticks\": \"\"}, \"colorscale\": [[0.0, \"#0d0887\"], [0.1111111111111111, \"#46039f\"], [0.2222222222222222, \"#7201a8\"], [0.3333333333333333, \"#9c179e\"], [0.4444444444444444, \"#bd3786\"], [0.5555555555555556, \"#d8576b\"], [0.6666666666666666, \"#ed7953\"], [0.7777777777777778, \"#fb9f3a\"], [0.8888888888888888, \"#fdca26\"], [1.0, \"#f0f921\"]], \"type\": \"contour\"}], \"contourcarpet\": [{\"colorbar\": {\"outlinewidth\": 0, \"ticks\": \"\"}, \"type\": \"contourcarpet\"}], \"heatmap\": [{\"colorbar\": {\"outlinewidth\": 0, \"ticks\": \"\"}, \"colorscale\": [[0.0, \"#0d0887\"], [0.1111111111111111, \"#46039f\"], [0.2222222222222222, \"#7201a8\"], [0.3333333333333333, \"#9c179e\"], [0.4444444444444444, \"#bd3786\"], [0.5555555555555556, \"#d8576b\"], [0.6666666666666666, \"#ed7953\"], [0.7777777777777778, \"#fb9f3a\"], [0.8888888888888888, \"#fdca26\"], [1.0, \"#f0f921\"]], \"type\": \"heatmap\"}], \"heatmapgl\": [{\"colorbar\": {\"outlinewidth\": 0, \"ticks\": \"\"}, \"colorscale\": [[0.0, \"#0d0887\"], [0.1111111111111111, \"#46039f\"], [0.2222222222222222, \"#7201a8\"], [0.3333333333333333, \"#9c179e\"], [0.4444444444444444, \"#bd3786\"], [0.5555555555555556, \"#d8576b\"], [0.6666666666666666, \"#ed7953\"], [0.7777777777777778, \"#fb9f3a\"], [0.8888888888888888, \"#fdca26\"], [1.0, \"#f0f921\"]], \"type\": \"heatmapgl\"}], \"histogram\": [{\"marker\": {\"colorbar\": {\"outlinewidth\": 0, \"ticks\": \"\"}}, \"type\": \"histogram\"}], \"histogram2d\": [{\"colorbar\": {\"outlinewidth\": 0, \"ticks\": \"\"}, \"colorscale\": [[0.0, \"#0d0887\"], [0.1111111111111111, \"#46039f\"], [0.2222222222222222, \"#7201a8\"], [0.3333333333333333, \"#9c179e\"], [0.4444444444444444, \"#bd3786\"], [0.5555555555555556, \"#d8576b\"], [0.6666666666666666, \"#ed7953\"], [0.7777777777777778, \"#fb9f3a\"], [0.8888888888888888, \"#fdca26\"], [1.0, \"#f0f921\"]], \"type\": \"histogram2d\"}], \"histogram2dcontour\": [{\"colorbar\": {\"outlinewidth\": 0, \"ticks\": \"\"}, \"colorscale\": [[0.0, \"#0d0887\"], [0.1111111111111111, \"#46039f\"], [0.2222222222222222, \"#7201a8\"], [0.3333333333333333, \"#9c179e\"], [0.4444444444444444, \"#bd3786\"], [0.5555555555555556, \"#d8576b\"], [0.6666666666666666, \"#ed7953\"], [0.7777777777777778, \"#fb9f3a\"], [0.8888888888888888, \"#fdca26\"], [1.0, \"#f0f921\"]], \"type\": \"histogram2dcontour\"}], \"mesh3d\": [{\"colorbar\": {\"outlinewidth\": 0, \"ticks\": \"\"}, \"type\": \"mesh3d\"}], \"parcoords\": [{\"line\": {\"colorbar\": {\"outlinewidth\": 0, \"ticks\": \"\"}}, \"type\": \"parcoords\"}], \"pie\": [{\"automargin\": true, \"type\": \"pie\"}], \"scatter\": [{\"marker\": {\"colorbar\": {\"outlinewidth\": 0, \"ticks\": \"\"}}, \"type\": \"scatter\"}], \"scatter3d\": [{\"line\": {\"colorbar\": {\"outlinewidth\": 0, \"ticks\": \"\"}}, \"marker\": {\"colorbar\": {\"outlinewidth\": 0, \"ticks\": \"\"}}, \"type\": \"scatter3d\"}], \"scattercarpet\": [{\"marker\": {\"colorbar\": {\"outlinewidth\": 0, \"ticks\": \"\"}}, \"type\": \"scattercarpet\"}], \"scattergeo\": [{\"marker\": {\"colorbar\": {\"outlinewidth\": 0, \"ticks\": \"\"}}, \"type\": \"scattergeo\"}], \"scattergl\": [{\"marker\": {\"colorbar\": {\"outlinewidth\": 0, \"ticks\": \"\"}}, \"type\": \"scattergl\"}], \"scattermapbox\": [{\"marker\": {\"colorbar\": {\"outlinewidth\": 0, \"ticks\": \"\"}}, \"type\": \"scattermapbox\"}], \"scatterpolar\": [{\"marker\": {\"colorbar\": {\"outlinewidth\": 0, \"ticks\": \"\"}}, \"type\": \"scatterpolar\"}], \"scatterpolargl\": [{\"marker\": {\"colorbar\": {\"outlinewidth\": 0, \"ticks\": \"\"}}, \"type\": \"scatterpolargl\"}], \"scatterternary\": [{\"marker\": {\"colorbar\": {\"outlinewidth\": 0, \"ticks\": \"\"}}, \"type\": \"scatterternary\"}], \"surface\": [{\"colorbar\": {\"outlinewidth\": 0, \"ticks\": \"\"}, \"colorscale\": [[0.0, \"#0d0887\"], [0.1111111111111111, \"#46039f\"], [0.2222222222222222, \"#7201a8\"], [0.3333333333333333, \"#9c179e\"], [0.4444444444444444, \"#bd3786\"], [0.5555555555555556, \"#d8576b\"], [0.6666666666666666, \"#ed7953\"], [0.7777777777777778, \"#fb9f3a\"], [0.8888888888888888, \"#fdca26\"], [1.0, \"#f0f921\"]], \"type\": \"surface\"}], \"table\": [{\"cells\": {\"fill\": {\"color\": \"#EBF0F8\"}, \"line\": {\"color\": \"white\"}}, \"header\": {\"fill\": {\"color\": \"#C8D4E3\"}, \"line\": {\"color\": \"white\"}}, \"type\": \"table\"}]}, \"layout\": {\"annotationdefaults\": {\"arrowcolor\": \"#2a3f5f\", \"arrowhead\": 0, \"arrowwidth\": 1}, \"coloraxis\": {\"colorbar\": {\"outlinewidth\": 0, \"ticks\": \"\"}}, \"colorscale\": {\"diverging\": [[0, \"#8e0152\"], [0.1, \"#c51b7d\"], [0.2, \"#de77ae\"], [0.3, \"#f1b6da\"], [0.4, \"#fde0ef\"], [0.5, \"#f7f7f7\"], [0.6, \"#e6f5d0\"], [0.7, \"#b8e186\"], [0.8, \"#7fbc41\"], [0.9, \"#4d9221\"], [1, \"#276419\"]], \"sequential\": [[0.0, \"#0d0887\"], [0.1111111111111111, \"#46039f\"], [0.2222222222222222, \"#7201a8\"], [0.3333333333333333, \"#9c179e\"], [0.4444444444444444, \"#bd3786\"], [0.5555555555555556, \"#d8576b\"], [0.6666666666666666, \"#ed7953\"], [0.7777777777777778, \"#fb9f3a\"], [0.8888888888888888, \"#fdca26\"], [1.0, \"#f0f921\"]], \"sequentialminus\": [[0.0, \"#0d0887\"], [0.1111111111111111, \"#46039f\"], [0.2222222222222222, \"#7201a8\"], [0.3333333333333333, \"#9c179e\"], [0.4444444444444444, \"#bd3786\"], [0.5555555555555556, \"#d8576b\"], [0.6666666666666666, \"#ed7953\"], [0.7777777777777778, \"#fb9f3a\"], [0.8888888888888888, \"#fdca26\"], [1.0, \"#f0f921\"]]}, \"colorway\": [\"#636efa\", \"#EF553B\", \"#00cc96\", \"#ab63fa\", \"#FFA15A\", \"#19d3f3\", \"#FF6692\", \"#B6E880\", \"#FF97FF\", \"#FECB52\"], \"font\": {\"color\": \"#2a3f5f\"}, \"geo\": {\"bgcolor\": \"white\", \"lakecolor\": \"white\", \"landcolor\": \"#E5ECF6\", \"showlakes\": true, \"showland\": true, \"subunitcolor\": \"white\"}, \"hoverlabel\": {\"align\": \"left\"}, \"hovermode\": \"closest\", \"mapbox\": {\"style\": \"light\"}, \"paper_bgcolor\": \"white\", \"plot_bgcolor\": \"#E5ECF6\", \"polar\": {\"angularaxis\": {\"gridcolor\": \"white\", \"linecolor\": \"white\", \"ticks\": \"\"}, \"bgcolor\": \"#E5ECF6\", \"radialaxis\": {\"gridcolor\": \"white\", \"linecolor\": \"white\", \"ticks\": \"\"}}, \"scene\": {\"xaxis\": {\"backgroundcolor\": \"#E5ECF6\", \"gridcolor\": \"white\", \"gridwidth\": 2, \"linecolor\": \"white\", \"showbackground\": true, \"ticks\": \"\", \"zerolinecolor\": \"white\"}, \"yaxis\": {\"backgroundcolor\": \"#E5ECF6\", \"gridcolor\": \"white\", \"gridwidth\": 2, \"linecolor\": \"white\", \"showbackground\": true, \"ticks\": \"\", \"zerolinecolor\": \"white\"}, \"zaxis\": {\"backgroundcolor\": \"#E5ECF6\", \"gridcolor\": \"white\", \"gridwidth\": 2, \"linecolor\": \"white\", \"showbackground\": true, \"ticks\": \"\", \"zerolinecolor\": \"white\"}}, \"shapedefaults\": {\"line\": {\"color\": \"#2a3f5f\"}}, \"ternary\": {\"aaxis\": {\"gridcolor\": \"white\", \"linecolor\": \"white\", \"ticks\": \"\"}, \"baxis\": {\"gridcolor\": \"white\", \"linecolor\": \"white\", \"ticks\": \"\"}, \"bgcolor\": \"#E5ECF6\", \"caxis\": {\"gridcolor\": \"white\", \"linecolor\": \"white\", \"ticks\": \"\"}}, \"title\": {\"x\": 0.05}, \"xaxis\": {\"automargin\": true, \"gridcolor\": \"white\", \"linecolor\": \"white\", \"ticks\": \"\", \"title\": {\"standoff\": 15}, \"zerolinecolor\": \"white\", \"zerolinewidth\": 2}, \"yaxis\": {\"automargin\": true, \"gridcolor\": \"white\", \"linecolor\": \"white\", \"ticks\": \"\", \"title\": {\"standoff\": 15}, \"zerolinecolor\": \"white\", \"zerolinewidth\": 2}}}, \"title\": {\"font\": {\"size\": 24}, \"text\": \"Weekly Popular Hashtags in South Africa During Johannesburg Riots\", \"x\": 0.5, \"xanchor\": \"center\", \"xref\": \"paper\", \"y\": 0.9, \"yanchor\": \"top\"}, \"xaxis\": {\"tickfont\": {\"size\": 14}}, \"yaxis\": {\"title\": {\"font\": {\"size\": 18}, \"text\": \"Number of hashtags\"}}},\n",
       "                        {\"responsive\": true}\n",
       "                    ).then(function(){\n",
       "                            \n",
       "var gd = document.getElementById('225ba39c-0817-488f-8c9d-49e5de905a48');\n",
       "var x = new MutationObserver(function (mutations, observer) {{\n",
       "        var display = window.getComputedStyle(gd).display;\n",
       "        if (!display || display === 'none') {{\n",
       "            console.log([gd, 'removed!']);\n",
       "            Plotly.purge(gd);\n",
       "            observer.disconnect();\n",
       "        }}\n",
       "}});\n",
       "\n",
       "// Listen for the removal of the full notebook cells\n",
       "var notebookContainer = gd.closest('#notebook-container');\n",
       "if (notebookContainer) {{\n",
       "    x.observe(notebookContainer, {childList: true});\n",
       "}}\n",
       "\n",
       "// Listen for the clearing of the current output cell\n",
       "var outputEl = gd.closest('.output');\n",
       "if (outputEl) {{\n",
       "    x.observe(outputEl, {childList: true});\n",
       "}}\n",
       "\n",
       "                        })\n",
       "                };\n",
       "                });\n",
       "            </script>\n",
       "        </div>"
      ]
     },
     "metadata": {},
     "output_type": "display_data"
    }
   ],
   "source": [
    "plot_weekly_popular_hashtags('ZA','09/03/2019',True,title=\"Weekly Popular Hashtags in South Africa During Johannesburg Riots\")"
   ]
  },
  {
   "cell_type": "code",
   "execution_count": null,
   "metadata": {},
   "outputs": [],
   "source": [
    "plot_weekly_popular_hashtags('ZA','08/26/2019',False)"
   ]
  },
  {
   "cell_type": "code",
   "execution_count": null,
   "metadata": {},
   "outputs": [],
   "source": [
    "plot_weekly_popular_hashtags('ZA','06/23/2016',False)"
   ]
  },
  {
   "cell_type": "code",
   "execution_count": null,
   "metadata": {},
   "outputs": [],
   "source": [
    "plot_weekly_popular_hashtags('ET','09/16/2018',True)"
   ]
  },
  {
   "cell_type": "code",
   "execution_count": null,
   "metadata": {},
   "outputs": [],
   "source": [
    "#Johannesburg riots\n",
    "#Date 1–5 September 2019\n",
    "#     8 September 2019"
   ]
  },
  {
   "cell_type": "code",
   "execution_count": null,
   "metadata": {
    "scrolled": false
   },
   "outputs": [],
   "source": [
    "acled_full[(acled_full.country=='South Africa') & (acled_full.event_date=='03 September 2019') ][['event_date','event_type', 'sub_event_type', \n",
    "                                 'country','location','notes', 'fatalities']]"
   ]
  },
  {
   "cell_type": "code",
   "execution_count": null,
   "metadata": {},
   "outputs": [],
   "source": [
    "#source: https://en.wikipedia.org/wiki/2016_Tshwane_riots\n",
    "show_plot('06/23/2016','ZA')"
   ]
  },
  {
   "cell_type": "code",
   "execution_count": null,
   "metadata": {},
   "outputs": [],
   "source": [
    "acled_full[(acled_full.country=='South Africa') & (acled_full.event_date=='23 June 2016') ][['event_date','event_type', 'sub_event_type', \n",
    "                                 'country','location','notes', 'fatalities']]\n",
    "\n"
   ]
  },
  {
   "cell_type": "code",
   "execution_count": null,
   "metadata": {},
   "outputs": [],
   "source": [
    "get_popular_hashtags('06/23/2016','ZA')"
   ]
  },
  {
   "cell_type": "code",
   "execution_count": null,
   "metadata": {},
   "outputs": [],
   "source": [
    "acled_ZA = acled_full[(acled_full.country=='South Africa')][['event_date','event_type', 'sub_event_type', \n",
    "                                 'country','location','notes', 'fatalities']]\n",
    "acled_ZA_gb = acled_ZA.groupby(\"event_date\")[\"event_date\"].count()\n",
    "\n",
    "fig = go.Figure()\n",
    "fig.add_trace(go.Histogram(histfunc=\"count\",x=acled_ZA_gb.values))\n",
    "fig.update_layout(\n",
    "        title={\n",
    "           # 'text': f\"Weekly Popular Hashtags in {country}\",\n",
    "            'y':0.9,\n",
    "            'x':0.5,\n",
    "            'xanchor': 'center',\n",
    "            'yanchor': 'top'},\n",
    "        xaxis_title='Number of events per day',\n",
    "        yaxis_title='Number of days'   \n",
    "    )\n",
    "fig.show()"
   ]
  },
  {
   "cell_type": "code",
   "execution_count": null,
   "metadata": {},
   "outputs": [],
   "source": [
    "#making a dictionary with number of total tweets and number of filtered tweets \n",
    "input_folder = '/home/aadelucia/files/minerva/raw_tweets_deduplicated/tweets_en'\n",
    "counts_dict = {}\n",
    "for file in (os.listdir(input_folder)):\n",
    "    if ('ZA' in str(file)):\n",
    "        #print(file[:10])\n",
    "        try:\n",
    "            with open(f'/export/b03/achinta3/files/filtered_tweets/{file}_filtered.txt', 'r') as f:\n",
    "                filtered_tweets=json.load(f)\n",
    "        except:\n",
    "            continue\n",
    "\n",
    "        reader = TweetReader(f'/home/aadelucia/files/minerva/raw_tweets_deduplicated/tweets_en/{file}')\n",
    "        alltweets = list(reader.read_tweets())\n",
    "        sub_dict = {}\n",
    "        \n",
    "        sub_dict['all tweets'] = len(alltweets)\n",
    "        sub_dict['filtered tweets'] = len(filtered_tweets)\n",
    "        counts_dict[str(file)[:10]] = sub_dict"
   ]
  },
  {
   "cell_type": "code",
   "execution_count": null,
   "metadata": {},
   "outputs": [],
   "source": [
    "ratios = []\n",
    "for value in counts_dict.values():\n",
    "    ratios.append(value['filtered tweets']/value['all tweets'])\n",
    "df_ratios = pd.DataFrame(counts_dict).transpose().reset_index()\n",
    "df_ratios['ratio']=df_ratios['filtered tweets']/df_ratios['all tweets']"
   ]
  },
  {
   "cell_type": "code",
   "execution_count": null,
   "metadata": {},
   "outputs": [],
   "source": [
    "acled_ZA_df = pd.DataFrame(list(zip(acled_ZA_gb.keys(),acled_ZA_gb.values)),columns=['date','count'])\n",
    "acled_ZA_df.date = acled_ZA_df.date.apply(lambda x: datetime.strptime(x, '%d %B %Y').strftime('%Y_%m_%d'))\n",
    "df_ratios.join(acled_ZA_df,lsuffix='index',rsuffix='date')\n",
    "merged_df = pd.merge(df_ratios, acled_ZA_df, left_on='index', right_on='date',how='left')\n",
    "merged_df"
   ]
  },
  {
   "cell_type": "code",
   "execution_count": null,
   "metadata": {},
   "outputs": [],
   "source": [
    "merged_df['count'] = merged_df['count'].fillna(0)"
   ]
  },
  {
   "cell_type": "code",
   "execution_count": null,
   "metadata": {},
   "outputs": [],
   "source": [
    "#Here we try to get the accuracy metrics with different combinations of ratio and count (of events per day) thresholds\n",
    "from sklearn.metrics import f1_score\n",
    "\n",
    "def get_f1(ratio,count):\n",
    "    pred_labels = np.array(merged_df.ratio>ratio)\n",
    "    true_labels = np.array(merged_df['count']>=count)\n",
    "    return f1_score(true_labels,pred_labels)\n",
    "\n",
    "def get_accuracy(ratio,count):\n",
    "    a = np.array(merged_df.ratio>ratio)\n",
    "    b = np.array(merged_df['count']>count)\n",
    "    y = np.invert(a^b)\n",
    "    return np.sum(y)/len(y)\n",
    "\n",
    "def get_dates(ratio,count):\n",
    "    a = np.array(merged_df.ratio>ratio)\n",
    "    b = np.array(merged_df['count']>count)\n",
    "    y = np.invert(a^b)\n",
    "    return merged_df[a&b]\n",
    "    \n",
    "get_accuracy(0.12,4)"
   ]
  },
  {
   "cell_type": "code",
   "execution_count": null,
   "metadata": {},
   "outputs": [],
   "source": [
    "ratios=[0.01,0.02,0.03,0.04,0.05,0.06,0.07,0.08,0.09,0.1,0.11,0.12,0.13,0.14,0.15,0.16,0.17,0.18,0.19,0.2]\n",
    "counts = [1,2,3,4,5,6,7,8,9,10]\n",
    "\n",
    "d1 = {}\n",
    "for c in counts:\n",
    "    temp =[]\n",
    "    for r in ratios:\n",
    "        print(f'accuracy for {r} and {c} : {get_accuracy(r,c)}')\n",
    "        temp.append(get_accuracy(r,c))\n",
    "        d1[c]=temp"
   ]
  },
  {
   "cell_type": "code",
   "execution_count": null,
   "metadata": {},
   "outputs": [],
   "source": [
    "fig = go.Figure()\n",
    "\n",
    "# Add traces\n",
    "fig.add_trace(go.Scatter(x=ratios,y=d1[1],name='1 event or more per day'))\n",
    "fig.add_trace(go.Scatter(x=ratios,y=d1[2],name='2 events or more per day'))\n",
    "fig.add_trace(go.Scatter(x=ratios,y=d1[3],name='3 events or more per day'))\n",
    "fig.add_trace(go.Scatter(x=ratios,y=d1[4],name='4 events or more per day'))\n",
    "fig.add_trace(go.Scatter(x=ratios,y=d1[5],name='5 events or more per day'))\n",
    "fig.add_trace(go.Scatter(x=ratios,y=d1[6],name='6 events or more per day'))\n",
    "\n",
    "fig.update_layout(\n",
    "    #title=\"Plot Title\",\n",
    "    xaxis_title=\"Ratio of civil unrest tweets\",\n",
    "    yaxis_title=\"Accuracy score\"\n",
    "    \n",
    ")\n",
    "fig.show()"
   ]
  },
  {
   "cell_type": "code",
   "execution_count": null,
   "metadata": {},
   "outputs": [],
   "source": [
    "ratios=[0.01,0.02,0.03,0.04,0.05,0.06,0.07,0.08,0.09,0.1,0.11,0.12,0.13,0.14,0.15,0.16,0.17,0.18,0.19,0.2]\n",
    "counts = [1,2,3,4,5,6,7,8,9,10]\n",
    "\n",
    "d = {}\n",
    "for c in counts:\n",
    "    temp =[]\n",
    "    for r in ratios:\n",
    "        print(f'f1 score for {r} and {c} : {get_f1(r,c)}')\n",
    "        temp.append(get_f1(r,c))\n",
    "        d[c]=temp"
   ]
  },
  {
   "cell_type": "code",
   "execution_count": null,
   "metadata": {},
   "outputs": [],
   "source": [
    "fig = go.Figure()\n",
    "\n",
    "# Add traces\n",
    "fig.add_trace(go.Scatter(x=ratios,y=d[1],name='1 event or more per day'))\n",
    "fig.add_trace(go.Scatter(x=ratios,y=d[2],name='2 events or more per day'))\n",
    "fig.add_trace(go.Scatter(x=ratios,y=d[3],name='3 events or more per day'))\n",
    "fig.add_trace(go.Scatter(x=ratios,y=d[4],name='4 events or more per day'))\n",
    "fig.add_trace(go.Scatter(x=ratios,y=d[5],name='5 events or more per day'))\n",
    "fig.add_trace(go.Scatter(x=ratios,y=d[6],name='6 events or more per day'))\n",
    "\n",
    "fig.update_layout(\n",
    "    #title=\"Plot Title\",\n",
    "    xaxis_title=\"Ratio of civil unrest tweets\",\n",
    "    yaxis_title=\"F1 score\"\n",
    "    \n",
    ")\n",
    "fig.show()"
   ]
  },
  {
   "cell_type": "code",
   "execution_count": null,
   "metadata": {},
   "outputs": [],
   "source": [
    "df_high_risk = get_dates(0.12,4)"
   ]
  },
  {
   "cell_type": "code",
   "execution_count": null,
   "metadata": {},
   "outputs": [],
   "source": [
    "def get_events_from_date(date):\n",
    "    #date = datetime.strptime(date, '%Y_%m_%d').strftime('%d %B %Y')\n",
    "    return acled_full[(acled_full.country=='South Africa') & (acled_full.event_date==date) ][['event_date','event_type', 'sub_event_type', \n",
    "                                 'country','location','notes', 'fatalities']]\n"
   ]
  },
  {
   "cell_type": "code",
   "execution_count": null,
   "metadata": {},
   "outputs": [],
   "source": [
    "get_popular_hashtags(datetime.strptime(df_high_risk.iloc[3]['index'], '%Y_%m_%d').strftime('%m/%d/%Y'),'ZA')"
   ]
  },
  {
   "cell_type": "code",
   "execution_count": null,
   "metadata": {},
   "outputs": [],
   "source": [
    "get_events_from_date(datetime.strptime(df_high_risk.iloc[3]['index'], '%Y_%m_%d').strftime('%d %B %Y'))"
   ]
  },
  {
   "cell_type": "code",
   "execution_count": null,
   "metadata": {},
   "outputs": [],
   "source": [
    "get_events_from_date('17 March 2016')"
   ]
  },
  {
   "cell_type": "code",
   "execution_count": null,
   "metadata": {},
   "outputs": [],
   "source": [
    "#Total number of fatalities per day\n",
    "acled_full_copy = acled_full.copy()\n",
    "acled_full_copy.event_date =  acled_full_copy.event_date.apply(lambda x:datetime.strptime(x, '%d %B %Y').strftime('%Y/%m/%d') )\n",
    "acled_gb_fatalities = acled_full_copy.groupby([\"event_date\",\"country\"])[\"fatalities\"].sum().reset_index()\n",
    "acled_gb_fatalities"
   ]
  },
  {
   "cell_type": "code",
   "execution_count": null,
   "metadata": {},
   "outputs": [],
   "source": [
    "#total number of events per day\n",
    "acled_full_copy = acled_full.copy()\n",
    "acled_full_copy.event_date =  acled_full_copy.event_date.apply(lambda x:datetime.strptime(x, '%d %B %Y').strftime('%Y/%m/%d') )\n",
    "acled_gb = acled_full_copy.groupby([\"event_date\",\"country\"])[\"event_date\"].count().reset_index(name='events')\n",
    "acled_gb\n"
   ]
  },
  {
   "cell_type": "code",
   "execution_count": null,
   "metadata": {},
   "outputs": [],
   "source": [
    "acled_gb['fatalities']=acled_gb_fatalities['fatalities']\n",
    "acled_gb"
   ]
  },
  {
   "cell_type": "code",
   "execution_count": null,
   "metadata": {},
   "outputs": [],
   "source": [
    "acled_gb.to_csv(\"acled_daily_events_by_country.csv\", index=False)"
   ]
  },
  {
   "cell_type": "code",
   "execution_count": null,
   "metadata": {},
   "outputs": [],
   "source": [
    "def hashtag_trends(datestr,hashtag,country='ZA'):\n",
    "    date = datetime.strptime(datestr, \"%m/%d/%Y\")\n",
    "    start_date = date - timedelta(days=7)\n",
    "    end_date = date + timedelta(days=7)\n",
    "    hashtag_count = {}\n",
    " \n",
    "    for date in (start_date + timedelta(n) for n in range(14)):\n",
    "        file_name = date.strftime('%Y_%m_%d')+f'_{country}.gz'\n",
    "        try:\n",
    "            reader = TweetReader(f'/home/aadelucia/files/minerva/raw_tweets_deduplicated/tweets_en/{file_name}')\n",
    "            tweets = list(reader.read_tweets()) \n",
    "        except:\n",
    "            continue\n",
    "        count = 0\n",
    "        for tweet in tweets:\n",
    "            hashtags_list = tweet.get('entities').get('hashtags')\n",
    "            if len(hashtags_list)==0:\n",
    "                continue\n",
    "            for h in hashtags_list:\n",
    "                if h.get('text').lower() == hashtag:\n",
    "                    count+=1\n",
    "        hashtag_count[date.strftime('%m/%d/%Y')]=count\n",
    "    \n",
    "    #return hashtag_count\n",
    "    scatter = go.Scatter(x=list(hashtag_count.keys()),y=list(hashtag_count.values()))\n",
    "    layout = go.Layout(title=f'trend over time for #{hashtag}',yaxis={'title': 'number of hashtags'})\n",
    "    fig = go.Figure(data=[scatter], layout=layout)\n",
    "    fig.show()\n",
    "\n",
    "#show_plot('02/03/2015','BD')\n",
    "hashtag_trends('06/15/2017','taxistrike')"
   ]
  },
  {
   "cell_type": "code",
   "execution_count": null,
   "metadata": {},
   "outputs": [],
   "source": [
    "scatter = go.Scatter(x=list(h.keys()),y=list(h.values()))\n",
    "layout = go.Layout(title='trend over time for #taxistrike',yaxis={'title': 'number of hashtags'})\n",
    "fig = go.Figure(data=[scatter], layout=layout)\n",
    "fig.show()"
   ]
  },
  {
   "cell_type": "code",
   "execution_count": null,
   "metadata": {},
   "outputs": [],
   "source": [
    "def get_popular_users(datestr,country):\n",
    "    #datestr = '09/03/2019'\n",
    "    #country = 'ZA'\n",
    "    date = datetime.strptime(datestr, \"%m/%d/%Y\")\n",
    "    file_name = date.strftime('%Y_%m_%d')+f'_{country}.gz'\n",
    "    with open(f'/export/b03/achinta3/files/filtered_tweets/{file_name}_filtered.txt', 'r') as f:\n",
    "                    tweets=json.load(f) \n",
    "\n",
    "    users_favs = {}\n",
    "    for tweet in tweets:\n",
    "        username = tweet.get('user').get('screen_name')\n",
    "        fav_count = tweet['favorite_count']\n",
    "        if not username in users_favs:\n",
    "            users_favs[username] = fav_count\n",
    "        else:\n",
    "            users_favs[username] += fav_count\n",
    "        \n",
    "    return users_favs"
   ]
  },
  {
   "cell_type": "code",
   "execution_count": null,
   "metadata": {},
   "outputs": [],
   "source": [
    "d = get_popular_users('09/03/2019','ZA')\n",
    "dict(sorted(d.items(), key=lambda item: item[1]))"
   ]
  },
  {
   "cell_type": "code",
   "execution_count": null,
   "metadata": {},
   "outputs": [],
   "source": [
    "    #checking percentage of tweets from verified users  \n",
    "    datestr = '08/26/2019'\n",
    "    country = 'ZA'\n",
    "    date = datetime.strptime(datestr, \"%m/%d/%Y\")\n",
    "    file_name = date.strftime('%Y_%m_%d')+f'_{country}.gz'\n",
    "    reader = TweetReader(f'/home/aadelucia/files/minerva/raw_tweets_deduplicated/tweets_en/{file_name}')\n",
    "    alltweets = list(reader.read_tweets())\n",
    "\n",
    "    users_favs = {}\n",
    "    verified_tweets = []\n",
    "    for tweet in alltweets:\n",
    "        if tweet['user']['verified']:\n",
    "            verified_tweets.append(tweet['text'])\n",
    "    print(len(verified_tweets)/len(alltweets))\n"
   ]
  },
  {
   "cell_type": "code",
   "execution_count": null,
   "metadata": {},
   "outputs": [],
   "source": [
    "    ###Incorrectly classified tweets\n",
    "    datestr = '09/03/2019'\n",
    "    country = 'ZA'\n",
    "    date = datetime.strptime(datestr, \"%m/%d/%Y\")\n",
    "    file_name = date.strftime('%Y_%m_%d')+f'_{country}.gz'\n",
    "    with open(f'/export/b03/achinta3/files/filtered_tweets/{file_name}_filtered.txt', 'r') as f:\n",
    "                    tweets=json.load(f) \n",
    "\n",
    "    wrong_preds = []\n",
    "    for tweet in tweets:\n",
    "        if tweet['user']['verified']:\n",
    "        #username = tweet.get('user').get('screen_name')\n",
    "        #fav_count = tweet['favorite_count']\n",
    "            if tweet['user']['description'] == \"We report traffic flows on Cape Town Freeways, N1 till the Tunnel, N2 to Sir Lowry's Pass, N7 to Potsdam, R300 and M5 between N1 and N2 https://t.co/M3tvQK9v2C\":\n",
    "                wrong_preds.append(tweet['text'])\n",
    "            \n",
    "    print(len(wrong_preds))"
   ]
  },
  {
   "cell_type": "code",
   "execution_count": null,
   "metadata": {},
   "outputs": [],
   "source": [
    "with open('/home/achinta3/files/wrong_preds.txt', 'w') as f:\n",
    "    f.write(\"\\n\".join(wrong_preds))"
   ]
  },
  {
   "cell_type": "code",
   "execution_count": null,
   "metadata": {},
   "outputs": [],
   "source": [
    "from collections import Counter\n",
    "Counter(verified_tweets).most_common(100)"
   ]
  },
  {
   "cell_type": "code",
   "execution_count": null,
   "metadata": {},
   "outputs": [],
   "source": [
    "    datestr = '07/06/2016'\n",
    "    country = 'ZA'\n",
    "    date = datetime.strptime(datestr, \"%m/%d/%Y\")\n",
    "    file_name = date.strftime('%Y_%m_%d')+f'_{country}.gz'\n",
    "    with open(f'/export/b03/achinta3/files/filtered_tweets/{file_name}_filtered.txt', 'r') as f:\n",
    "                    tweets=json.load(f) \n",
    "\n",
    "    verified_tweets = []\n",
    "    for tweet in tweets:\n",
    "        if tweet['user']['verified']:\n",
    "        #username = tweet.get('user').get('screen_name')\n",
    "        #fav_count = tweet['favorite_count']\n",
    "            print('TWEET: '+tweet['text'])\n",
    "            print(tweet['id'])\n",
    "            print('BIO:')\n",
    "            print(tweet.get('user').get('description'))\n",
    "            print('=========================================')\n",
    "            verified_tweets.append(tweet['user']['description'])\n",
    "            \n",
    "    print(len(verified_tweets))\n",
    "        "
   ]
  },
  {
   "cell_type": "code",
   "execution_count": null,
   "metadata": {},
   "outputs": [],
   "source": [
    "Counter(verified_tweets).most_common(100)"
   ]
  },
  {
   "cell_type": "code",
   "execution_count": null,
   "metadata": {},
   "outputs": [],
   "source": [
    "import gzip\n",
    "import json\n",
    "from littlebird import TweetReader\n",
    "import os\n",
    "from collections import Counter\n",
    "\n",
    "#f=gzip.open('/home/achinta3/files/test1o/test.txt_out.gz','rb')\n",
    "#print(f.read())\n",
    "\n",
    "input_folder = '/home/achinta3/files/test_out'\n",
    "d = {}\n",
    "d1 ={}\n",
    "for file in os.listdir(input_folder):\n",
    "    reader = TweetReader(os.path.join(input_folder,file))\n",
    "    tweets = list(reader.read_tweets())\n",
    "    count=0\n",
    "    for tweet in tweets:\n",
    "        count+=tweet['favorite_count'] \n",
    "    d[file[:10]]=(count,count/len(tweets))\n",
    "    d1[file[:10]]=sorted(tweets, key=lambda k: k['favorite_count'],reverse=True)[:20]\n",
    "    #s_tweets = sorted(alltweets, key=lambda k: k['favorite_count']) \n",
    "#alltweets"
   ]
  },
  {
   "cell_type": "code",
   "execution_count": null,
   "metadata": {},
   "outputs": [],
   "source": [
    "import plotly.graph_objects as go\n",
    "scatter = go.Scatter(x=list(d.keys()),y=list(i[1] for i in d.values()))\n",
    "layout = go.Layout(title='likes per day (filtered dataset)',yaxis={'title': 'avg likes per tweet'})\n",
    "fig = go.Figure(data=[scatter], layout=layout)\n",
    "fig.show()"
   ]
  },
  {
   "cell_type": "code",
   "execution_count": null,
   "metadata": {},
   "outputs": [],
   "source": [
    "df = pd.DataFrame.from_dict(d_user).T\n",
    "df.reset_index(level=0, inplace=True)\n",
    "df"
   ]
  },
  {
   "cell_type": "code",
   "execution_count": null,
   "metadata": {},
   "outputs": [],
   "source": [
    "df_influencial = df.sort_values('likes',ascending=False)[:200]\n",
    "df_influencial = df_influencial.rename(columns={'index': 'username'})\n",
    "df_influencial"
   ]
  },
  {
   "cell_type": "code",
   "execution_count": null,
   "metadata": {},
   "outputs": [],
   "source": [
    "input_folder = '/home/aadelucia/files/minerva/raw_tweets_deduplicated/tweets_en/'\n",
    "d_user = {}\n",
    "for file in os.listdir(input_folder):\n",
    "    #since updating likes script takes forever, I worked on a small subset\n",
    "    if file in ['2018_09_13_ET.gz','2018_09_14_ET.gz','2018_09_15_ET.gz','2018_09_16_ET.gz','2018_09_17_ET.gz','2018_09_18_ET.gz','2018_09_19_ET.gz']:\n",
    "        reader = TweetReader(os.path.join(input_folder,file))\n",
    "        tweets = list(reader.read_tweets())\n",
    "        #print(file)\n",
    "        #print(tweets)\n",
    "        #break\n",
    "        for tweet in tweets:\n",
    "            if tweet.get('deleted'):continue\n",
    "            if not tweet.get('civil_unrest_related'):continue\n",
    "            if not tweet.get('user').get('screen_name') in d_user:\n",
    "                d_user[tweet.get('user').get('screen_name')]={'likes':tweet.get('updated_likes'),\n",
    "                                                              'verified':tweet.get('user').get('verified'),\n",
    "                                                              'bio':tweet.get('user').get('description'),\n",
    "                                                              'n_tweets':1}\n",
    "            else:\n",
    "                d_user[tweet.get('user').get('screen_name')]['likes']+=tweet.get('updated_likes')\n",
    "                d_user[tweet.get('user').get('screen_name')]['n_tweets']+=1"
   ]
  },
  {
   "cell_type": "code",
   "execution_count": null,
   "metadata": {},
   "outputs": [],
   "source": [
    "#Here I displayed the most popular users who tweeted that week\n",
    "df = pd.DataFrame.from_dict(d_user).T\n",
    "df.reset_index(level=0, inplace=True)\n",
    "df_influencial = df.sort_values('likes',ascending=False)[:200]\n",
    "df_influencial = df_influencial.rename(columns={'index': 'username'})\n",
    "df_influencial"
   ]
  }
 ],
 "metadata": {
  "kernelspec": {
   "display_name": "Python 3",
   "language": "python",
   "name": "python3"
  },
  "language_info": {
   "codemirror_mode": {
    "name": "ipython",
    "version": 3
   },
   "file_extension": ".py",
   "mimetype": "text/x-python",
   "name": "python",
   "nbconvert_exporter": "python",
   "pygments_lexer": "ipython3",
   "version": "3.7.6"
  }
 },
 "nbformat": 4,
 "nbformat_minor": 4
}
